{
 "cells": [
  {
   "cell_type": "code",
   "execution_count": 391,
   "metadata": {
    "collapsed": true
   },
   "outputs": [],
   "source": [
    "%matplotlib inline \n",
    "\n",
    "import numpy as np\n",
    "import matplotlib.pyplot as plt\n",
    "import pandas as pd\n",
    "import datetime\n",
    "import timeit\n",
    "import math\n",
    "\n",
    "import sklearn\n",
    "import statsmodels as sm\n",
    "import scipy.stats as stats \n",
    "import colormaps as cmaps\n",
    "\n",
    "import shapefile as sf\n",
    "from matplotlib.patches import Polygon\n",
    "import mpld3\n",
    "\n",
    "from pyproj import Proj\n",
    "from censusgeocode import CensusGeocode\n",
    "from matplotlib.collections import PatchCollection\n",
    "\n",
    "import smopy"
   ]
  },
  {
   "cell_type": "markdown",
   "metadata": {},
   "source": [
    "- Read in the information from the Historic Secured Property Tax Rolls. \n",
    "- We only care about R-2 properties\n",
    "    - Apartments \n",
    "    - Condominiums \n",
    "    - Residential hotels \n",
    "    - All required to have three or more units\n",
    "\n",
    "First question, how do we extract the R-2 properties from the data set of properties? \n",
    "- Can set limits on UNITS\n",
    "- Can set limits on Property Codes"
   ]
  },
  {
   "cell_type": "code",
   "execution_count": 392,
   "metadata": {
    "collapsed": false
   },
   "outputs": [],
   "source": [
    "property_roll = pd.read_csv('challenge_datasets/Historic_Secured_Property_Tax_Rolls.csv')"
   ]
  },
  {
   "cell_type": "code",
   "execution_count": 393,
   "metadata": {
    "collapsed": true
   },
   "outputs": [],
   "source": [
    "# Multi-family residential codes: \n",
    "mfc = ['A', 'CO', 'DA', 'DD', 'DF', 'F', 'FA', 'F2', 'OA', 'TIA', 'TIF', 'XV', 'AC', '']\n",
    "# Condominimum residential codes: \n",
    "cc = ['Z', 'ZBM', 'LZ', 'LZBM', 'IZ', 'GZ', 'OZ', 'BZ']\n",
    "# Residential Hotel codes \n",
    "rhc = ['RH']\n",
    "\n",
    "# R2 codes \n",
    "r2_codes = mfc + cc + rhc"
   ]
  },
  {
   "cell_type": "code",
   "execution_count": 394,
   "metadata": {
    "collapsed": false
   },
   "outputs": [
    {
     "data": {
      "text/plain": [
       "19258"
      ]
     },
     "execution_count": 394,
     "metadata": {},
     "output_type": "execute_result"
    }
   ],
   "source": [
    "r2_index_yearly = np.where((property_roll['Property Class Code'].isin(r2_codes)==True) \n",
    "             & (property_roll['Closed Roll Fiscal Year']==2007)\n",
    "             & (property_roll['Number of Units']>=3))[0]\n",
    "len(r2_index_yearly)"
   ]
  },
  {
   "cell_type": "markdown",
   "metadata": {},
   "source": [
    "When I run the query above, I get around 19,000 properties for various years. Interestingly, this drops by about half when I run it for the year 2014. Perhaps the file wasn't fully complete for that year? \n",
    "\n",
    "The prompt specified that there are around 21,000 R-2s in SF, so I'm fairly close in my yearly property roll numbers. "
   ]
  },
  {
   "cell_type": "code",
   "execution_count": 395,
   "metadata": {
    "collapsed": false
   },
   "outputs": [],
   "source": [
    "# All r2 properties over all years\n",
    "r2_index = np.where((property_roll['Property Class Code'].isin(r2_codes)==True) \n",
    "             & (property_roll['Number of Units']>=3))[0]\n",
    "len(r2_index)\n",
    "\n",
    "pr = property_roll.loc[r2_index]\n",
    "\n",
    "pr.reset_index(drop=True, inplace=True)"
   ]
  },
  {
   "cell_type": "markdown",
   "metadata": {},
   "source": [
    "The fire inspection and property roll data lists the addresses in different ways. Below I modify the addresses in the property roll to make it easier to match with the fire data."
   ]
  },
  {
   "cell_type": "code",
   "execution_count": 396,
   "metadata": {
    "collapsed": false
   },
   "outputs": [],
   "source": [
    "pr['street_type'] = pr['Property Location'].str.strip().str.replace('0000', '').str.split(' ').str[-1:].str[0].str.replace('AV', 'AVE')\n",
    "\n",
    "pr['bulk'] = pr['Property Location'].str.replace('0000', '').str.strip().str.split(' ').str[:-1]\n",
    "\n",
    "pr['bulk'] = [' '.join(x) for x in pr['bulk']]\n",
    "\n",
    "pr['Address'] = pr['bulk'].str.strip() + ' ' + pr['street_type']"
   ]
  },
  {
   "cell_type": "code",
   "execution_count": 397,
   "metadata": {
    "collapsed": true
   },
   "outputs": [],
   "source": [
    "pr['year'] = pr['Closed Roll Fiscal Year']"
   ]
  },
  {
   "cell_type": "markdown",
   "metadata": {},
   "source": [
    "Now that I have a list of R-2 properties by year, I want to link this up with Fire Inspection/Violation information"
   ]
  },
  {
   "cell_type": "markdown",
   "metadata": {},
   "source": [
    "For the Fire Inspection data, we have the following useful info: \n",
    "- Address\n",
    "- Station Area \n",
    "- Complaint Number \n",
    "- Violation number \n",
    "- Neighborhood District \n",
    "- Location \n",
    "- Sent to Bureau of Delinquent Revenue"
   ]
  },
  {
   "cell_type": "code",
   "execution_count": 398,
   "metadata": {
    "collapsed": false
   },
   "outputs": [],
   "source": [
    "finspect = pd.read_csv('challenge_datasets/Fire_Inspections_after_01_01_2011.csv')"
   ]
  },
  {
   "cell_type": "code",
   "execution_count": 399,
   "metadata": {
    "collapsed": false
   },
   "outputs": [],
   "source": [
    "# I'm extracting the Inspection year so I can match with the property roll data on a yearly basis.\n",
    "finspect['year'] = pd.to_datetime(finspect['Inspection Start Date'], format=\"%m/%d/%Y\", utc=False).dt.year.astype(float)"
   ]
  },
  {
   "cell_type": "markdown",
   "metadata": {},
   "source": [
    "Modify the Fire Inspection addresses slightly to match them up with the Property records"
   ]
  },
  {
   "cell_type": "code",
   "execution_count": 400,
   "metadata": {
    "collapsed": true
   },
   "outputs": [],
   "source": [
    "finspect['Address_orig'] = finspect['Address']"
   ]
  },
  {
   "cell_type": "code",
   "execution_count": 401,
   "metadata": {
    "collapsed": true
   },
   "outputs": [],
   "source": [
    "finspect['Address'] = finspect['Address'].str.replace('  - ', ' ').str.upper().str.replace('   ', ' ').str.replace('  ', ' ')"
   ]
  },
  {
   "cell_type": "markdown",
   "metadata": {},
   "source": [
    "Number of Inspections per Year"
   ]
  },
  {
   "cell_type": "code",
   "execution_count": 402,
   "metadata": {
    "collapsed": false
   },
   "outputs": [
    {
     "data": {
      "text/plain": [
       "2011.0    18836\n",
       "2012.0    17967\n",
       "2013.0    18495\n",
       "2014.0    18601\n",
       "2015.0    21630\n",
       "2016.0    24957\n",
       "2017.0      523\n",
       "Name: year, dtype: int64"
      ]
     },
     "execution_count": 402,
     "metadata": {},
     "output_type": "execute_result"
    }
   ],
   "source": [
    "finspect['year'].value_counts().sort_index()"
   ]
  },
  {
   "cell_type": "markdown",
   "metadata": {},
   "source": [
    "Number of Inspections per Year by Type\n",
    "\n",
    "- The majority of inspections are dbi/annual/r2 company inspections. \n",
    "- In fourth place are inspections stemming from complaints. \n",
    "\n",
    "9.8% of all fire inspections are prompted by a citizen/resident complaint."
   ]
  },
  {
   "cell_type": "code",
   "execution_count": 403,
   "metadata": {
    "collapsed": false
   },
   "outputs": [
    {
     "data": {
      "text/plain": [
       "dbi inspection                                     0.229545\n",
       "permit annual inspection                           0.172772\n",
       "r1 company inspection                              0.168872\n",
       "complaint inspection                               0.098274\n",
       "permit approval inspection                         0.053219\n",
       "dph referral - non hazmat ref. insp.               0.047013\n",
       "place of assembly detail                           0.029717\n",
       "high rise annual inspection                        0.029518\n",
       "police dept. ref. insp.                            0.028609\n",
       "violation reinspection - nov                       0.018180\n",
       "r2 company inspection                              0.017462\n",
       "additional non-dbi inspection/plan review hours    0.012255\n",
       "school annual inspection                           0.011817\n",
       "follow up inspection                               0.010065\n",
       "highrise report writing                            0.009851\n",
       "high rise follow up inspection                     0.007925\n",
       "reinspection - no fee                              0.007396\n",
       "on-site consultation                               0.005074\n",
       "port permits                                       0.004983\n",
       "dss-community care license                         0.004405\n",
       "initial inspection                                 0.003339\n",
       "sro sprinkler ordinance inspection                 0.002917\n",
       "facility emergency plan review                     0.002677\n",
       "traccess installation                              0.002669\n",
       "oshpod  ref. insp.                                 0.002520\n",
       "bc place of assembly inspection                    0.002297\n",
       "request for fire clearance inspection              0.002074\n",
       "entertainment com. ref. insp.                      0.002016\n",
       "no time charged                                    0.001562\n",
       "dbi - job notification                             0.001306\n",
       "                                                     ...   \n",
       "dss-alcohol/drugs ref. insp.                       0.000455\n",
       "dept. of corrections ref. insp.                    0.000421\n",
       "evacuation floor plan review                       0.000297\n",
       "administrative citation                            0.000157\n",
       "dph referral - haz mat notification                0.000116\n",
       "institutional inspection/follow-up                 0.000107\n",
       "r-1 annual inspection follow up                    0.000083\n",
       "dhs-hospitals, skilled nursing                     0.000074\n",
       "alarm installation inspection                      0.000074\n",
       "greater alarm inspection                           0.000066\n",
       "dept. of public works ref. insp.                   0.000058\n",
       "dhs-adult day health center ref. insp.             0.000058\n",
       "plan check meetings/consultations                  0.000058\n",
       "airport truck/ fueler hydrant inspection           0.000050\n",
       "fire investigation - initial                       0.000041\n",
       "traccess maintenance                               0.000025\n",
       "day care inspection/follow up                      0.000025\n",
       "water flow street test                             0.000025\n",
       "rcf inspection/follow up                           0.000025\n",
       "dph-ccsf-aids clinic                               0.000017\n",
       "plan check preliminary/consultation                0.000017\n",
       "dbi ref. insp.                                     0.000017\n",
       "school inspection - follow up                      0.000017\n",
       "dph referral - ust closure ref. insp.              0.000017\n",
       "fire pump testing                                  0.000008\n",
       "plan check review - dbi referral                   0.000008\n",
       "special system inspection                          0.000008\n",
       "working fire response/inspection                   0.000008\n",
       "tank installation                                  0.000008\n",
       "plan check public assembly                         0.000008\n",
       "Name: Inspection Type Description, dtype: float64"
      ]
     },
     "execution_count": 403,
     "metadata": {},
     "output_type": "execute_result"
    }
   ],
   "source": [
    "finspect['Inspection Type Description'].value_counts().astype(float) / float(len(finspect))"
   ]
  },
  {
   "cell_type": "code",
   "execution_count": 404,
   "metadata": {
    "collapsed": false
   },
   "outputs": [
    {
     "data": {
      "text/html": [
       "<div>\n",
       "<table border=\"1\" class=\"dataframe\">\n",
       "  <thead>\n",
       "    <tr style=\"text-align: right;\">\n",
       "      <th></th>\n",
       "      <th>year</th>\n",
       "      <th>Inspection Type Description</th>\n",
       "      <th>Address</th>\n",
       "    </tr>\n",
       "  </thead>\n",
       "  <tbody>\n",
       "    <tr>\n",
       "      <th>314</th>\n",
       "      <td>2017.0</td>\n",
       "      <td>permit annual inspection</td>\n",
       "      <td>236</td>\n",
       "    </tr>\n",
       "    <tr>\n",
       "      <th>307</th>\n",
       "      <td>2017.0</td>\n",
       "      <td>dbi inspection</td>\n",
       "      <td>78</td>\n",
       "    </tr>\n",
       "    <tr>\n",
       "      <th>311</th>\n",
       "      <td>2017.0</td>\n",
       "      <td>high rise annual inspection</td>\n",
       "      <td>50</td>\n",
       "    </tr>\n",
       "    <tr>\n",
       "      <th>306</th>\n",
       "      <td>2017.0</td>\n",
       "      <td>complaint inspection</td>\n",
       "      <td>40</td>\n",
       "    </tr>\n",
       "    <tr>\n",
       "      <th>315</th>\n",
       "      <td>2017.0</td>\n",
       "      <td>permit approval inspection</td>\n",
       "      <td>36</td>\n",
       "    </tr>\n",
       "    <tr>\n",
       "      <th>321</th>\n",
       "      <td>2017.0</td>\n",
       "      <td>violation reinspection - nov</td>\n",
       "      <td>32</td>\n",
       "    </tr>\n",
       "    <tr>\n",
       "      <th>308</th>\n",
       "      <td>2017.0</td>\n",
       "      <td>dph referral - non hazmat ref. insp.</td>\n",
       "      <td>13</td>\n",
       "    </tr>\n",
       "    <tr>\n",
       "      <th>316</th>\n",
       "      <td>2017.0</td>\n",
       "      <td>police dept. ref. insp.</td>\n",
       "      <td>10</td>\n",
       "    </tr>\n",
       "    <tr>\n",
       "      <th>317</th>\n",
       "      <td>2017.0</td>\n",
       "      <td>reinspection - no fee</td>\n",
       "      <td>9</td>\n",
       "    </tr>\n",
       "    <tr>\n",
       "      <th>313</th>\n",
       "      <td>2017.0</td>\n",
       "      <td>oshpod  ref. insp.</td>\n",
       "      <td>5</td>\n",
       "    </tr>\n",
       "    <tr>\n",
       "      <th>305</th>\n",
       "      <td>2017.0</td>\n",
       "      <td>additional non-dbi inspection/plan review hours</td>\n",
       "      <td>4</td>\n",
       "    </tr>\n",
       "    <tr>\n",
       "      <th>318</th>\n",
       "      <td>2017.0</td>\n",
       "      <td>school annual inspection</td>\n",
       "      <td>4</td>\n",
       "    </tr>\n",
       "    <tr>\n",
       "      <th>310</th>\n",
       "      <td>2017.0</td>\n",
       "      <td>facility emergency plan review</td>\n",
       "      <td>2</td>\n",
       "    </tr>\n",
       "    <tr>\n",
       "      <th>309</th>\n",
       "      <td>2017.0</td>\n",
       "      <td>entertainment com. ref. insp.</td>\n",
       "      <td>1</td>\n",
       "    </tr>\n",
       "    <tr>\n",
       "      <th>312</th>\n",
       "      <td>2017.0</td>\n",
       "      <td>high rise follow up inspection</td>\n",
       "      <td>1</td>\n",
       "    </tr>\n",
       "    <tr>\n",
       "      <th>319</th>\n",
       "      <td>2017.0</td>\n",
       "      <td>technical inspection - construct</td>\n",
       "      <td>1</td>\n",
       "    </tr>\n",
       "    <tr>\n",
       "      <th>320</th>\n",
       "      <td>2017.0</td>\n",
       "      <td>traccess maintenance</td>\n",
       "      <td>1</td>\n",
       "    </tr>\n",
       "    <tr>\n",
       "      <th>261</th>\n",
       "      <td>2016.0</td>\n",
       "      <td>dbi inspection</td>\n",
       "      <td>5900</td>\n",
       "    </tr>\n",
       "    <tr>\n",
       "      <th>283</th>\n",
       "      <td>2016.0</td>\n",
       "      <td>permit annual inspection</td>\n",
       "      <td>4192</td>\n",
       "    </tr>\n",
       "    <tr>\n",
       "      <th>260</th>\n",
       "      <td>2016.0</td>\n",
       "      <td>complaint inspection</td>\n",
       "      <td>2911</td>\n",
       "    </tr>\n",
       "    <tr>\n",
       "      <th>292</th>\n",
       "      <td>2016.0</td>\n",
       "      <td>r1 company inspection</td>\n",
       "      <td>2537</td>\n",
       "    </tr>\n",
       "    <tr>\n",
       "      <th>293</th>\n",
       "      <td>2016.0</td>\n",
       "      <td>r2 company inspection</td>\n",
       "      <td>2113</td>\n",
       "    </tr>\n",
       "    <tr>\n",
       "      <th>284</th>\n",
       "      <td>2016.0</td>\n",
       "      <td>permit approval inspection</td>\n",
       "      <td>1327</td>\n",
       "    </tr>\n",
       "    <tr>\n",
       "      <th>303</th>\n",
       "      <td>2016.0</td>\n",
       "      <td>violation reinspection - nov</td>\n",
       "      <td>1016</td>\n",
       "    </tr>\n",
       "    <tr>\n",
       "      <th>266</th>\n",
       "      <td>2016.0</td>\n",
       "      <td>dph referral - non hazmat ref. insp.</td>\n",
       "      <td>974</td>\n",
       "    </tr>\n",
       "    <tr>\n",
       "      <th>275</th>\n",
       "      <td>2016.0</td>\n",
       "      <td>high rise annual inspection</td>\n",
       "      <td>618</td>\n",
       "    </tr>\n",
       "    <tr>\n",
       "      <th>289</th>\n",
       "      <td>2016.0</td>\n",
       "      <td>police dept. ref. insp.</td>\n",
       "      <td>528</td>\n",
       "    </tr>\n",
       "    <tr>\n",
       "      <th>298</th>\n",
       "      <td>2016.0</td>\n",
       "      <td>sro sprinkler ordinance inspection</td>\n",
       "      <td>353</td>\n",
       "    </tr>\n",
       "    <tr>\n",
       "      <th>286</th>\n",
       "      <td>2016.0</td>\n",
       "      <td>place of assembly detail</td>\n",
       "      <td>331</td>\n",
       "    </tr>\n",
       "    <tr>\n",
       "      <th>255</th>\n",
       "      <td>2016.0</td>\n",
       "      <td>additional non-dbi inspection/plan review hours</td>\n",
       "      <td>249</td>\n",
       "    </tr>\n",
       "    <tr>\n",
       "      <th>...</th>\n",
       "      <td>...</td>\n",
       "      <td>...</td>\n",
       "      <td>...</td>\n",
       "    </tr>\n",
       "    <tr>\n",
       "      <th>28</th>\n",
       "      <td>2011.0</td>\n",
       "      <td>licensing referral</td>\n",
       "      <td>58</td>\n",
       "    </tr>\n",
       "    <tr>\n",
       "      <th>34</th>\n",
       "      <td>2011.0</td>\n",
       "      <td>permit follow up inspection</td>\n",
       "      <td>56</td>\n",
       "    </tr>\n",
       "    <tr>\n",
       "      <th>50</th>\n",
       "      <td>2011.0</td>\n",
       "      <td>ul certification</td>\n",
       "      <td>49</td>\n",
       "    </tr>\n",
       "    <tr>\n",
       "      <th>17</th>\n",
       "      <td>2011.0</td>\n",
       "      <td>entertainment com. ref. insp.</td>\n",
       "      <td>48</td>\n",
       "    </tr>\n",
       "    <tr>\n",
       "      <th>29</th>\n",
       "      <td>2011.0</td>\n",
       "      <td>no time charged</td>\n",
       "      <td>38</td>\n",
       "    </tr>\n",
       "    <tr>\n",
       "      <th>14</th>\n",
       "      <td>2011.0</td>\n",
       "      <td>dph-ccsf-mental health</td>\n",
       "      <td>37</td>\n",
       "    </tr>\n",
       "    <tr>\n",
       "      <th>0</th>\n",
       "      <td>2011.0</td>\n",
       "      <td>ace inspection - follow up</td>\n",
       "      <td>33</td>\n",
       "    </tr>\n",
       "    <tr>\n",
       "      <th>8</th>\n",
       "      <td>2011.0</td>\n",
       "      <td>dept. of corrections ref. insp.</td>\n",
       "      <td>20</td>\n",
       "    </tr>\n",
       "    <tr>\n",
       "      <th>44</th>\n",
       "      <td>2011.0</td>\n",
       "      <td>request for fire clearance inspection</td>\n",
       "      <td>19</td>\n",
       "    </tr>\n",
       "    <tr>\n",
       "      <th>40</th>\n",
       "      <td>2011.0</td>\n",
       "      <td>public education</td>\n",
       "      <td>16</td>\n",
       "    </tr>\n",
       "    <tr>\n",
       "      <th>30</th>\n",
       "      <td>2011.0</td>\n",
       "      <td>on-site consultation</td>\n",
       "      <td>15</td>\n",
       "    </tr>\n",
       "    <tr>\n",
       "      <th>11</th>\n",
       "      <td>2011.0</td>\n",
       "      <td>dph referral - comm behavioral hlth svcs</td>\n",
       "      <td>12</td>\n",
       "    </tr>\n",
       "    <tr>\n",
       "      <th>49</th>\n",
       "      <td>2011.0</td>\n",
       "      <td>traccess installation</td>\n",
       "      <td>10</td>\n",
       "    </tr>\n",
       "    <tr>\n",
       "      <th>15</th>\n",
       "      <td>2011.0</td>\n",
       "      <td>dss-alcohol/drugs ref. insp.</td>\n",
       "      <td>8</td>\n",
       "    </tr>\n",
       "    <tr>\n",
       "      <th>20</th>\n",
       "      <td>2011.0</td>\n",
       "      <td>fire alarm inspection</td>\n",
       "      <td>8</td>\n",
       "    </tr>\n",
       "    <tr>\n",
       "      <th>10</th>\n",
       "      <td>2011.0</td>\n",
       "      <td>dhs-hospitals, skilled nursing</td>\n",
       "      <td>6</td>\n",
       "    </tr>\n",
       "    <tr>\n",
       "      <th>23</th>\n",
       "      <td>2011.0</td>\n",
       "      <td>greater alarm inspection</td>\n",
       "      <td>4</td>\n",
       "    </tr>\n",
       "    <tr>\n",
       "      <th>9</th>\n",
       "      <td>2011.0</td>\n",
       "      <td>dhs-adult day health center ref. insp.</td>\n",
       "      <td>3</td>\n",
       "    </tr>\n",
       "    <tr>\n",
       "      <th>21</th>\n",
       "      <td>2011.0</td>\n",
       "      <td>fire investigation - initial</td>\n",
       "      <td>3</td>\n",
       "    </tr>\n",
       "    <tr>\n",
       "      <th>2</th>\n",
       "      <td>2011.0</td>\n",
       "      <td>alarm installation inspection</td>\n",
       "      <td>2</td>\n",
       "    </tr>\n",
       "    <tr>\n",
       "      <th>5</th>\n",
       "      <td>2011.0</td>\n",
       "      <td>day care inspection/follow up</td>\n",
       "      <td>2</td>\n",
       "    </tr>\n",
       "    <tr>\n",
       "      <th>12</th>\n",
       "      <td>2011.0</td>\n",
       "      <td>dph referral - haz mat notification</td>\n",
       "      <td>2</td>\n",
       "    </tr>\n",
       "    <tr>\n",
       "      <th>36</th>\n",
       "      <td>2011.0</td>\n",
       "      <td>plan check meetings/consultations</td>\n",
       "      <td>2</td>\n",
       "    </tr>\n",
       "    <tr>\n",
       "      <th>18</th>\n",
       "      <td>2011.0</td>\n",
       "      <td>evacuation floor plan review</td>\n",
       "      <td>1</td>\n",
       "    </tr>\n",
       "    <tr>\n",
       "      <th>37</th>\n",
       "      <td>2011.0</td>\n",
       "      <td>plan check public assembly</td>\n",
       "      <td>1</td>\n",
       "    </tr>\n",
       "    <tr>\n",
       "      <th>39</th>\n",
       "      <td>2011.0</td>\n",
       "      <td>port permits</td>\n",
       "      <td>1</td>\n",
       "    </tr>\n",
       "    <tr>\n",
       "      <th>41</th>\n",
       "      <td>2011.0</td>\n",
       "      <td>r-1 annual inspection follow up</td>\n",
       "      <td>1</td>\n",
       "    </tr>\n",
       "    <tr>\n",
       "      <th>46</th>\n",
       "      <td>2011.0</td>\n",
       "      <td>school inspection - follow up</td>\n",
       "      <td>1</td>\n",
       "    </tr>\n",
       "    <tr>\n",
       "      <th>47</th>\n",
       "      <td>2011.0</td>\n",
       "      <td>special system inspection</td>\n",
       "      <td>1</td>\n",
       "    </tr>\n",
       "    <tr>\n",
       "      <th>48</th>\n",
       "      <td>2011.0</td>\n",
       "      <td>technical inspection - construct</td>\n",
       "      <td>1</td>\n",
       "    </tr>\n",
       "  </tbody>\n",
       "</table>\n",
       "<p>322 rows × 3 columns</p>\n",
       "</div>"
      ],
      "text/plain": [
       "       year                      Inspection Type Description  Address\n",
       "314  2017.0                         permit annual inspection      236\n",
       "307  2017.0                                   dbi inspection       78\n",
       "311  2017.0                      high rise annual inspection       50\n",
       "306  2017.0                             complaint inspection       40\n",
       "315  2017.0                       permit approval inspection       36\n",
       "321  2017.0                     violation reinspection - nov       32\n",
       "308  2017.0             dph referral - non hazmat ref. insp.       13\n",
       "316  2017.0                          police dept. ref. insp.       10\n",
       "317  2017.0                            reinspection - no fee        9\n",
       "313  2017.0                               oshpod  ref. insp.        5\n",
       "305  2017.0  additional non-dbi inspection/plan review hours        4\n",
       "318  2017.0                         school annual inspection        4\n",
       "310  2017.0                   facility emergency plan review        2\n",
       "309  2017.0                    entertainment com. ref. insp.        1\n",
       "312  2017.0                   high rise follow up inspection        1\n",
       "319  2017.0                 technical inspection - construct        1\n",
       "320  2017.0                             traccess maintenance        1\n",
       "261  2016.0                                   dbi inspection     5900\n",
       "283  2016.0                         permit annual inspection     4192\n",
       "260  2016.0                             complaint inspection     2911\n",
       "292  2016.0                            r1 company inspection     2537\n",
       "293  2016.0                            r2 company inspection     2113\n",
       "284  2016.0                       permit approval inspection     1327\n",
       "303  2016.0                     violation reinspection - nov     1016\n",
       "266  2016.0             dph referral - non hazmat ref. insp.      974\n",
       "275  2016.0                      high rise annual inspection      618\n",
       "289  2016.0                          police dept. ref. insp.      528\n",
       "298  2016.0               sro sprinkler ordinance inspection      353\n",
       "286  2016.0                         place of assembly detail      331\n",
       "255  2016.0  additional non-dbi inspection/plan review hours      249\n",
       "..      ...                                              ...      ...\n",
       "28   2011.0                               licensing referral       58\n",
       "34   2011.0                      permit follow up inspection       56\n",
       "50   2011.0                                 ul certification       49\n",
       "17   2011.0                    entertainment com. ref. insp.       48\n",
       "29   2011.0                                  no time charged       38\n",
       "14   2011.0                           dph-ccsf-mental health       37\n",
       "0    2011.0                       ace inspection - follow up       33\n",
       "8    2011.0                  dept. of corrections ref. insp.       20\n",
       "44   2011.0            request for fire clearance inspection       19\n",
       "40   2011.0                                 public education       16\n",
       "30   2011.0                             on-site consultation       15\n",
       "11   2011.0         dph referral - comm behavioral hlth svcs       12\n",
       "49   2011.0                            traccess installation       10\n",
       "15   2011.0                     dss-alcohol/drugs ref. insp.        8\n",
       "20   2011.0                            fire alarm inspection        8\n",
       "10   2011.0                   dhs-hospitals, skilled nursing        6\n",
       "23   2011.0                         greater alarm inspection        4\n",
       "9    2011.0           dhs-adult day health center ref. insp.        3\n",
       "21   2011.0                     fire investigation - initial        3\n",
       "2    2011.0                    alarm installation inspection        2\n",
       "5    2011.0                    day care inspection/follow up        2\n",
       "12   2011.0              dph referral - haz mat notification        2\n",
       "36   2011.0                plan check meetings/consultations        2\n",
       "18   2011.0                     evacuation floor plan review        1\n",
       "37   2011.0                       plan check public assembly        1\n",
       "39   2011.0                                     port permits        1\n",
       "41   2011.0                  r-1 annual inspection follow up        1\n",
       "46   2011.0                    school inspection - follow up        1\n",
       "47   2011.0                        special system inspection        1\n",
       "48   2011.0                 technical inspection - construct        1\n",
       "\n",
       "[322 rows x 3 columns]"
      ]
     },
     "execution_count": 404,
     "metadata": {},
     "output_type": "execute_result"
    }
   ],
   "source": [
    "finspect[['year', 'Inspection Type Description', 'Address']].groupby(['year', 'Inspection Type Description'], as_index=False).agg('count').sort_values(by=['year', 'Address'], ascending=False)"
   ]
  },
  {
   "cell_type": "markdown",
   "metadata": {},
   "source": [
    "Now we have some sense of the patterns of inspections. But what about the patterns for R-2 properties?"
   ]
  },
  {
   "cell_type": "code",
   "execution_count": 405,
   "metadata": {
    "collapsed": false
   },
   "outputs": [],
   "source": [
    "r2_inspections = pd.merge(finspect, pr, how='inner', on=['Address', 'year'])"
   ]
  },
  {
   "cell_type": "code",
   "execution_count": 406,
   "metadata": {
    "collapsed": false
   },
   "outputs": [
    {
     "data": {
      "text/plain": [
       "4.025320430711766"
      ]
     },
     "execution_count": 406,
     "metadata": {},
     "output_type": "execute_result"
    }
   ],
   "source": [
    "float(len(r2_inspections))*100. / float(len(finspect))"
   ]
  },
  {
   "cell_type": "markdown",
   "metadata": {},
   "source": [
    "The merge above indicates that only 4% of all fire inspections are done on R-2 properties. Below, I can see that of the R-2 inspections, the majority are due to r1 company inspection. That sounds a bit wrong because of the R1/R2 discrepancy, but some googling suggests that the r1 company inspection is for residential buildings (http://www.sfaa.org/may2012/1205_harvey.html) "
   ]
  },
  {
   "cell_type": "code",
   "execution_count": 408,
   "metadata": {
    "collapsed": false
   },
   "outputs": [
    {
     "data": {
      "text/plain": [
       "r1 company inspection                   0.751591\n",
       "complaint inspection                    0.103880\n",
       "dbi inspection                          0.044960\n",
       "high rise annual inspection             0.020324\n",
       "permit annual inspection                0.014987\n",
       "permit approval inspection              0.012728\n",
       "reinspection - no fee                   0.011086\n",
       "dph referral - non hazmat ref. insp.    0.006775\n",
       "high rise follow up inspection          0.005338\n",
       "violation reinspection - nov            0.005132\n",
       "highrise report writing                 0.004517\n",
       "place of assembly detail                0.003901\n",
       "police dept. ref. insp.                 0.002669\n",
       "follow up inspection                    0.002464\n",
       "ul certification                        0.002053\n",
       "facility emergency plan review          0.001642\n",
       "dbi - job notification                  0.001437\n",
       "traccess installation                   0.000821\n",
       "dss-community care license              0.000821\n",
       "initial inspection                      0.000821\n",
       "on-site consultation                    0.000411\n",
       "licensing referral                      0.000411\n",
       "dph-ccsf-mental health                  0.000411\n",
       "ace inspection - follow up              0.000205\n",
       "permit follow up inspection             0.000205\n",
       "no time charged                         0.000205\n",
       "entertainment com. ref. insp.           0.000205\n",
       "Name: Inspection Type Description, dtype: float64"
      ]
     },
     "execution_count": 408,
     "metadata": {},
     "output_type": "execute_result"
    }
   ],
   "source": [
    "r2_inspections['Inspection Type Description'].value_counts().astype(float) / float(len(r2_inspections))"
   ]
  },
  {
   "cell_type": "markdown",
   "metadata": {},
   "source": [
    "So now we know that the majority of R-2 property inspections appear to be routine r1 company inspections. Only around 500 are complain related. Finally, note that around 220 are related to the Department of Building Inspections (DBI). So there already is some cross-pollination between the two departments and their inspections."
   ]
  },
  {
   "cell_type": "markdown",
   "metadata": {},
   "source": [
    "We also have information about resident complaints referred to the fire department. \n",
    "\n",
    "Some Useful Features: \n",
    "- Complaint ID (for matching)\n",
    "- Complaint Number (for matching)\n",
    "- Complaint Item Type (Description)\n",
    "- Address\n",
    "- Received Date / Disposition Date "
   ]
  },
  {
   "cell_type": "code",
   "execution_count": 409,
   "metadata": {
    "collapsed": true
   },
   "outputs": [],
   "source": [
    "fcomplaints = pd.read_csv('challenge_datasets/Fire_Safety_Complaints.csv')"
   ]
  },
  {
   "cell_type": "code",
   "execution_count": 410,
   "metadata": {
    "collapsed": false
   },
   "outputs": [],
   "source": [
    "fcomplaints['year'] = pd.to_datetime(fcomplaints['Received Date'], format=\"%m/%d/%Y\", utc=False).dt.year.astype(float)"
   ]
  },
  {
   "cell_type": "code",
   "execution_count": 411,
   "metadata": {
    "collapsed": true
   },
   "outputs": [],
   "source": [
    "fcomplaints['Address_orig'] = fcomplaints['Address']"
   ]
  },
  {
   "cell_type": "code",
   "execution_count": 412,
   "metadata": {
    "collapsed": true
   },
   "outputs": [],
   "source": [
    "fcomplaints['Address'] = fcomplaints['Address'].str.replace('  - ', ' ').str.upper().str.replace('   ', ' ').str.replace('  ', ' ')"
   ]
  },
  {
   "cell_type": "code",
   "execution_count": 413,
   "metadata": {
    "collapsed": true
   },
   "outputs": [],
   "source": [
    "r2_complaints = pd.merge(fcomplaints, pr, how='inner', on=['Address', 'year'])"
   ]
  },
  {
   "cell_type": "code",
   "execution_count": 414,
   "metadata": {
    "collapsed": false
   },
   "outputs": [
    {
     "data": {
      "text/plain": [
       "6.605922551252847"
      ]
     },
     "execution_count": 414,
     "metadata": {},
     "output_type": "execute_result"
    }
   ],
   "source": [
    "float(len(r2_complaints))*100. / float(len(fcomplaints))"
   ]
  },
  {
   "cell_type": "markdown",
   "metadata": {},
   "source": [
    "Approximately 7% of all complaints originate from R-2 properties. \n",
    "\n",
    "But do complaints link to violations?"
   ]
  },
  {
   "cell_type": "code",
   "execution_count": 415,
   "metadata": {
    "collapsed": true
   },
   "outputs": [],
   "source": [
    "fviolations = pd.read_csv('challenge_datasets/Fire_Violations.csv')"
   ]
  },
  {
   "cell_type": "markdown",
   "metadata": {},
   "source": [
    "Violation information \n",
    "\n",
    "Some useful features: \n",
    "- Violation ID \n",
    "- Violation Number \n",
    "- Violation Date \n",
    "- Inspection Number \n",
    "- Address \n"
   ]
  },
  {
   "cell_type": "code",
   "execution_count": 416,
   "metadata": {
    "collapsed": true
   },
   "outputs": [],
   "source": [
    "fviolations['Address_orig'] = fviolations['Address']"
   ]
  },
  {
   "cell_type": "code",
   "execution_count": 417,
   "metadata": {
    "collapsed": false
   },
   "outputs": [],
   "source": [
    "fviolations['Address'] = fviolations['Address'].str.replace('  - ', ' ').str.upper().str.replace('   ', ' ').str.replace('  ', ' ')"
   ]
  },
  {
   "cell_type": "code",
   "execution_count": 418,
   "metadata": {
    "collapsed": false
   },
   "outputs": [],
   "source": [
    "fviolations['year'] = pd.to_datetime(fviolations['Violation Date'], format=\"%m/%d/%Y\", utc=False).dt.year.astype(float)"
   ]
  },
  {
   "cell_type": "code",
   "execution_count": 419,
   "metadata": {
    "collapsed": false
   },
   "outputs": [],
   "source": [
    "r2_violations = pd.merge(fviolations, pr, how='inner', on=['Address', 'year'])"
   ]
  },
  {
   "cell_type": "code",
   "execution_count": 420,
   "metadata": {
    "collapsed": false
   },
   "outputs": [
    {
     "data": {
      "text/plain": [
       "3.7974683544303796"
      ]
     },
     "execution_count": 420,
     "metadata": {},
     "output_type": "execute_result"
    }
   ],
   "source": [
    "float(len(r2_violations))*100. / float(len(fviolations))"
   ]
  },
  {
   "cell_type": "markdown",
   "metadata": {},
   "source": [
    "Approximately 4% of all violations originate in R-2 properties. Considering that they make up ~4% of all the inspections, this makes some sense. But they account for a larger fraction of the complaints..."
   ]
  },
  {
   "cell_type": "code",
   "execution_count": 421,
   "metadata": {
    "collapsed": false
   },
   "outputs": [
    {
     "data": {
      "text/plain": [
       "(array([], dtype=int64),)"
      ]
     },
     "execution_count": 421,
     "metadata": {},
     "output_type": "execute_result"
    }
   ],
   "source": [
    "np.where((finspect['Complaint Number'].isnull() == False) & (finspect['Violation Number'].isnull() == False))"
   ]
  },
  {
   "cell_type": "markdown",
   "metadata": {},
   "source": [
    "I'm not finding any inspections where there is both a Complaint and Violation number. Does this mean that there are no inspections prompted by complaints that find violations? That seems not correct..."
   ]
  },
  {
   "cell_type": "code",
   "execution_count": 422,
   "metadata": {
    "collapsed": true
   },
   "outputs": [],
   "source": [
    "f1 = pd.merge(finspect, fcomplaints[['Complaint Number', 'Complaint Item Type', 'Received Date']], how='left', on='Complaint Number')"
   ]
  },
  {
   "cell_type": "code",
   "execution_count": 423,
   "metadata": {
    "collapsed": false
   },
   "outputs": [],
   "source": [
    "f2 = pd.merge(f1, fviolations[['Violation Number', 'Violation Date', 'Violation Item', \n",
    "                              'Violation Item Description', 'Status', 'Close Date']], how='left', on='Violation Number')"
   ]
  },
  {
   "cell_type": "markdown",
   "metadata": {},
   "source": [
    "f2 has information about all of the inspections and violations"
   ]
  },
  {
   "cell_type": "code",
   "execution_count": 424,
   "metadata": {
    "collapsed": false
   },
   "outputs": [
    {
     "data": {
      "text/plain": [
       "(121009, 28974, 11692, 133162)"
      ]
     },
     "execution_count": 424,
     "metadata": {},
     "output_type": "execute_result"
    }
   ],
   "source": [
    "len(finspect), len(fcomplaints), len(fviolations), len(f2)"
   ]
  },
  {
   "cell_type": "markdown",
   "metadata": {},
   "source": [
    "The merged data set agrees. There appear to be no Violations associated with Complaints. However, the top categories for violations are related to reinspection Inspection types. \n",
    "\n",
    "Presumably, once a violation is identified, it gets recategorized for reinspection? Not terribly useful for my work right now, I'm afraid."
   ]
  },
  {
   "cell_type": "code",
   "execution_count": 425,
   "metadata": {
    "collapsed": false
   },
   "outputs": [
    {
     "data": {
      "text/html": [
       "<div>\n",
       "<table border=\"1\" class=\"dataframe\">\n",
       "  <thead>\n",
       "    <tr style=\"text-align: right;\">\n",
       "      <th></th>\n",
       "      <th>Violation Number</th>\n",
       "    </tr>\n",
       "    <tr>\n",
       "      <th>Inspection Type Description</th>\n",
       "      <th></th>\n",
       "    </tr>\n",
       "  </thead>\n",
       "  <tbody>\n",
       "    <tr>\n",
       "      <th>violation reinspection - nov</th>\n",
       "      <td>8787</td>\n",
       "    </tr>\n",
       "    <tr>\n",
       "      <th>reinspection - no fee</th>\n",
       "      <td>1544</td>\n",
       "    </tr>\n",
       "    <tr>\n",
       "      <th>no time charged</th>\n",
       "      <td>255</td>\n",
       "    </tr>\n",
       "    <tr>\n",
       "      <th>follow up inspection</th>\n",
       "      <td>9</td>\n",
       "    </tr>\n",
       "    <tr>\n",
       "      <th>high rise follow up inspection</th>\n",
       "      <td>8</td>\n",
       "    </tr>\n",
       "    <tr>\n",
       "      <th>administrative citation</th>\n",
       "      <td>4</td>\n",
       "    </tr>\n",
       "    <tr>\n",
       "      <th>ace inspection - follow up</th>\n",
       "      <td>0</td>\n",
       "    </tr>\n",
       "    <tr>\n",
       "      <th>plan check preliminary/consultation</th>\n",
       "      <td>0</td>\n",
       "    </tr>\n",
       "    <tr>\n",
       "      <th>port annual inspection</th>\n",
       "      <td>0</td>\n",
       "    </tr>\n",
       "    <tr>\n",
       "      <th>police dept. ref. insp.</th>\n",
       "      <td>0</td>\n",
       "    </tr>\n",
       "    <tr>\n",
       "      <th>plan check review - dbi referral</th>\n",
       "      <td>0</td>\n",
       "    </tr>\n",
       "    <tr>\n",
       "      <th>plan check public assembly</th>\n",
       "      <td>0</td>\n",
       "    </tr>\n",
       "    <tr>\n",
       "      <th>place of assembly detail</th>\n",
       "      <td>0</td>\n",
       "    </tr>\n",
       "    <tr>\n",
       "      <th>plan check meetings/consultations</th>\n",
       "      <td>0</td>\n",
       "    </tr>\n",
       "    <tr>\n",
       "      <th>public education</th>\n",
       "      <td>0</td>\n",
       "    </tr>\n",
       "    <tr>\n",
       "      <th>permit follow up inspection</th>\n",
       "      <td>0</td>\n",
       "    </tr>\n",
       "    <tr>\n",
       "      <th>permit approval inspection</th>\n",
       "      <td>0</td>\n",
       "    </tr>\n",
       "    <tr>\n",
       "      <th>permit annual inspection</th>\n",
       "      <td>0</td>\n",
       "    </tr>\n",
       "    <tr>\n",
       "      <th>oshpod  ref. insp.</th>\n",
       "      <td>0</td>\n",
       "    </tr>\n",
       "    <tr>\n",
       "      <th>port permits</th>\n",
       "      <td>0</td>\n",
       "    </tr>\n",
       "    <tr>\n",
       "      <th>r1 company inspection</th>\n",
       "      <td>0</td>\n",
       "    </tr>\n",
       "    <tr>\n",
       "      <th>r-1 annual inspection follow up</th>\n",
       "      <td>0</td>\n",
       "    </tr>\n",
       "    <tr>\n",
       "      <th>r2 company inspection</th>\n",
       "      <td>0</td>\n",
       "    </tr>\n",
       "    <tr>\n",
       "      <th>rcf inspection/follow up</th>\n",
       "      <td>0</td>\n",
       "    </tr>\n",
       "    <tr>\n",
       "      <th>request for fire clearance inspection</th>\n",
       "      <td>0</td>\n",
       "    </tr>\n",
       "    <tr>\n",
       "      <th>school annual inspection</th>\n",
       "      <td>0</td>\n",
       "    </tr>\n",
       "    <tr>\n",
       "      <th>school inspection - follow up</th>\n",
       "      <td>0</td>\n",
       "    </tr>\n",
       "    <tr>\n",
       "      <th>special system inspection</th>\n",
       "      <td>0</td>\n",
       "    </tr>\n",
       "    <tr>\n",
       "      <th>sro sprinkler ordinance inspection</th>\n",
       "      <td>0</td>\n",
       "    </tr>\n",
       "    <tr>\n",
       "      <th>tank installation</th>\n",
       "      <td>0</td>\n",
       "    </tr>\n",
       "    <tr>\n",
       "      <th>...</th>\n",
       "      <td>...</td>\n",
       "    </tr>\n",
       "    <tr>\n",
       "      <th>alarm installation inspection</th>\n",
       "      <td>0</td>\n",
       "    </tr>\n",
       "    <tr>\n",
       "      <th>bc place of assembly inspection</th>\n",
       "      <td>0</td>\n",
       "    </tr>\n",
       "    <tr>\n",
       "      <th>complaint inspection</th>\n",
       "      <td>0</td>\n",
       "    </tr>\n",
       "    <tr>\n",
       "      <th>day care inspection/follow up</th>\n",
       "      <td>0</td>\n",
       "    </tr>\n",
       "    <tr>\n",
       "      <th>dbi - job notification</th>\n",
       "      <td>0</td>\n",
       "    </tr>\n",
       "    <tr>\n",
       "      <th>dbi inspection</th>\n",
       "      <td>0</td>\n",
       "    </tr>\n",
       "    <tr>\n",
       "      <th>dbi ref. insp.</th>\n",
       "      <td>0</td>\n",
       "    </tr>\n",
       "    <tr>\n",
       "      <th>dept. of corrections ref. insp.</th>\n",
       "      <td>0</td>\n",
       "    </tr>\n",
       "    <tr>\n",
       "      <th>dept. of public works ref. insp.</th>\n",
       "      <td>0</td>\n",
       "    </tr>\n",
       "    <tr>\n",
       "      <th>dhs-adult day health center ref. insp.</th>\n",
       "      <td>0</td>\n",
       "    </tr>\n",
       "    <tr>\n",
       "      <th>dhs-hospitals, skilled nursing</th>\n",
       "      <td>0</td>\n",
       "    </tr>\n",
       "    <tr>\n",
       "      <th>dph referral - comm behavioral hlth svcs</th>\n",
       "      <td>0</td>\n",
       "    </tr>\n",
       "    <tr>\n",
       "      <th>dph referral - haz mat notification</th>\n",
       "      <td>0</td>\n",
       "    </tr>\n",
       "    <tr>\n",
       "      <th>dph referral - ust closure ref. insp.</th>\n",
       "      <td>0</td>\n",
       "    </tr>\n",
       "    <tr>\n",
       "      <th>additional non-dbi inspection/plan review hours</th>\n",
       "      <td>0</td>\n",
       "    </tr>\n",
       "    <tr>\n",
       "      <th>dph-ccsf-aids clinic</th>\n",
       "      <td>0</td>\n",
       "    </tr>\n",
       "    <tr>\n",
       "      <th>dph-ccsf-mental health</th>\n",
       "      <td>0</td>\n",
       "    </tr>\n",
       "    <tr>\n",
       "      <th>dss-alcohol/drugs ref. insp.</th>\n",
       "      <td>0</td>\n",
       "    </tr>\n",
       "    <tr>\n",
       "      <th>dss-community care license</th>\n",
       "      <td>0</td>\n",
       "    </tr>\n",
       "    <tr>\n",
       "      <th>entertainment com. ref. insp.</th>\n",
       "      <td>0</td>\n",
       "    </tr>\n",
       "    <tr>\n",
       "      <th>evacuation floor plan review</th>\n",
       "      <td>0</td>\n",
       "    </tr>\n",
       "    <tr>\n",
       "      <th>facility emergency plan review</th>\n",
       "      <td>0</td>\n",
       "    </tr>\n",
       "    <tr>\n",
       "      <th>fire alarm inspection</th>\n",
       "      <td>0</td>\n",
       "    </tr>\n",
       "    <tr>\n",
       "      <th>fire investigation - initial</th>\n",
       "      <td>0</td>\n",
       "    </tr>\n",
       "    <tr>\n",
       "      <th>fire pump testing</th>\n",
       "      <td>0</td>\n",
       "    </tr>\n",
       "    <tr>\n",
       "      <th>greater alarm inspection</th>\n",
       "      <td>0</td>\n",
       "    </tr>\n",
       "    <tr>\n",
       "      <th>high rise annual inspection</th>\n",
       "      <td>0</td>\n",
       "    </tr>\n",
       "    <tr>\n",
       "      <th>highrise report writing</th>\n",
       "      <td>0</td>\n",
       "    </tr>\n",
       "    <tr>\n",
       "      <th>initial inspection</th>\n",
       "      <td>0</td>\n",
       "    </tr>\n",
       "    <tr>\n",
       "      <th>working fire response/inspection</th>\n",
       "      <td>0</td>\n",
       "    </tr>\n",
       "  </tbody>\n",
       "</table>\n",
       "<p>70 rows × 1 columns</p>\n",
       "</div>"
      ],
      "text/plain": [
       "                                                 Violation Number\n",
       "Inspection Type Description                                      \n",
       "violation reinspection - nov                                 8787\n",
       "reinspection - no fee                                        1544\n",
       "no time charged                                               255\n",
       "follow up inspection                                            9\n",
       "high rise follow up inspection                                  8\n",
       "administrative citation                                         4\n",
       "ace inspection - follow up                                      0\n",
       "plan check preliminary/consultation                             0\n",
       "port annual inspection                                          0\n",
       "police dept. ref. insp.                                         0\n",
       "plan check review - dbi referral                                0\n",
       "plan check public assembly                                      0\n",
       "place of assembly detail                                        0\n",
       "plan check meetings/consultations                               0\n",
       "public education                                                0\n",
       "permit follow up inspection                                     0\n",
       "permit approval inspection                                      0\n",
       "permit annual inspection                                        0\n",
       "oshpod  ref. insp.                                              0\n",
       "port permits                                                    0\n",
       "r1 company inspection                                           0\n",
       "r-1 annual inspection follow up                                 0\n",
       "r2 company inspection                                           0\n",
       "rcf inspection/follow up                                        0\n",
       "request for fire clearance inspection                           0\n",
       "school annual inspection                                        0\n",
       "school inspection - follow up                                   0\n",
       "special system inspection                                       0\n",
       "sro sprinkler ordinance inspection                              0\n",
       "tank installation                                               0\n",
       "...                                                           ...\n",
       "alarm installation inspection                                   0\n",
       "bc place of assembly inspection                                 0\n",
       "complaint inspection                                            0\n",
       "day care inspection/follow up                                   0\n",
       "dbi - job notification                                          0\n",
       "dbi inspection                                                  0\n",
       "dbi ref. insp.                                                  0\n",
       "dept. of corrections ref. insp.                                 0\n",
       "dept. of public works ref. insp.                                0\n",
       "dhs-adult day health center ref. insp.                          0\n",
       "dhs-hospitals, skilled nursing                                  0\n",
       "dph referral - comm behavioral hlth svcs                        0\n",
       "dph referral - haz mat notification                             0\n",
       "dph referral - ust closure ref. insp.                           0\n",
       "additional non-dbi inspection/plan review hours                 0\n",
       "dph-ccsf-aids clinic                                            0\n",
       "dph-ccsf-mental health                                          0\n",
       "dss-alcohol/drugs ref. insp.                                    0\n",
       "dss-community care license                                      0\n",
       "entertainment com. ref. insp.                                   0\n",
       "evacuation floor plan review                                    0\n",
       "facility emergency plan review                                  0\n",
       "fire alarm inspection                                           0\n",
       "fire investigation - initial                                    0\n",
       "fire pump testing                                               0\n",
       "greater alarm inspection                                        0\n",
       "high rise annual inspection                                     0\n",
       "highrise report writing                                         0\n",
       "initial inspection                                              0\n",
       "working fire response/inspection                                0\n",
       "\n",
       "[70 rows x 1 columns]"
      ]
     },
     "execution_count": 425,
     "metadata": {},
     "output_type": "execute_result"
    }
   ],
   "source": [
    "f2[['Inspection Type Description', 'Violation Number']].groupby('Inspection Type Description').agg('count').sort_values(by='Violation Number', ascending=False)"
   ]
  },
  {
   "cell_type": "markdown",
   "metadata": {},
   "source": [
    "Looking at the complaints info in more detail, the majority of complaints are corrected for. Out of all of them, only 404 result in a violation. \n",
    "\n",
    "This puts the department in a bit of a pickle. They want to respond to complaints, so residents feel attended to. But if they're more concerned about larger-scale violations, following up on complaints is not the way to go. "
   ]
  },
  {
   "cell_type": "code",
   "execution_count": 426,
   "metadata": {
    "collapsed": false
   },
   "outputs": [
    {
     "data": {
      "text/plain": [
       "condition corrected                     22161\n",
       "no merit                                 3535\n",
       "violation issued                          404\n",
       "referred to another agency                223\n",
       "referred to dbi                           180\n",
       "no jurisdiction                           136\n",
       "no access to building                      55\n",
       "referred to pm inspection task force       17\n",
       "referred to dph                            10\n",
       "Name: Disposition, dtype: int64"
      ]
     },
     "execution_count": 426,
     "metadata": {},
     "output_type": "execute_result"
    }
   ],
   "source": [
    "fcomplaints['Disposition'].value_counts()"
   ]
  },
  {
   "cell_type": "markdown",
   "metadata": {},
   "source": [
    "Are there any patterns in the complaints that result in violations?\n",
    "\n",
    "When I look at the numbers below, the violations are dominated by issues with alarm systems. But unfortunately, this is for _all_ properties, not just R-2 properties."
   ]
  },
  {
   "cell_type": "code",
   "execution_count": 427,
   "metadata": {
    "collapsed": false
   },
   "outputs": [
    {
     "data": {
      "text/plain": [
       "alarm systems                    165\n",
       "sprinkler/standpipe systems       52\n",
       "blocked exits                     41\n",
       "extinguishers                     39\n",
       "uncategorized complaint           25\n",
       "exit maintenance                   9\n",
       "operating without a permit         9\n",
       "street numbering                   7\n",
       "fire escape                        7\n",
       "combustible materials              7\n",
       "electrical systems                 6\n",
       "refused hood + duct service        6\n",
       "hoarding                           5\n",
       "gen'l hazardous materials          4\n",
       "ul cert verification               4\n",
       "roof access                        3\n",
       "unlicensed auto repair             2\n",
       "overcrowded place of assembly      2\n",
       "general hazardous materials        2\n",
       "weeds and grass                    2\n",
       "open vacant bldg                   2\n",
       "elevators not working              2\n",
       "open vacant building               1\n",
       "crisp complaint inspection         1\n",
       "illegal occupancy                  1\n",
       "Name: Complaint Item Type Description, dtype: int64"
      ]
     },
     "execution_count": 427,
     "metadata": {},
     "output_type": "execute_result"
    }
   ],
   "source": [
    "fcomplaints.loc[np.where(fcomplaints['Disposition']=='violation issued')[0], 'Complaint Item Type Description'].value_counts()"
   ]
  },
  {
   "cell_type": "markdown",
   "metadata": {},
   "source": [
    "For R-2 properties, there are a very limited number of complaints that result in a violation. Half of them are related to problems with the alarm systems (but still, small number statistics)."
   ]
  },
  {
   "cell_type": "code",
   "execution_count": 428,
   "metadata": {
    "collapsed": false
   },
   "outputs": [
    {
     "data": {
      "text/plain": [
       "alarm systems              12\n",
       "extinguishers               6\n",
       "uncategorized complaint     4\n",
       "blocked exits               1\n",
       "combustible materials       1\n",
       "Name: Complaint Item Type Description, dtype: int64"
      ]
     },
     "execution_count": 428,
     "metadata": {},
     "output_type": "execute_result"
    }
   ],
   "source": [
    "r2_complaints.loc[np.where(fcomplaints['Disposition']=='violation issued')[0], 'Complaint Item Type Description'].value_counts()"
   ]
  },
  {
   "cell_type": "markdown",
   "metadata": {},
   "source": [
    "We can also look at the number of Fire-related incidents. Some of these may result fom Fire code violations"
   ]
  },
  {
   "cell_type": "code",
   "execution_count": 359,
   "metadata": {
    "collapsed": false
   },
   "outputs": [],
   "source": [
    "fincidents = pd.read_csv('challenge_datasets/Fire_Incidents.csv')"
   ]
  },
  {
   "cell_type": "markdown",
   "metadata": {},
   "source": [
    "Incident information \n",
    "\n",
    "Some useful features: \n",
    "- Address\n",
    "- Incident Date \n",
    "- Estimated Property Loss \n",
    "- Estimated Contents Loss \n",
    "- Fire Fatalities, Fire Injuries, Civilian Fatalities, Civilian Injuries \n",
    "- Property Use \n",
    "- Ignition Cause (often NaN)\n",
    "- etc."
   ]
  },
  {
   "cell_type": "code",
   "execution_count": null,
   "metadata": {
    "collapsed": false
   },
   "outputs": [],
   "source": [
    "#f3 = pd.merge(f2, fincidents[['Incident Number', 'Address', 'Incident Date', 'Primary Situation', 'Location']], \n",
    "#             how='left', on='Location')"
   ]
  },
  {
   "cell_type": "code",
   "execution_count": 103,
   "metadata": {
    "collapsed": false
   },
   "outputs": [],
   "source": [
    "sarea_list = f2['Station Area'].value_counts().index.values"
   ]
  },
  {
   "cell_type": "code",
   "execution_count": 105,
   "metadata": {
    "collapsed": false
   },
   "outputs": [
    {
     "name": "stdout",
     "output_type": "stream",
     "text": [
      "01\n",
      "13\n",
      "03\n",
      "16\n",
      "35\n",
      "36\n",
      "07\n",
      "41\n",
      "08\n",
      "02\n",
      "38\n",
      "28\n",
      "29\n",
      "10\n",
      "06\n",
      "21\n",
      "31\n",
      "11\n",
      "05\n",
      "17\n",
      "22\n",
      "09\n",
      "12\n",
      "25\n",
      "14\n",
      "24\n",
      "19\n",
      "42\n",
      "15\n",
      "00\n",
      "43\n",
      "34\n",
      "37\n",
      "18\n",
      "33\n",
      "40\n",
      "32\n",
      "23\n",
      "26\n",
      "AP\n",
      "44\n",
      "20\n",
      "39\n",
      "48\n",
      "60\n",
      "51\n"
     ]
    }
   ],
   "source": [
    "for i in sarea_list: \n",
    "    fi_temp = fincidents.loc[np.where((fincidents['Station Area']==i))]\n",
    "    f2_temp = f2.loc[np.where(f2['Station Area']==i)]\n",
    "    test = pd.merge(f2_temp, fi_temp, how='left', on='Location')\n",
    "    print i\n",
    "    if (i == '01'): \n",
    "        f3 = test\n",
    "    else: \n",
    "        f3 = pd.concat([f3,test], axis=0)"
   ]
  },
  {
   "cell_type": "code",
   "execution_count": 108,
   "metadata": {
    "collapsed": false
   },
   "outputs": [],
   "source": [
    "f3.reset_index(drop=True, inplace=True)"
   ]
  },
  {
   "cell_type": "markdown",
   "metadata": {},
   "source": [
    "The address formatting varies, so it is much easier to go in terms of lat/long. This does however result in a few address discrepancies. "
   ]
  },
  {
   "cell_type": "code",
   "execution_count": 113,
   "metadata": {
    "collapsed": false
   },
   "outputs": [
    {
     "data": {
      "text/html": [
       "<div>\n",
       "<table border=\"1\" class=\"dataframe\">\n",
       "  <thead>\n",
       "    <tr style=\"text-align: right;\">\n",
       "      <th></th>\n",
       "      <th>Address_x</th>\n",
       "      <th>Address_y</th>\n",
       "      <th>Incident Date</th>\n",
       "      <th>Neighborhood  District_x</th>\n",
       "      <th>Primary Situation</th>\n",
       "    </tr>\n",
       "  </thead>\n",
       "  <tbody>\n",
       "    <tr>\n",
       "      <th>1</th>\n",
       "      <td>55  04th St</td>\n",
       "      <td>51 Yerba Buena Ln.</td>\n",
       "      <td>11/23/2009</td>\n",
       "      <td>Financial District/South Beach</td>\n",
       "      <td>735 - alarm system sounded due to malfunction</td>\n",
       "    </tr>\n",
       "    <tr>\n",
       "      <th>2</th>\n",
       "      <td>55  04th St</td>\n",
       "      <td>767 - A Market St.</td>\n",
       "      <td>07/13/2006</td>\n",
       "      <td>Financial District/South Beach</td>\n",
       "      <td>730 - system malfunction, other</td>\n",
       "    </tr>\n",
       "    <tr>\n",
       "      <th>3</th>\n",
       "      <td>55  04th St</td>\n",
       "      <td>767 Market St.</td>\n",
       "      <td>09/06/2012</td>\n",
       "      <td>Financial District/South Beach</td>\n",
       "      <td>740 - unintentional alarm, other</td>\n",
       "    </tr>\n",
       "    <tr>\n",
       "      <th>4</th>\n",
       "      <td>55  04th St</td>\n",
       "      <td>767 Market St.</td>\n",
       "      <td>01/06/2010</td>\n",
       "      <td>Financial District/South Beach</td>\n",
       "      <td>745 - alarm system sounded/no fire-accidental</td>\n",
       "    </tr>\n",
       "    <tr>\n",
       "      <th>5</th>\n",
       "      <td>55  04th St</td>\n",
       "      <td>767 Market St.</td>\n",
       "      <td>07/02/2003</td>\n",
       "      <td>Financial District/South Beach</td>\n",
       "      <td>730 - system malfunction, other</td>\n",
       "    </tr>\n",
       "  </tbody>\n",
       "</table>\n",
       "</div>"
      ],
      "text/plain": [
       "     Address_x           Address_y Incident Date  \\\n",
       "1  55  04th St  51 Yerba Buena Ln.    11/23/2009   \n",
       "2  55  04th St  767 - A Market St.    07/13/2006   \n",
       "3  55  04th St      767 Market St.    09/06/2012   \n",
       "4  55  04th St      767 Market St.    01/06/2010   \n",
       "5  55  04th St      767 Market St.    07/02/2003   \n",
       "\n",
       "         Neighborhood  District_x  \\\n",
       "1  Financial District/South Beach   \n",
       "2  Financial District/South Beach   \n",
       "3  Financial District/South Beach   \n",
       "4  Financial District/South Beach   \n",
       "5  Financial District/South Beach   \n",
       "\n",
       "                               Primary Situation  \n",
       "1  735 - alarm system sounded due to malfunction  \n",
       "2                730 - system malfunction, other  \n",
       "3               740 - unintentional alarm, other  \n",
       "4  745 - alarm system sounded/no fire-accidental  \n",
       "5                730 - system malfunction, other  "
      ]
     },
     "execution_count": 113,
     "metadata": {},
     "output_type": "execute_result"
    }
   ],
   "source": [
    "f3[['Address_x', 'Address_y', 'Incident Date', 'Neighborhood  District_x', 'Primary Situation']].dropna().head()"
   ]
  },
  {
   "cell_type": "markdown",
   "metadata": {},
   "source": [
    "Combining the f2 table with the Property roll data "
   ]
  },
  {
   "cell_type": "code",
   "execution_count": 371,
   "metadata": {
    "collapsed": false
   },
   "outputs": [],
   "source": [
    "# We only have fire data for 2011 on, so I'll trim down the PR to everything past 2011\n",
    "pr_trimmed = pr.loc[np.where(pr['year']>=2011)[0]]"
   ]
  },
  {
   "cell_type": "code",
   "execution_count": 372,
   "metadata": {
    "collapsed": false
   },
   "outputs": [
    {
     "data": {
      "text/plain": [
       "(65808, 133162)"
      ]
     },
     "execution_count": 372,
     "metadata": {},
     "output_type": "execute_result"
    }
   ],
   "source": [
    "len(pr_trimmed), len(f2)"
   ]
  },
  {
   "cell_type": "code",
   "execution_count": 373,
   "metadata": {
    "collapsed": false
   },
   "outputs": [],
   "source": [
    "pr_f2 = pd.merge(pr_trimmed, f2, how='left', on=['Address','year'])"
   ]
  },
  {
   "cell_type": "code",
   "execution_count": 378,
   "metadata": {
    "collapsed": false
   },
   "outputs": [
    {
     "name": "stdout",
     "output_type": "stream",
     "text": [
      "<class 'pandas.core.frame.DataFrame'>\n",
      "Int64Index: 66726 entries, 0 to 66725\n",
      "Data columns (total 5 columns):\n",
      "year                          66726 non-null float64\n",
      "Location_x                    64421 non-null object\n",
      "Location_y                    4984 non-null object\n",
      "Violation Item Description    96 non-null object\n",
      "Complaint Item Type           560 non-null float64\n",
      "dtypes: float64(2), object(3)\n",
      "memory usage: 3.1+ MB\n"
     ]
    }
   ],
   "source": [
    "pr_f2[['year', 'Location_x', 'Location_y', 'Violation Item Description', 'Complaint Item Type']].info()"
   ]
  },
  {
   "cell_type": "markdown",
   "metadata": {},
   "source": [
    "The tough part here is that there are only 96 (!) listed Violations in the cross matched set. This is a very limited sample to train a model on unfortunately. "
   ]
  },
  {
   "cell_type": "code",
   "execution_count": 377,
   "metadata": {
    "collapsed": false
   },
   "outputs": [
    {
     "data": {
      "text/html": [
       "<div>\n",
       "<table border=\"1\" class=\"dataframe\">\n",
       "  <thead>\n",
       "    <tr style=\"text-align: right;\">\n",
       "      <th></th>\n",
       "      <th>Property Location</th>\n",
       "      <th>Address</th>\n",
       "      <th>Neighborhood Code</th>\n",
       "      <th>Complaint Item Type</th>\n",
       "    </tr>\n",
       "  </thead>\n",
       "  <tbody>\n",
       "    <tr>\n",
       "      <th>45</th>\n",
       "      <td>0000 2969 JACKSON             ST0000</td>\n",
       "      <td>2969 JACKSON ST</td>\n",
       "      <td>07B</td>\n",
       "      <td>5.0</td>\n",
       "    </tr>\n",
       "    <tr>\n",
       "      <th>652</th>\n",
       "      <td>0000 1085 SOUTH VAN NESS      AV0000</td>\n",
       "      <td>1085 SOUTH VAN NESS AVE</td>\n",
       "      <td>09C</td>\n",
       "      <td>5.0</td>\n",
       "    </tr>\n",
       "    <tr>\n",
       "      <th>727</th>\n",
       "      <td>0000 2301 POLK                ST0000</td>\n",
       "      <td>2301 POLK ST</td>\n",
       "      <td>08E</td>\n",
       "      <td>5.0</td>\n",
       "    </tr>\n",
       "    <tr>\n",
       "      <th>728</th>\n",
       "      <td>0000 2301 POLK                ST0000</td>\n",
       "      <td>2301 POLK ST</td>\n",
       "      <td>08E</td>\n",
       "      <td>6.0</td>\n",
       "    </tr>\n",
       "    <tr>\n",
       "      <th>856</th>\n",
       "      <td>0000 3325 STEINER             ST0000</td>\n",
       "      <td>3325 STEINER ST</td>\n",
       "      <td>07A</td>\n",
       "      <td>5.0</td>\n",
       "    </tr>\n",
       "    <tr>\n",
       "      <th>923</th>\n",
       "      <td>0000 2200 JACKSON             ST0000</td>\n",
       "      <td>2200 JACKSON ST</td>\n",
       "      <td>07B</td>\n",
       "      <td>5.0</td>\n",
       "    </tr>\n",
       "    <tr>\n",
       "      <th>1009</th>\n",
       "      <td>0000 4100 FULTON              ST0000</td>\n",
       "      <td>4100 FULTON ST</td>\n",
       "      <td>01A</td>\n",
       "      <td>2.0</td>\n",
       "    </tr>\n",
       "    <tr>\n",
       "      <th>1010</th>\n",
       "      <td>0000 4100 FULTON              ST0000</td>\n",
       "      <td>4100 FULTON ST</td>\n",
       "      <td>01A</td>\n",
       "      <td>5.0</td>\n",
       "    </tr>\n",
       "    <tr>\n",
       "      <th>1171</th>\n",
       "      <td>0000 1275 17TH                AV0000</td>\n",
       "      <td>1275 17TH AVE</td>\n",
       "      <td>02F</td>\n",
       "      <td>5.0</td>\n",
       "    </tr>\n",
       "    <tr>\n",
       "      <th>1279</th>\n",
       "      <td>0000 1064 DOLORES             ST0000</td>\n",
       "      <td>1064 DOLORES ST</td>\n",
       "      <td>05C</td>\n",
       "      <td>99.0</td>\n",
       "    </tr>\n",
       "    <tr>\n",
       "      <th>1347</th>\n",
       "      <td>0000 1301 20TH                ST0000</td>\n",
       "      <td>1301 20TH ST</td>\n",
       "      <td>09E</td>\n",
       "      <td>99.0</td>\n",
       "    </tr>\n",
       "    <tr>\n",
       "      <th>1905</th>\n",
       "      <td>0000 2841 SACRAMENTO          ST0000</td>\n",
       "      <td>2841 SACRAMENTO ST</td>\n",
       "      <td>07B</td>\n",
       "      <td>2.0</td>\n",
       "    </tr>\n",
       "    <tr>\n",
       "      <th>2089</th>\n",
       "      <td>0000 1966 CALIFORNIA          ST0000</td>\n",
       "      <td>1966 CALIFORNIA ST</td>\n",
       "      <td>07B</td>\n",
       "      <td>5.0</td>\n",
       "    </tr>\n",
       "    <tr>\n",
       "      <th>2216</th>\n",
       "      <td>0000 1565 OAK                 ST0000</td>\n",
       "      <td>1565 OAK ST</td>\n",
       "      <td>05B</td>\n",
       "      <td>6.0</td>\n",
       "    </tr>\n",
       "    <tr>\n",
       "      <th>2454</th>\n",
       "      <td>0000 1890 CLAY                ST0000</td>\n",
       "      <td>1890 CLAY ST</td>\n",
       "      <td>07B</td>\n",
       "      <td>5.0</td>\n",
       "    </tr>\n",
       "    <tr>\n",
       "      <th>2545</th>\n",
       "      <td>0000 1701 NORTH POINT         ST0000</td>\n",
       "      <td>1701 NORTH POINT ST</td>\n",
       "      <td>07A</td>\n",
       "      <td>3.0</td>\n",
       "    </tr>\n",
       "    <tr>\n",
       "      <th>2900</th>\n",
       "      <td>0000 1275 BAY                 ST0000</td>\n",
       "      <td>1275 BAY ST</td>\n",
       "      <td>07A</td>\n",
       "      <td>1.0</td>\n",
       "    </tr>\n",
       "    <tr>\n",
       "      <th>2901</th>\n",
       "      <td>0000 1275 BAY                 ST0000</td>\n",
       "      <td>1275 BAY ST</td>\n",
       "      <td>07A</td>\n",
       "      <td>1.0</td>\n",
       "    </tr>\n",
       "    <tr>\n",
       "      <th>2916</th>\n",
       "      <td>0000 1254 10TH                AV0000</td>\n",
       "      <td>1254 10TH AVE</td>\n",
       "      <td>02F</td>\n",
       "      <td>5.0</td>\n",
       "    </tr>\n",
       "    <tr>\n",
       "      <th>2924</th>\n",
       "      <td>0000 1325 03RD                AV0000</td>\n",
       "      <td>1325 03RD AVE</td>\n",
       "      <td>02F</td>\n",
       "      <td>5.0</td>\n",
       "    </tr>\n",
       "    <tr>\n",
       "      <th>3005</th>\n",
       "      <td>0000 1426 WALLER              ST0000</td>\n",
       "      <td>1426 WALLER ST</td>\n",
       "      <td>05B</td>\n",
       "      <td>5.0</td>\n",
       "    </tr>\n",
       "    <tr>\n",
       "      <th>3006</th>\n",
       "      <td>0000 1426 WALLER              ST0000</td>\n",
       "      <td>1426 WALLER ST</td>\n",
       "      <td>05B</td>\n",
       "      <td>5.0</td>\n",
       "    </tr>\n",
       "    <tr>\n",
       "      <th>3367</th>\n",
       "      <td>0000 1890 WASHINGTON          ST0000</td>\n",
       "      <td>1890 WASHINGTON ST</td>\n",
       "      <td>07B</td>\n",
       "      <td>5.0</td>\n",
       "    </tr>\n",
       "    <tr>\n",
       "      <th>3399</th>\n",
       "      <td>0000 1761 VALLEJO             ST0000</td>\n",
       "      <td>1761 VALLEJO ST</td>\n",
       "      <td>07B</td>\n",
       "      <td>5.0</td>\n",
       "    </tr>\n",
       "    <tr>\n",
       "      <th>3504</th>\n",
       "      <td>0000 1298 SACRAMENTO          ST0000</td>\n",
       "      <td>1298 SACRAMENTO ST</td>\n",
       "      <td>08C</td>\n",
       "      <td>99.0</td>\n",
       "    </tr>\n",
       "    <tr>\n",
       "      <th>3535</th>\n",
       "      <td>0000 3080 JACKSON             ST0000</td>\n",
       "      <td>3080 JACKSON ST</td>\n",
       "      <td>07B</td>\n",
       "      <td>5.0</td>\n",
       "    </tr>\n",
       "    <tr>\n",
       "      <th>3763</th>\n",
       "      <td>0000 1221 JONES               ST0000</td>\n",
       "      <td>1221 JONES ST</td>\n",
       "      <td>08C</td>\n",
       "      <td>10.0</td>\n",
       "    </tr>\n",
       "    <tr>\n",
       "      <th>3778</th>\n",
       "      <td>0000 1201 FUNSTON             AV0000</td>\n",
       "      <td>1201 FUNSTON AVE</td>\n",
       "      <td>02F</td>\n",
       "      <td>99.0</td>\n",
       "    </tr>\n",
       "    <tr>\n",
       "      <th>3927</th>\n",
       "      <td>0000 1995 CHESTNUT            ST0000</td>\n",
       "      <td>1995 CHESTNUT ST</td>\n",
       "      <td>07A</td>\n",
       "      <td>3.0</td>\n",
       "    </tr>\n",
       "    <tr>\n",
       "      <th>3928</th>\n",
       "      <td>0000 1995 CHESTNUT            ST0000</td>\n",
       "      <td>1995 CHESTNUT ST</td>\n",
       "      <td>07A</td>\n",
       "      <td>3.0</td>\n",
       "    </tr>\n",
       "    <tr>\n",
       "      <th>...</th>\n",
       "      <td>...</td>\n",
       "      <td>...</td>\n",
       "      <td>...</td>\n",
       "      <td>...</td>\n",
       "    </tr>\n",
       "    <tr>\n",
       "      <th>63378</th>\n",
       "      <td>0000 1300 26TH                AV0000</td>\n",
       "      <td>1300 26TH AVE</td>\n",
       "      <td>02E</td>\n",
       "      <td>6.0</td>\n",
       "    </tr>\n",
       "    <tr>\n",
       "      <th>63379</th>\n",
       "      <td>0000 1300 26TH                AV0000</td>\n",
       "      <td>1300 26TH AVE</td>\n",
       "      <td>02E</td>\n",
       "      <td>5.0</td>\n",
       "    </tr>\n",
       "    <tr>\n",
       "      <th>63380</th>\n",
       "      <td>0000 1300 26TH                AV0000</td>\n",
       "      <td>1300 26TH AVE</td>\n",
       "      <td>02E</td>\n",
       "      <td>2.0</td>\n",
       "    </tr>\n",
       "    <tr>\n",
       "      <th>63777</th>\n",
       "      <td>0000 1000 POWELL              ST0000</td>\n",
       "      <td>1000 POWELL ST</td>\n",
       "      <td>08C</td>\n",
       "      <td>99.0</td>\n",
       "    </tr>\n",
       "    <tr>\n",
       "      <th>63862</th>\n",
       "      <td>0000 1137 BUSH                ST0000</td>\n",
       "      <td>1137 BUSH ST</td>\n",
       "      <td>08A</td>\n",
       "      <td>5.0</td>\n",
       "    </tr>\n",
       "    <tr>\n",
       "      <th>63878</th>\n",
       "      <td>0000 4770 MISSION             ST0000</td>\n",
       "      <td>4770 MISSION ST</td>\n",
       "      <td>10H</td>\n",
       "      <td>5.0</td>\n",
       "    </tr>\n",
       "    <tr>\n",
       "      <th>63955</th>\n",
       "      <td>0000 3999 MISSION             ST0000</td>\n",
       "      <td>3999 MISSION ST</td>\n",
       "      <td>09G</td>\n",
       "      <td>8.0</td>\n",
       "    </tr>\n",
       "    <tr>\n",
       "      <th>63994</th>\n",
       "      <td>0000 3231 FILLMORE            ST0000</td>\n",
       "      <td>3231 FILLMORE ST</td>\n",
       "      <td>07D</td>\n",
       "      <td>99.0</td>\n",
       "    </tr>\n",
       "    <tr>\n",
       "      <th>64003</th>\n",
       "      <td>0000 2775 MARKET              ST0000</td>\n",
       "      <td>2775 MARKET ST</td>\n",
       "      <td>05K</td>\n",
       "      <td>10.0</td>\n",
       "    </tr>\n",
       "    <tr>\n",
       "      <th>64061</th>\n",
       "      <td>0000 1163 PINE                ST0000</td>\n",
       "      <td>1163 PINE ST</td>\n",
       "      <td>08A</td>\n",
       "      <td>5.0</td>\n",
       "    </tr>\n",
       "    <tr>\n",
       "      <th>64098</th>\n",
       "      <td>0000 2120 GREENWICH           ST0000</td>\n",
       "      <td>2120 GREENWICH ST</td>\n",
       "      <td>07D</td>\n",
       "      <td>99.0</td>\n",
       "    </tr>\n",
       "    <tr>\n",
       "      <th>64099</th>\n",
       "      <td>0000 2120 GREENWICH           ST0000</td>\n",
       "      <td>2120 GREENWICH ST</td>\n",
       "      <td>07D</td>\n",
       "      <td>99.0</td>\n",
       "    </tr>\n",
       "    <tr>\n",
       "      <th>64327</th>\n",
       "      <td>0000 1059 LEAVENWORTH         ST0000</td>\n",
       "      <td>1059 LEAVENWORTH ST</td>\n",
       "      <td>08A</td>\n",
       "      <td>5.0</td>\n",
       "    </tr>\n",
       "    <tr>\n",
       "      <th>64726</th>\n",
       "      <td>0000 1650 GRANT               AV0000</td>\n",
       "      <td>1650 GRANT AVE</td>\n",
       "      <td>08G</td>\n",
       "      <td>99.0</td>\n",
       "    </tr>\n",
       "    <tr>\n",
       "      <th>64727</th>\n",
       "      <td>0000 1650 GRANT               AV0000</td>\n",
       "      <td>1650 GRANT AVE</td>\n",
       "      <td>08G</td>\n",
       "      <td>99.0</td>\n",
       "    </tr>\n",
       "    <tr>\n",
       "      <th>64814</th>\n",
       "      <td>0000 2030 VALLEJO             ST0000</td>\n",
       "      <td>2030 VALLEJO ST</td>\n",
       "      <td>07B</td>\n",
       "      <td>99.0</td>\n",
       "    </tr>\n",
       "    <tr>\n",
       "      <th>64985</th>\n",
       "      <td>0000 1801 21ST                AV0000</td>\n",
       "      <td>1801 21ST AVE</td>\n",
       "      <td>02E</td>\n",
       "      <td>5.0</td>\n",
       "    </tr>\n",
       "    <tr>\n",
       "      <th>65125</th>\n",
       "      <td>0000 3416 26TH                ST0000</td>\n",
       "      <td>3416 26TH ST</td>\n",
       "      <td>09C</td>\n",
       "      <td>5.0</td>\n",
       "    </tr>\n",
       "    <tr>\n",
       "      <th>65381</th>\n",
       "      <td>0000 3522 TARAVAL             ST0000</td>\n",
       "      <td>3522 TARAVAL ST</td>\n",
       "      <td>02B</td>\n",
       "      <td>2.0</td>\n",
       "    </tr>\n",
       "    <tr>\n",
       "      <th>65382</th>\n",
       "      <td>0000 3522 TARAVAL             ST0000</td>\n",
       "      <td>3522 TARAVAL ST</td>\n",
       "      <td>02B</td>\n",
       "      <td>2.0</td>\n",
       "    </tr>\n",
       "    <tr>\n",
       "      <th>65511</th>\n",
       "      <td>0000 1740 WASHINGTON          ST0000</td>\n",
       "      <td>1740 WASHINGTON ST</td>\n",
       "      <td>08C</td>\n",
       "      <td>5.0</td>\n",
       "    </tr>\n",
       "    <tr>\n",
       "      <th>65626</th>\n",
       "      <td>0000 1737 GOLDEN GATE         AV0000</td>\n",
       "      <td>1737 GOLDEN GATE AVE</td>\n",
       "      <td>06F</td>\n",
       "      <td>99.0</td>\n",
       "    </tr>\n",
       "    <tr>\n",
       "      <th>66000</th>\n",
       "      <td>0000 1300 31ST                AV0000</td>\n",
       "      <td>1300 31ST AVE</td>\n",
       "      <td>02E</td>\n",
       "      <td>5.0</td>\n",
       "    </tr>\n",
       "    <tr>\n",
       "      <th>66055</th>\n",
       "      <td>0000 2021 CALIFORNIA          ST0000</td>\n",
       "      <td>2021 CALIFORNIA ST</td>\n",
       "      <td>06C</td>\n",
       "      <td>5.0</td>\n",
       "    </tr>\n",
       "    <tr>\n",
       "      <th>66069</th>\n",
       "      <td>0000 1599 GREEN               ST0000</td>\n",
       "      <td>1599 GREEN ST</td>\n",
       "      <td>07B</td>\n",
       "      <td>99.0</td>\n",
       "    </tr>\n",
       "    <tr>\n",
       "      <th>66070</th>\n",
       "      <td>0000 1599 GREEN               ST0000</td>\n",
       "      <td>1599 GREEN ST</td>\n",
       "      <td>07B</td>\n",
       "      <td>99.0</td>\n",
       "    </tr>\n",
       "    <tr>\n",
       "      <th>66133</th>\n",
       "      <td>0000 1220 HAYES               ST0000</td>\n",
       "      <td>1220 HAYES ST</td>\n",
       "      <td>06E</td>\n",
       "      <td>5.0</td>\n",
       "    </tr>\n",
       "    <tr>\n",
       "      <th>66311</th>\n",
       "      <td>0000 1355 PINE                ST0000</td>\n",
       "      <td>1355 PINE ST</td>\n",
       "      <td>08A</td>\n",
       "      <td>5.0</td>\n",
       "    </tr>\n",
       "    <tr>\n",
       "      <th>66323</th>\n",
       "      <td>0000 2713 44TH                AV0000</td>\n",
       "      <td>2713 44TH AVE</td>\n",
       "      <td>02B</td>\n",
       "      <td>5.0</td>\n",
       "    </tr>\n",
       "    <tr>\n",
       "      <th>66711</th>\n",
       "      <td>0000 2207 CABRILLO            ST0000</td>\n",
       "      <td>2207 CABRILLO ST</td>\n",
       "      <td>01A</td>\n",
       "      <td>5.0</td>\n",
       "    </tr>\n",
       "  </tbody>\n",
       "</table>\n",
       "<p>560 rows × 4 columns</p>\n",
       "</div>"
      ],
      "text/plain": [
       "                          Property Location                  Address  \\\n",
       "45     0000 2969 JACKSON             ST0000          2969 JACKSON ST   \n",
       "652    0000 1085 SOUTH VAN NESS      AV0000  1085 SOUTH VAN NESS AVE   \n",
       "727    0000 2301 POLK                ST0000             2301 POLK ST   \n",
       "728    0000 2301 POLK                ST0000             2301 POLK ST   \n",
       "856    0000 3325 STEINER             ST0000          3325 STEINER ST   \n",
       "923    0000 2200 JACKSON             ST0000          2200 JACKSON ST   \n",
       "1009   0000 4100 FULTON              ST0000           4100 FULTON ST   \n",
       "1010   0000 4100 FULTON              ST0000           4100 FULTON ST   \n",
       "1171   0000 1275 17TH                AV0000            1275 17TH AVE   \n",
       "1279   0000 1064 DOLORES             ST0000          1064 DOLORES ST   \n",
       "1347   0000 1301 20TH                ST0000             1301 20TH ST   \n",
       "1905   0000 2841 SACRAMENTO          ST0000       2841 SACRAMENTO ST   \n",
       "2089   0000 1966 CALIFORNIA          ST0000       1966 CALIFORNIA ST   \n",
       "2216   0000 1565 OAK                 ST0000              1565 OAK ST   \n",
       "2454   0000 1890 CLAY                ST0000             1890 CLAY ST   \n",
       "2545   0000 1701 NORTH POINT         ST0000      1701 NORTH POINT ST   \n",
       "2900   0000 1275 BAY                 ST0000              1275 BAY ST   \n",
       "2901   0000 1275 BAY                 ST0000              1275 BAY ST   \n",
       "2916   0000 1254 10TH                AV0000            1254 10TH AVE   \n",
       "2924   0000 1325 03RD                AV0000            1325 03RD AVE   \n",
       "3005   0000 1426 WALLER              ST0000           1426 WALLER ST   \n",
       "3006   0000 1426 WALLER              ST0000           1426 WALLER ST   \n",
       "3367   0000 1890 WASHINGTON          ST0000       1890 WASHINGTON ST   \n",
       "3399   0000 1761 VALLEJO             ST0000          1761 VALLEJO ST   \n",
       "3504   0000 1298 SACRAMENTO          ST0000       1298 SACRAMENTO ST   \n",
       "3535   0000 3080 JACKSON             ST0000          3080 JACKSON ST   \n",
       "3763   0000 1221 JONES               ST0000            1221 JONES ST   \n",
       "3778   0000 1201 FUNSTON             AV0000         1201 FUNSTON AVE   \n",
       "3927   0000 1995 CHESTNUT            ST0000         1995 CHESTNUT ST   \n",
       "3928   0000 1995 CHESTNUT            ST0000         1995 CHESTNUT ST   \n",
       "...                                     ...                      ...   \n",
       "63378  0000 1300 26TH                AV0000            1300 26TH AVE   \n",
       "63379  0000 1300 26TH                AV0000            1300 26TH AVE   \n",
       "63380  0000 1300 26TH                AV0000            1300 26TH AVE   \n",
       "63777  0000 1000 POWELL              ST0000           1000 POWELL ST   \n",
       "63862  0000 1137 BUSH                ST0000             1137 BUSH ST   \n",
       "63878  0000 4770 MISSION             ST0000          4770 MISSION ST   \n",
       "63955  0000 3999 MISSION             ST0000          3999 MISSION ST   \n",
       "63994  0000 3231 FILLMORE            ST0000         3231 FILLMORE ST   \n",
       "64003  0000 2775 MARKET              ST0000           2775 MARKET ST   \n",
       "64061  0000 1163 PINE                ST0000             1163 PINE ST   \n",
       "64098  0000 2120 GREENWICH           ST0000        2120 GREENWICH ST   \n",
       "64099  0000 2120 GREENWICH           ST0000        2120 GREENWICH ST   \n",
       "64327  0000 1059 LEAVENWORTH         ST0000      1059 LEAVENWORTH ST   \n",
       "64726  0000 1650 GRANT               AV0000           1650 GRANT AVE   \n",
       "64727  0000 1650 GRANT               AV0000           1650 GRANT AVE   \n",
       "64814  0000 2030 VALLEJO             ST0000          2030 VALLEJO ST   \n",
       "64985  0000 1801 21ST                AV0000            1801 21ST AVE   \n",
       "65125  0000 3416 26TH                ST0000             3416 26TH ST   \n",
       "65381  0000 3522 TARAVAL             ST0000          3522 TARAVAL ST   \n",
       "65382  0000 3522 TARAVAL             ST0000          3522 TARAVAL ST   \n",
       "65511  0000 1740 WASHINGTON          ST0000       1740 WASHINGTON ST   \n",
       "65626  0000 1737 GOLDEN GATE         AV0000     1737 GOLDEN GATE AVE   \n",
       "66000  0000 1300 31ST                AV0000            1300 31ST AVE   \n",
       "66055  0000 2021 CALIFORNIA          ST0000       2021 CALIFORNIA ST   \n",
       "66069  0000 1599 GREEN               ST0000            1599 GREEN ST   \n",
       "66070  0000 1599 GREEN               ST0000            1599 GREEN ST   \n",
       "66133  0000 1220 HAYES               ST0000            1220 HAYES ST   \n",
       "66311  0000 1355 PINE                ST0000             1355 PINE ST   \n",
       "66323  0000 2713 44TH                AV0000            2713 44TH AVE   \n",
       "66711  0000 2207 CABRILLO            ST0000         2207 CABRILLO ST   \n",
       "\n",
       "      Neighborhood Code  Complaint Item Type  \n",
       "45                  07B                  5.0  \n",
       "652                 09C                  5.0  \n",
       "727                 08E                  5.0  \n",
       "728                 08E                  6.0  \n",
       "856                 07A                  5.0  \n",
       "923                 07B                  5.0  \n",
       "1009                01A                  2.0  \n",
       "1010                01A                  5.0  \n",
       "1171                02F                  5.0  \n",
       "1279                05C                 99.0  \n",
       "1347                09E                 99.0  \n",
       "1905                07B                  2.0  \n",
       "2089                07B                  5.0  \n",
       "2216                05B                  6.0  \n",
       "2454                07B                  5.0  \n",
       "2545                07A                  3.0  \n",
       "2900                07A                  1.0  \n",
       "2901                07A                  1.0  \n",
       "2916                02F                  5.0  \n",
       "2924                02F                  5.0  \n",
       "3005                05B                  5.0  \n",
       "3006                05B                  5.0  \n",
       "3367                07B                  5.0  \n",
       "3399                07B                  5.0  \n",
       "3504                08C                 99.0  \n",
       "3535                07B                  5.0  \n",
       "3763                08C                 10.0  \n",
       "3778                02F                 99.0  \n",
       "3927                07A                  3.0  \n",
       "3928                07A                  3.0  \n",
       "...                 ...                  ...  \n",
       "63378               02E                  6.0  \n",
       "63379               02E                  5.0  \n",
       "63380               02E                  2.0  \n",
       "63777               08C                 99.0  \n",
       "63862               08A                  5.0  \n",
       "63878               10H                  5.0  \n",
       "63955               09G                  8.0  \n",
       "63994               07D                 99.0  \n",
       "64003               05K                 10.0  \n",
       "64061               08A                  5.0  \n",
       "64098               07D                 99.0  \n",
       "64099               07D                 99.0  \n",
       "64327               08A                  5.0  \n",
       "64726               08G                 99.0  \n",
       "64727               08G                 99.0  \n",
       "64814               07B                 99.0  \n",
       "64985               02E                  5.0  \n",
       "65125               09C                  5.0  \n",
       "65381               02B                  2.0  \n",
       "65382               02B                  2.0  \n",
       "65511               08C                  5.0  \n",
       "65626               06F                 99.0  \n",
       "66000               02E                  5.0  \n",
       "66055               06C                  5.0  \n",
       "66069               07B                 99.0  \n",
       "66070               07B                 99.0  \n",
       "66133               06E                  5.0  \n",
       "66311               08A                  5.0  \n",
       "66323               02B                  5.0  \n",
       "66711               01A                  5.0  \n",
       "\n",
       "[560 rows x 4 columns]"
      ]
     },
     "execution_count": 377,
     "metadata": {},
     "output_type": "execute_result"
    }
   ],
   "source": [
    "pr_f2[['Property Location', 'Address', 'Neighborhood Code', 'Complaint Item Type']].dropna()"
   ]
  },
  {
   "cell_type": "markdown",
   "metadata": {},
   "source": [
    "Want a feature that tells you approximately the last date at which the home was inspected. \n",
    "\n",
    "I'm going to use the information about Inspection End Date and Property Location to identify each home's most recent inspection. "
   ]
  },
  {
   "cell_type": "code",
   "execution_count": null,
   "metadata": {
    "collapsed": true
   },
   "outputs": [],
   "source": [
    "pr_f2[['Property Location', 'year', 'Inspection Start Date', 'Inspection End Date']]"
   ]
  },
  {
   "cell_type": "code",
   "execution_count": 388,
   "metadata": {
    "collapsed": false
   },
   "outputs": [
    {
     "data": {
      "text/html": [
       "<div>\n",
       "<table border=\"1\" class=\"dataframe\">\n",
       "  <thead>\n",
       "    <tr style=\"text-align: right;\">\n",
       "      <th></th>\n",
       "      <th>Property Location</th>\n",
       "      <th>year</th>\n",
       "      <th>Inspection Start Date</th>\n",
       "      <th>Inspection End Date</th>\n",
       "    </tr>\n",
       "  </thead>\n",
       "  <tbody>\n",
       "    <tr>\n",
       "      <th>44</th>\n",
       "      <td>0000 2969 JACKSON             ST0000</td>\n",
       "      <td>2011.0</td>\n",
       "      <td>03/25/2011</td>\n",
       "      <td>03/25/2011</td>\n",
       "    </tr>\n",
       "    <tr>\n",
       "      <th>45</th>\n",
       "      <td>0000 2969 JACKSON             ST0000</td>\n",
       "      <td>2011.0</td>\n",
       "      <td>04/04/2011</td>\n",
       "      <td>04/04/2011</td>\n",
       "    </tr>\n",
       "    <tr>\n",
       "      <th>101</th>\n",
       "      <td>0000 2329 SACRAMENTO          ST0000</td>\n",
       "      <td>2012.0</td>\n",
       "      <td>05/23/2012</td>\n",
       "      <td>05/23/2012</td>\n",
       "    </tr>\n",
       "    <tr>\n",
       "      <th>112</th>\n",
       "      <td>0000 2526 VAN NESS            AV0000</td>\n",
       "      <td>2012.0</td>\n",
       "      <td>10/31/2012</td>\n",
       "      <td>10/31/2012</td>\n",
       "    </tr>\n",
       "    <tr>\n",
       "      <th>116</th>\n",
       "      <td>0000 1489 WEBSTER             ST0000</td>\n",
       "      <td>2013.0</td>\n",
       "      <td>04/29/2013</td>\n",
       "      <td>04/29/2013</td>\n",
       "    </tr>\n",
       "    <tr>\n",
       "      <th>117</th>\n",
       "      <td>0000 1489 WEBSTER             ST0000</td>\n",
       "      <td>2013.0</td>\n",
       "      <td>04/29/2013</td>\n",
       "      <td>04/29/2013</td>\n",
       "    </tr>\n",
       "    <tr>\n",
       "      <th>118</th>\n",
       "      <td>0000 1489 WEBSTER             ST0000</td>\n",
       "      <td>2013.0</td>\n",
       "      <td>04/29/2013</td>\n",
       "      <td>04/29/2013</td>\n",
       "    </tr>\n",
       "    <tr>\n",
       "      <th>155</th>\n",
       "      <td>0000 2350 UNION               ST0000</td>\n",
       "      <td>2013.0</td>\n",
       "      <td>03/13/2013</td>\n",
       "      <td>03/13/2013</td>\n",
       "    </tr>\n",
       "    <tr>\n",
       "      <th>158</th>\n",
       "      <td>0000 1074 UNION               ST0000</td>\n",
       "      <td>2013.0</td>\n",
       "      <td>03/22/2013</td>\n",
       "      <td>03/22/2013</td>\n",
       "    </tr>\n",
       "    <tr>\n",
       "      <th>167</th>\n",
       "      <td>0000 1250 TAYLOR              ST0000</td>\n",
       "      <td>2011.0</td>\n",
       "      <td>06/06/2011</td>\n",
       "      <td>06/06/2011</td>\n",
       "    </tr>\n",
       "    <tr>\n",
       "      <th>175</th>\n",
       "      <td>0000 1489 WEBSTER             ST0000</td>\n",
       "      <td>2012.0</td>\n",
       "      <td>04/18/2012</td>\n",
       "      <td>04/18/2012</td>\n",
       "    </tr>\n",
       "    <tr>\n",
       "      <th>176</th>\n",
       "      <td>0000 1489 WEBSTER             ST0000</td>\n",
       "      <td>2012.0</td>\n",
       "      <td>11/29/2012</td>\n",
       "      <td>11/29/2012</td>\n",
       "    </tr>\n",
       "    <tr>\n",
       "      <th>177</th>\n",
       "      <td>0000 1489 WEBSTER             ST0000</td>\n",
       "      <td>2012.0</td>\n",
       "      <td>04/18/2012</td>\n",
       "      <td>04/18/2012</td>\n",
       "    </tr>\n",
       "    <tr>\n",
       "      <th>178</th>\n",
       "      <td>0000 1489 WEBSTER             ST0000</td>\n",
       "      <td>2012.0</td>\n",
       "      <td>04/18/2012</td>\n",
       "      <td>04/18/2012</td>\n",
       "    </tr>\n",
       "    <tr>\n",
       "      <th>179</th>\n",
       "      <td>0000 1489 WEBSTER             ST0000</td>\n",
       "      <td>2012.0</td>\n",
       "      <td>08/29/2012</td>\n",
       "      <td>08/29/2012</td>\n",
       "    </tr>\n",
       "    <tr>\n",
       "      <th>180</th>\n",
       "      <td>0000 1489 WEBSTER             ST0000</td>\n",
       "      <td>2012.0</td>\n",
       "      <td>08/29/2012</td>\n",
       "      <td>08/29/2012</td>\n",
       "    </tr>\n",
       "    <tr>\n",
       "      <th>219</th>\n",
       "      <td>0000 3737 FILLMORE            ST0000</td>\n",
       "      <td>2011.0</td>\n",
       "      <td>01/12/2011</td>\n",
       "      <td>01/12/2011</td>\n",
       "    </tr>\n",
       "    <tr>\n",
       "      <th>255</th>\n",
       "      <td>0000 2350 UNION               ST0000</td>\n",
       "      <td>2012.0</td>\n",
       "      <td>03/02/2012</td>\n",
       "      <td>03/02/2012</td>\n",
       "    </tr>\n",
       "    <tr>\n",
       "      <th>292</th>\n",
       "      <td>0000 1745 FRANKLIN            ST0000</td>\n",
       "      <td>2012.0</td>\n",
       "      <td>03/23/2012</td>\n",
       "      <td>03/23/2012</td>\n",
       "    </tr>\n",
       "    <tr>\n",
       "      <th>299</th>\n",
       "      <td>0000 4100 FULTON              ST0000</td>\n",
       "      <td>2011.0</td>\n",
       "      <td>06/06/2011</td>\n",
       "      <td>06/06/2011</td>\n",
       "    </tr>\n",
       "    <tr>\n",
       "      <th>307</th>\n",
       "      <td>0000 3360 OCTAVIA             ST0000</td>\n",
       "      <td>2011.0</td>\n",
       "      <td>10/03/2011</td>\n",
       "      <td>10/03/2011</td>\n",
       "    </tr>\n",
       "    <tr>\n",
       "      <th>328</th>\n",
       "      <td>0000 1200 17TH                AV0000</td>\n",
       "      <td>2011.0</td>\n",
       "      <td>06/02/2011</td>\n",
       "      <td>06/02/2011</td>\n",
       "    </tr>\n",
       "    <tr>\n",
       "      <th>347</th>\n",
       "      <td>0000 2395 PACIFIC             AV0000</td>\n",
       "      <td>2012.0</td>\n",
       "      <td>04/19/2012</td>\n",
       "      <td>04/19/2012</td>\n",
       "    </tr>\n",
       "    <tr>\n",
       "      <th>405</th>\n",
       "      <td>0000 3465 SACRAMENTO          ST0000</td>\n",
       "      <td>2013.0</td>\n",
       "      <td>10/28/2013</td>\n",
       "      <td>10/28/2013</td>\n",
       "    </tr>\n",
       "    <tr>\n",
       "      <th>420</th>\n",
       "      <td>0000 2240 BAY                 ST0000</td>\n",
       "      <td>2011.0</td>\n",
       "      <td>01/24/2011</td>\n",
       "      <td>01/24/2011</td>\n",
       "    </tr>\n",
       "    <tr>\n",
       "      <th>439</th>\n",
       "      <td>0000 1200 CLAY                ST0000</td>\n",
       "      <td>2012.0</td>\n",
       "      <td>12/26/2012</td>\n",
       "      <td>12/26/2012</td>\n",
       "    </tr>\n",
       "    <tr>\n",
       "      <th>450</th>\n",
       "      <td>0000 1489 WEBSTER             ST0000</td>\n",
       "      <td>2014.0</td>\n",
       "      <td>05/02/2014</td>\n",
       "      <td>05/02/2014</td>\n",
       "    </tr>\n",
       "    <tr>\n",
       "      <th>451</th>\n",
       "      <td>0000 1489 WEBSTER             ST0000</td>\n",
       "      <td>2014.0</td>\n",
       "      <td>04/18/2014</td>\n",
       "      <td>04/18/2014</td>\n",
       "    </tr>\n",
       "    <tr>\n",
       "      <th>452</th>\n",
       "      <td>0000 1489 WEBSTER             ST0000</td>\n",
       "      <td>2014.0</td>\n",
       "      <td>04/23/2014</td>\n",
       "      <td>04/23/2014</td>\n",
       "    </tr>\n",
       "    <tr>\n",
       "      <th>453</th>\n",
       "      <td>0000 1489 WEBSTER             ST0000</td>\n",
       "      <td>2014.0</td>\n",
       "      <td>04/18/2014</td>\n",
       "      <td>04/23/2014</td>\n",
       "    </tr>\n",
       "    <tr>\n",
       "      <th>...</th>\n",
       "      <td>...</td>\n",
       "      <td>...</td>\n",
       "      <td>...</td>\n",
       "      <td>...</td>\n",
       "    </tr>\n",
       "    <tr>\n",
       "      <th>66188</th>\n",
       "      <td>0000 1082 POST                ST0000</td>\n",
       "      <td>2013.0</td>\n",
       "      <td>07/25/2013</td>\n",
       "      <td>07/25/2013</td>\n",
       "    </tr>\n",
       "    <tr>\n",
       "      <th>66195</th>\n",
       "      <td>0000 2045 CALIFORNIA          ST0000</td>\n",
       "      <td>2011.0</td>\n",
       "      <td>04/19/2011</td>\n",
       "      <td>04/19/2011</td>\n",
       "    </tr>\n",
       "    <tr>\n",
       "      <th>66197</th>\n",
       "      <td>0000 1212 WILLARD             ST0000</td>\n",
       "      <td>2012.0</td>\n",
       "      <td>06/04/2012</td>\n",
       "      <td>06/04/2012</td>\n",
       "    </tr>\n",
       "    <tr>\n",
       "      <th>66218</th>\n",
       "      <td>0000 1644 CLAY                ST0000</td>\n",
       "      <td>2011.0</td>\n",
       "      <td>02/09/2011</td>\n",
       "      <td>02/09/2011</td>\n",
       "    </tr>\n",
       "    <tr>\n",
       "      <th>66229</th>\n",
       "      <td>0000 3232 21ST                ST0000</td>\n",
       "      <td>2011.0</td>\n",
       "      <td>11/07/2011</td>\n",
       "      <td>11/07/2011</td>\n",
       "    </tr>\n",
       "    <tr>\n",
       "      <th>66293</th>\n",
       "      <td>0000 1045 LAKE                ST0000</td>\n",
       "      <td>2012.0</td>\n",
       "      <td>06/29/2012</td>\n",
       "      <td>06/29/2012</td>\n",
       "    </tr>\n",
       "    <tr>\n",
       "      <th>66294</th>\n",
       "      <td>0000 1545 GREENWICH           ST0000</td>\n",
       "      <td>2011.0</td>\n",
       "      <td>05/17/2011</td>\n",
       "      <td>05/17/2011</td>\n",
       "    </tr>\n",
       "    <tr>\n",
       "      <th>66296</th>\n",
       "      <td>0000 1000 POWELL              ST0000</td>\n",
       "      <td>2012.0</td>\n",
       "      <td>12/30/2012</td>\n",
       "      <td>12/30/2012</td>\n",
       "    </tr>\n",
       "    <tr>\n",
       "      <th>66310</th>\n",
       "      <td>0000 1355 PINE                ST0000</td>\n",
       "      <td>2011.0</td>\n",
       "      <td>04/20/2011</td>\n",
       "      <td>04/20/2011</td>\n",
       "    </tr>\n",
       "    <tr>\n",
       "      <th>66311</th>\n",
       "      <td>0000 1355 PINE                ST0000</td>\n",
       "      <td>2011.0</td>\n",
       "      <td>03/15/2011</td>\n",
       "      <td>03/24/2011</td>\n",
       "    </tr>\n",
       "    <tr>\n",
       "      <th>66323</th>\n",
       "      <td>0000 2713 44TH                AV0000</td>\n",
       "      <td>2013.0</td>\n",
       "      <td>06/24/2013</td>\n",
       "      <td>06/24/2013</td>\n",
       "    </tr>\n",
       "    <tr>\n",
       "      <th>66364</th>\n",
       "      <td>0000 1250 GROVE               ST0000</td>\n",
       "      <td>2012.0</td>\n",
       "      <td>02/15/2012</td>\n",
       "      <td>02/15/2012</td>\n",
       "    </tr>\n",
       "    <tr>\n",
       "      <th>66376</th>\n",
       "      <td>0000 1106 BUSH                ST0000</td>\n",
       "      <td>2013.0</td>\n",
       "      <td>04/03/2013</td>\n",
       "      <td>04/03/2013</td>\n",
       "    </tr>\n",
       "    <tr>\n",
       "      <th>66387</th>\n",
       "      <td>0000 1200 FULTON              ST0000</td>\n",
       "      <td>2013.0</td>\n",
       "      <td>03/11/2013</td>\n",
       "      <td>03/11/2013</td>\n",
       "    </tr>\n",
       "    <tr>\n",
       "      <th>66404</th>\n",
       "      <td>0000 1563 HYDE                ST0000</td>\n",
       "      <td>2012.0</td>\n",
       "      <td>08/13/2012</td>\n",
       "      <td>08/13/2012</td>\n",
       "    </tr>\n",
       "    <tr>\n",
       "      <th>66447</th>\n",
       "      <td>0000 1111 PINE                ST0000</td>\n",
       "      <td>2012.0</td>\n",
       "      <td>08/06/2012</td>\n",
       "      <td>08/06/2012</td>\n",
       "    </tr>\n",
       "    <tr>\n",
       "      <th>66462</th>\n",
       "      <td>0000 1650 CLAY                ST0000</td>\n",
       "      <td>2011.0</td>\n",
       "      <td>01/28/2011</td>\n",
       "      <td>01/28/2011</td>\n",
       "    </tr>\n",
       "    <tr>\n",
       "      <th>66526</th>\n",
       "      <td>0000 2038 MCALLISTER          ST0000</td>\n",
       "      <td>2013.0</td>\n",
       "      <td>07/09/2013</td>\n",
       "      <td>07/09/2013</td>\n",
       "    </tr>\n",
       "    <tr>\n",
       "      <th>66563</th>\n",
       "      <td>0000 4076 17TH                ST0000</td>\n",
       "      <td>2013.0</td>\n",
       "      <td>03/04/2013</td>\n",
       "      <td>03/04/2013</td>\n",
       "    </tr>\n",
       "    <tr>\n",
       "      <th>66568</th>\n",
       "      <td>0000 1324 JACKSON             ST0000</td>\n",
       "      <td>2011.0</td>\n",
       "      <td>04/28/2011</td>\n",
       "      <td>04/28/2011</td>\n",
       "    </tr>\n",
       "    <tr>\n",
       "      <th>66572</th>\n",
       "      <td>0000 1884 GREENWICH           ST0000</td>\n",
       "      <td>2013.0</td>\n",
       "      <td>06/10/2013</td>\n",
       "      <td>06/10/2013</td>\n",
       "    </tr>\n",
       "    <tr>\n",
       "      <th>66578</th>\n",
       "      <td>0000 1650 OCTAVIA             ST0000</td>\n",
       "      <td>2013.0</td>\n",
       "      <td>06/13/2013</td>\n",
       "      <td>06/13/2013</td>\n",
       "    </tr>\n",
       "    <tr>\n",
       "      <th>66596</th>\n",
       "      <td>0000 1580 FILBERT             ST0000</td>\n",
       "      <td>2012.0</td>\n",
       "      <td>04/23/2012</td>\n",
       "      <td>04/23/2012</td>\n",
       "    </tr>\n",
       "    <tr>\n",
       "      <th>66640</th>\n",
       "      <td>0000 1101 CAPP                ST0000</td>\n",
       "      <td>2011.0</td>\n",
       "      <td>06/14/2011</td>\n",
       "      <td>06/14/2011</td>\n",
       "    </tr>\n",
       "    <tr>\n",
       "      <th>66645</th>\n",
       "      <td>0000 1351 CALIFORNIA          ST0000</td>\n",
       "      <td>2011.0</td>\n",
       "      <td>02/25/2011</td>\n",
       "      <td>02/25/2011</td>\n",
       "    </tr>\n",
       "    <tr>\n",
       "      <th>66648</th>\n",
       "      <td>0000 1261 BRODERICK           ST0000</td>\n",
       "      <td>2011.0</td>\n",
       "      <td>01/15/2011</td>\n",
       "      <td>01/15/2011</td>\n",
       "    </tr>\n",
       "    <tr>\n",
       "      <th>66649</th>\n",
       "      <td>0000 1777 PINE                ST0000</td>\n",
       "      <td>2012.0</td>\n",
       "      <td>07/05/2012</td>\n",
       "      <td>07/05/2012</td>\n",
       "    </tr>\n",
       "    <tr>\n",
       "      <th>66666</th>\n",
       "      <td>0000 2190 GROVE               ST0000</td>\n",
       "      <td>2011.0</td>\n",
       "      <td>05/06/2011</td>\n",
       "      <td>05/06/2011</td>\n",
       "    </tr>\n",
       "    <tr>\n",
       "      <th>66689</th>\n",
       "      <td>0000 1450 CLAY                ST0000</td>\n",
       "      <td>2013.0</td>\n",
       "      <td>04/25/2013</td>\n",
       "      <td>04/25/2013</td>\n",
       "    </tr>\n",
       "    <tr>\n",
       "      <th>66723</th>\n",
       "      <td>0000 1520 GOUGH               ST0000</td>\n",
       "      <td>2012.0</td>\n",
       "      <td>04/20/2012</td>\n",
       "      <td>04/20/2012</td>\n",
       "    </tr>\n",
       "  </tbody>\n",
       "</table>\n",
       "<p>4896 rows × 4 columns</p>\n",
       "</div>"
      ],
      "text/plain": [
       "                          Property Location    year Inspection Start Date  \\\n",
       "44     0000 2969 JACKSON             ST0000  2011.0            03/25/2011   \n",
       "45     0000 2969 JACKSON             ST0000  2011.0            04/04/2011   \n",
       "101    0000 2329 SACRAMENTO          ST0000  2012.0            05/23/2012   \n",
       "112    0000 2526 VAN NESS            AV0000  2012.0            10/31/2012   \n",
       "116    0000 1489 WEBSTER             ST0000  2013.0            04/29/2013   \n",
       "117    0000 1489 WEBSTER             ST0000  2013.0            04/29/2013   \n",
       "118    0000 1489 WEBSTER             ST0000  2013.0            04/29/2013   \n",
       "155    0000 2350 UNION               ST0000  2013.0            03/13/2013   \n",
       "158    0000 1074 UNION               ST0000  2013.0            03/22/2013   \n",
       "167    0000 1250 TAYLOR              ST0000  2011.0            06/06/2011   \n",
       "175    0000 1489 WEBSTER             ST0000  2012.0            04/18/2012   \n",
       "176    0000 1489 WEBSTER             ST0000  2012.0            11/29/2012   \n",
       "177    0000 1489 WEBSTER             ST0000  2012.0            04/18/2012   \n",
       "178    0000 1489 WEBSTER             ST0000  2012.0            04/18/2012   \n",
       "179    0000 1489 WEBSTER             ST0000  2012.0            08/29/2012   \n",
       "180    0000 1489 WEBSTER             ST0000  2012.0            08/29/2012   \n",
       "219    0000 3737 FILLMORE            ST0000  2011.0            01/12/2011   \n",
       "255    0000 2350 UNION               ST0000  2012.0            03/02/2012   \n",
       "292    0000 1745 FRANKLIN            ST0000  2012.0            03/23/2012   \n",
       "299    0000 4100 FULTON              ST0000  2011.0            06/06/2011   \n",
       "307    0000 3360 OCTAVIA             ST0000  2011.0            10/03/2011   \n",
       "328    0000 1200 17TH                AV0000  2011.0            06/02/2011   \n",
       "347    0000 2395 PACIFIC             AV0000  2012.0            04/19/2012   \n",
       "405    0000 3465 SACRAMENTO          ST0000  2013.0            10/28/2013   \n",
       "420    0000 2240 BAY                 ST0000  2011.0            01/24/2011   \n",
       "439    0000 1200 CLAY                ST0000  2012.0            12/26/2012   \n",
       "450    0000 1489 WEBSTER             ST0000  2014.0            05/02/2014   \n",
       "451    0000 1489 WEBSTER             ST0000  2014.0            04/18/2014   \n",
       "452    0000 1489 WEBSTER             ST0000  2014.0            04/23/2014   \n",
       "453    0000 1489 WEBSTER             ST0000  2014.0            04/18/2014   \n",
       "...                                     ...     ...                   ...   \n",
       "66188  0000 1082 POST                ST0000  2013.0            07/25/2013   \n",
       "66195  0000 2045 CALIFORNIA          ST0000  2011.0            04/19/2011   \n",
       "66197  0000 1212 WILLARD             ST0000  2012.0            06/04/2012   \n",
       "66218  0000 1644 CLAY                ST0000  2011.0            02/09/2011   \n",
       "66229  0000 3232 21ST                ST0000  2011.0            11/07/2011   \n",
       "66293  0000 1045 LAKE                ST0000  2012.0            06/29/2012   \n",
       "66294  0000 1545 GREENWICH           ST0000  2011.0            05/17/2011   \n",
       "66296  0000 1000 POWELL              ST0000  2012.0            12/30/2012   \n",
       "66310  0000 1355 PINE                ST0000  2011.0            04/20/2011   \n",
       "66311  0000 1355 PINE                ST0000  2011.0            03/15/2011   \n",
       "66323  0000 2713 44TH                AV0000  2013.0            06/24/2013   \n",
       "66364  0000 1250 GROVE               ST0000  2012.0            02/15/2012   \n",
       "66376  0000 1106 BUSH                ST0000  2013.0            04/03/2013   \n",
       "66387  0000 1200 FULTON              ST0000  2013.0            03/11/2013   \n",
       "66404  0000 1563 HYDE                ST0000  2012.0            08/13/2012   \n",
       "66447  0000 1111 PINE                ST0000  2012.0            08/06/2012   \n",
       "66462  0000 1650 CLAY                ST0000  2011.0            01/28/2011   \n",
       "66526  0000 2038 MCALLISTER          ST0000  2013.0            07/09/2013   \n",
       "66563  0000 4076 17TH                ST0000  2013.0            03/04/2013   \n",
       "66568  0000 1324 JACKSON             ST0000  2011.0            04/28/2011   \n",
       "66572  0000 1884 GREENWICH           ST0000  2013.0            06/10/2013   \n",
       "66578  0000 1650 OCTAVIA             ST0000  2013.0            06/13/2013   \n",
       "66596  0000 1580 FILBERT             ST0000  2012.0            04/23/2012   \n",
       "66640  0000 1101 CAPP                ST0000  2011.0            06/14/2011   \n",
       "66645  0000 1351 CALIFORNIA          ST0000  2011.0            02/25/2011   \n",
       "66648  0000 1261 BRODERICK           ST0000  2011.0            01/15/2011   \n",
       "66649  0000 1777 PINE                ST0000  2012.0            07/05/2012   \n",
       "66666  0000 2190 GROVE               ST0000  2011.0            05/06/2011   \n",
       "66689  0000 1450 CLAY                ST0000  2013.0            04/25/2013   \n",
       "66723  0000 1520 GOUGH               ST0000  2012.0            04/20/2012   \n",
       "\n",
       "      Inspection End Date  \n",
       "44             03/25/2011  \n",
       "45             04/04/2011  \n",
       "101            05/23/2012  \n",
       "112            10/31/2012  \n",
       "116            04/29/2013  \n",
       "117            04/29/2013  \n",
       "118            04/29/2013  \n",
       "155            03/13/2013  \n",
       "158            03/22/2013  \n",
       "167            06/06/2011  \n",
       "175            04/18/2012  \n",
       "176            11/29/2012  \n",
       "177            04/18/2012  \n",
       "178            04/18/2012  \n",
       "179            08/29/2012  \n",
       "180            08/29/2012  \n",
       "219            01/12/2011  \n",
       "255            03/02/2012  \n",
       "292            03/23/2012  \n",
       "299            06/06/2011  \n",
       "307            10/03/2011  \n",
       "328            06/02/2011  \n",
       "347            04/19/2012  \n",
       "405            10/28/2013  \n",
       "420            01/24/2011  \n",
       "439            12/26/2012  \n",
       "450            05/02/2014  \n",
       "451            04/18/2014  \n",
       "452            04/23/2014  \n",
       "453            04/23/2014  \n",
       "...                   ...  \n",
       "66188          07/25/2013  \n",
       "66195          04/19/2011  \n",
       "66197          06/04/2012  \n",
       "66218          02/09/2011  \n",
       "66229          11/07/2011  \n",
       "66293          06/29/2012  \n",
       "66294          05/17/2011  \n",
       "66296          12/30/2012  \n",
       "66310          04/20/2011  \n",
       "66311          03/24/2011  \n",
       "66323          06/24/2013  \n",
       "66364          02/15/2012  \n",
       "66376          04/03/2013  \n",
       "66387          03/11/2013  \n",
       "66404          08/13/2012  \n",
       "66447          08/06/2012  \n",
       "66462          01/28/2011  \n",
       "66526          07/09/2013  \n",
       "66563          03/04/2013  \n",
       "66568          04/28/2011  \n",
       "66572          06/10/2013  \n",
       "66578          06/13/2013  \n",
       "66596          04/23/2012  \n",
       "66640          06/14/2011  \n",
       "66645          02/25/2011  \n",
       "66648          01/15/2011  \n",
       "66649          07/05/2012  \n",
       "66666          05/06/2011  \n",
       "66689          04/25/2013  \n",
       "66723          04/20/2012  \n",
       "\n",
       "[4896 rows x 4 columns]"
      ]
     },
     "execution_count": 388,
     "metadata": {},
     "output_type": "execute_result"
    }
   ],
   "source": [
    "pr_f2[['Property Location', 'year', 'Inspection Start Date', 'Inspection End Date']].dropna()"
   ]
  },
  {
   "cell_type": "code",
   "execution_count": 375,
   "metadata": {
    "collapsed": false
   },
   "outputs": [
    {
     "data": {
      "text/plain": [
       "array(['Closed Roll Fiscal Year', 'Property Location', 'Neighborhood Code',\n",
       "       'Neighborhood Code Definition', 'Block and Lot Number',\n",
       "       'Volume Number', 'Property Class Code',\n",
       "       'Property Class Code Definition', 'Year Property Built',\n",
       "       'Number of Bathrooms', 'Number of Bedrooms', 'Number of Rooms',\n",
       "       'Number of Stories', 'Number of Units',\n",
       "       'Characteristics Change Date', 'Zoning Code', 'Construction Type',\n",
       "       'Lot Depth', 'Lot Frontage', 'Property Area in Square Feet',\n",
       "       'Basement Area', 'Lot Area', 'Lot Code', 'Prior Sales Date',\n",
       "       'Recordation Date', 'Document Number', 'Document Number 2',\n",
       "       'Tax Rate Area Code', 'Percent of Ownership',\n",
       "       'Closed Roll Exemption Type Code',\n",
       "       'Closed Roll Exemption Type Code Definition',\n",
       "       'Closed Roll Status Code', 'Closed Roll Misc Exemption Value',\n",
       "       'Closed Roll Homeowner Exemption Value', 'Current Sales Date',\n",
       "       'Closed Roll Assessed Fixtures Value',\n",
       "       'Closed Roll Assessed Improvement Value',\n",
       "       'Closed Roll Assessed Land Value',\n",
       "       'Closed Roll Assessed Personal Prop Value', 'Zipcode of Parcel',\n",
       "       'Supervisor District_x', 'Neighborhoods - Analysis Boundaries',\n",
       "       'Location_x', 'street_type', 'bulk', 'Address', 'year',\n",
       "       'Inspection Number', 'Inspection Type',\n",
       "       'Inspection Type Description', 'Inspection Address Zipcode',\n",
       "       'Battalion', 'Station Area', 'Fire Prevention District',\n",
       "       'Billable Inspection', 'Inspection Start Date',\n",
       "       'Inspection End Date', 'Inspection Status', 'Return Date',\n",
       "       'Corrective Action Date', 'Referral Agency', 'Complaint Number',\n",
       "       'Permit Number', 'Referral Number', 'Violation Number',\n",
       "       'DBI Application Number', 'Invoice Date', 'Second Notice Date',\n",
       "       'Final Notice Date', 'Lien Date',\n",
       "       'Sent to Bureau of Delinquent Revenue', 'Invoice Amount', 'Fee',\n",
       "       'Penalty Amount', 'Posting Fee', 'Interest Amount', 'Paid Amount',\n",
       "       'Paid Date', 'Supervisor District_y', 'Neighborhood  District',\n",
       "       'Location_y', 'Address_orig', 'Complaint Item Type',\n",
       "       'Received Date', 'Violation Date', 'Violation Item',\n",
       "       'Violation Item Description', 'Status', 'Close Date'], dtype=object)"
      ]
     },
     "execution_count": 375,
     "metadata": {},
     "output_type": "execute_result"
    }
   ],
   "source": [
    "pr_f2.columns.values"
   ]
  },
  {
   "cell_type": "code",
   "execution_count": null,
   "metadata": {
    "collapsed": true
   },
   "outputs": [],
   "source": []
  },
  {
   "cell_type": "code",
   "execution_count": null,
   "metadata": {
    "collapsed": true
   },
   "outputs": [],
   "source": []
  },
  {
   "cell_type": "code",
   "execution_count": null,
   "metadata": {
    "collapsed": true
   },
   "outputs": [],
   "source": []
  },
  {
   "cell_type": "code",
   "execution_count": null,
   "metadata": {
    "collapsed": true
   },
   "outputs": [],
   "source": []
  },
  {
   "cell_type": "code",
   "execution_count": null,
   "metadata": {
    "collapsed": true
   },
   "outputs": [],
   "source": []
  },
  {
   "cell_type": "code",
   "execution_count": null,
   "metadata": {
    "collapsed": true
   },
   "outputs": [],
   "source": []
  },
  {
   "cell_type": "markdown",
   "metadata": {},
   "source": [
    "I'm going to start by focusing on fire violations, rather than fire incidents. \n",
    "\n",
    "Now the trick is merging the property information with the fire information. Both have address (but formatting discrepancies). Both have lat/long."
   ]
  },
  {
   "cell_type": "code",
   "execution_count": 365,
   "metadata": {
    "collapsed": false
   },
   "outputs": [],
   "source": [
    "original_grouping = pr_f2.groupby(['Block and Lot Number', 'year'], as_index=False).agg('first')"
   ]
  },
  {
   "cell_type": "code",
   "execution_count": 366,
   "metadata": {
    "collapsed": true
   },
   "outputs": [],
   "source": [
    "count_grouping = pr_f2[['Block and Lot Number', 'year', 'Complaint Number', \n",
    "                        'Violation Number', 'Final Notice Date', 'Fee']].groupby(['Block and Lot Number', 'year'], as_index=False).agg('count')"
   ]
  },
  {
   "cell_type": "code",
   "execution_count": 367,
   "metadata": {
    "collapsed": false
   },
   "outputs": [
    {
     "data": {
      "text/plain": [
       "Block and Lot Number    00240052629A0552629A05526300012630001263000126...\n",
       "year                                                          1.32424e+08\n",
       "Complaint Number                                                      560\n",
       "Violation Number                                                       98\n",
       "Final Notice Date                                                       4\n",
       "Fee                                                                  3982\n",
       "dtype: object"
      ]
     },
     "execution_count": 367,
     "metadata": {},
     "output_type": "execute_result"
    }
   ],
   "source": [
    "count_grouping.sort_values(by='Complaint Number').sum()"
   ]
  },
  {
   "cell_type": "code",
   "execution_count": 146,
   "metadata": {
    "collapsed": false
   },
   "outputs": [
    {
     "name": "stdout",
     "output_type": "stream",
     "text": [
      "<class 'pandas.core.frame.DataFrame'>\n",
      "Int64Index: 36708 entries, 0 to 36707\n",
      "Data columns (total 3 columns):\n",
      "Property Location    36708 non-null object\n",
      "Address              36708 non-null object\n",
      "Address_orig         36708 non-null object\n",
      "dtypes: object(3)\n",
      "memory usage: 1.1+ MB\n"
     ]
    }
   ],
   "source": [
    "pr_f2[['Property Location', 'Address', 'Address_orig']].info()"
   ]
  },
  {
   "cell_type": "code",
   "execution_count": 126,
   "metadata": {
    "collapsed": false
   },
   "outputs": [
    {
     "data": {
      "text/plain": [
       "(76, 41)"
      ]
     },
     "execution_count": 126,
     "metadata": {},
     "output_type": "execute_result"
    }
   ],
   "source": [
    "len(pr['Neighborhood Code Definition'].value_counts()), len(f2['Neighborhood  District'].value_counts())"
   ]
  },
  {
   "cell_type": "code",
   "execution_count": 32,
   "metadata": {
    "collapsed": false
   },
   "outputs": [],
   "source": [
    "pr.reset_index(drop=True, inplace=True)"
   ]
  },
  {
   "cell_type": "code",
   "execution_count": 126,
   "metadata": {
    "collapsed": false
   },
   "outputs": [],
   "source": [
    "pr_temp = pr.loc[np.where(pr['Zipcode of Parcel']==94117.0)[0]]"
   ]
  },
  {
   "cell_type": "code",
   "execution_count": 127,
   "metadata": {
    "collapsed": false
   },
   "outputs": [],
   "source": [
    "f2_temp = f2.loc[np.where(f2['Inspection Address Zipcode']==94117.0)[0]]"
   ]
  },
  {
   "cell_type": "code",
   "execution_count": 128,
   "metadata": {
    "collapsed": false
   },
   "outputs": [],
   "source": [
    "test = pd.merge(pr_temp, f2_temp, how='inner', on='Address')"
   ]
  },
  {
   "cell_type": "code",
   "execution_count": null,
   "metadata": {
    "collapsed": true
   },
   "outputs": [],
   "source": []
  },
  {
   "cell_type": "code",
   "execution_count": 369,
   "metadata": {
    "collapsed": false
   },
   "outputs": [
    {
     "data": {
      "text/plain": [
       "array(['Closed Roll Fiscal Year', 'Property Location', 'Neighborhood Code',\n",
       "       'Neighborhood Code Definition', 'Block and Lot Number',\n",
       "       'Volume Number', 'Property Class Code',\n",
       "       'Property Class Code Definition', 'Year Property Built',\n",
       "       'Number of Bathrooms', 'Number of Bedrooms', 'Number of Rooms',\n",
       "       'Number of Stories', 'Number of Units',\n",
       "       'Characteristics Change Date', 'Zoning Code', 'Construction Type',\n",
       "       'Lot Depth', 'Lot Frontage', 'Property Area in Square Feet',\n",
       "       'Basement Area', 'Lot Area', 'Lot Code', 'Prior Sales Date',\n",
       "       'Recordation Date', 'Document Number', 'Document Number 2',\n",
       "       'Tax Rate Area Code', 'Percent of Ownership',\n",
       "       'Closed Roll Exemption Type Code',\n",
       "       'Closed Roll Exemption Type Code Definition',\n",
       "       'Closed Roll Status Code', 'Closed Roll Misc Exemption Value',\n",
       "       'Closed Roll Homeowner Exemption Value', 'Current Sales Date',\n",
       "       'Closed Roll Assessed Fixtures Value',\n",
       "       'Closed Roll Assessed Improvement Value',\n",
       "       'Closed Roll Assessed Land Value',\n",
       "       'Closed Roll Assessed Personal Prop Value', 'Zipcode of Parcel',\n",
       "       'Supervisor District', 'Neighborhoods - Analysis Boundaries',\n",
       "       'Location', 'tester', 'bulk', 'street_name', 'street_type',\n",
       "       'Address'], dtype=object)"
      ]
     },
     "execution_count": 369,
     "metadata": {},
     "output_type": "execute_result"
    }
   ],
   "source": [
    "pr_temp.columns.values"
   ]
  },
  {
   "cell_type": "code",
   "execution_count": 21,
   "metadata": {
    "collapsed": false
   },
   "outputs": [
    {
     "data": {
      "text/plain": [
       "94102.0     3375\n",
       "94103.0     4825\n",
       "94104.0        4\n",
       "94105.0       21\n",
       "94107.0     2312\n",
       "94108.0     2865\n",
       "94109.0    12049\n",
       "94110.0    17161\n",
       "94111.0      107\n",
       "94112.0     3087\n",
       "94114.0    11127\n",
       "94115.0     7986\n",
       "94116.0     1937\n",
       "94117.0    14378\n",
       "94118.0    11575\n",
       "94121.0     9678\n",
       "94122.0     8391\n",
       "94123.0     9185\n",
       "94124.0     1107\n",
       "94127.0      262\n",
       "94131.0     3953\n",
       "94132.0      351\n",
       "94133.0     9710\n",
       "94134.0     1074\n",
       "94158.0       13\n",
       "Name: Zipcode of Parcel, dtype: int64"
      ]
     },
     "execution_count": 21,
     "metadata": {},
     "output_type": "execute_result"
    }
   ],
   "source": [
    "pr['Zipcode of Parcel'].value_counts().sort_index()"
   ]
  },
  {
   "cell_type": "markdown",
   "metadata": {},
   "source": [
    "Pull out the first part of the address. If there isn't one, fill with 0000"
   ]
  },
  {
   "cell_type": "code",
   "execution_count": 152,
   "metadata": {
    "collapsed": false
   },
   "outputs": [],
   "source": [
    "f2.loc[np.where(f2['compound']==2)[0], 'starter'] = f2.loc[np.where(f2['compound']==2)[0], 'Address'].str.split('-').str[0].str.strip().str.zfill(4)"
   ]
  },
  {
   "cell_type": "code",
   "execution_count": 154,
   "metadata": {
    "collapsed": false
   },
   "outputs": [],
   "source": [
    "f2['starter'] = f2['starter'].fillna('0000')"
   ]
  },
  {
   "cell_type": "code",
   "execution_count": 172,
   "metadata": {
    "collapsed": false
   },
   "outputs": [],
   "source": [
    "f2['nexter'] = f2.loc[np.where(f2['compound']==2)[0], \n",
    "                      'Address'].str.split('-').str[1].str.strip().str.split(' ').str[0].str.strip().str.zfill(4)"
   ]
  },
  {
   "cell_type": "code",
   "execution_count": 173,
   "metadata": {
    "collapsed": false
   },
   "outputs": [],
   "source": [
    "f2.loc[np.where(f2['compound']==1)[0], 'nexter'] = f2.loc[np.where(f2['compound']==1)[0], \n",
    "                      'Address'].str.split(' ').str[0].str.strip().str.zfill(4)"
   ]
  },
  {
   "cell_type": "code",
   "execution_count": 190,
   "metadata": {
    "collapsed": false
   },
   "outputs": [],
   "source": [
    "f2['Address'] = f2['Address'].str.replace('Ave', 'Av')"
   ]
  },
  {
   "cell_type": "code",
   "execution_count": 198,
   "metadata": {
    "collapsed": false
   },
   "outputs": [],
   "source": [
    "f2['street_type'] = f2['Address'].str.split(' ').str[-1].str.strip().str.pad(6, 'right', '0').str.upper()"
   ]
  },
  {
   "cell_type": "code",
   "execution_count": 222,
   "metadata": {
    "collapsed": false
   },
   "outputs": [],
   "source": [
    "f2['street_name'] = f2.loc[np.where(f2['compound']==1)[0], 'Address'].str.split(' ').str[1:-1]"
   ]
  },
  {
   "cell_type": "code",
   "execution_count": 226,
   "metadata": {
    "collapsed": false
   },
   "outputs": [],
   "source": [
    "f2.loc[np.where(f2['compound']==2)[0], 'street_name'] = f2.loc[np.where(f2['compound']==2)[0], 'Address'].str.split('-').str[1].str.split(' ').str[2:-1]"
   ]
  },
  {
   "cell_type": "code",
   "execution_count": 250,
   "metadata": {
    "collapsed": false
   },
   "outputs": [],
   "source": [
    "f2['street_name'] = f2['Address'].str.split(' ').str[-2].str.upper()"
   ]
  },
  {
   "cell_type": "code",
   "execution_count": 252,
   "metadata": {
    "collapsed": true
   },
   "outputs": [],
   "source": [
    "f2['Address_old'] = f2['Address']"
   ]
  },
  {
   "cell_type": "code",
   "execution_count": 257,
   "metadata": {
    "collapsed": false
   },
   "outputs": [],
   "source": [
    "f2['Address'] = f2['starter'].str.cat(f2['nexter'], sep=' ').str.cat(f2['street_name'], sep=' ').str.cat(f2['street_type'], sep=' ')"
   ]
  },
  {
   "cell_type": "code",
   "execution_count": 277,
   "metadata": {
    "collapsed": false
   },
   "outputs": [],
   "source": [
    "test = pd.merge(pr, f2, how='left', on='Location')"
   ]
  },
  {
   "cell_type": "code",
   "execution_count": 278,
   "metadata": {
    "collapsed": false
   },
   "outputs": [
    {
     "data": {
      "text/plain": [
       "(13626856, 142462)"
      ]
     },
     "execution_count": 278,
     "metadata": {},
     "output_type": "execute_result"
    }
   ],
   "source": [
    "len(test), len(pr)   #Test df is huge because of all the NaN location cross matches. "
   ]
  },
  {
   "cell_type": "code",
   "execution_count": 282,
   "metadata": {
    "collapsed": false
   },
   "outputs": [],
   "source": [
    "#test.to_csv('pr_f2_merged.csv')"
   ]
  },
  {
   "cell_type": "code",
   "execution_count": 285,
   "metadata": {
    "collapsed": false
   },
   "outputs": [
    {
     "data": {
      "text/plain": [
       "array(['Closed Roll Fiscal Year', 'Property Location', 'Neighborhood Code',\n",
       "       'Neighborhood Code Definition', 'Block and Lot Number',\n",
       "       'Volume Number', 'Property Class Code',\n",
       "       'Property Class Code Definition', 'Year Property Built',\n",
       "       'Number of Bathrooms', 'Number of Bedrooms', 'Number of Rooms',\n",
       "       'Number of Stories', 'Number of Units',\n",
       "       'Characteristics Change Date', 'Zoning Code', 'Construction Type',\n",
       "       'Lot Depth', 'Lot Frontage', 'Property Area in Square Feet',\n",
       "       'Basement Area', 'Lot Area', 'Lot Code', 'Prior Sales Date',\n",
       "       'Recordation Date', 'Document Number', 'Document Number 2',\n",
       "       'Tax Rate Area Code', 'Percent of Ownership',\n",
       "       'Closed Roll Exemption Type Code',\n",
       "       'Closed Roll Exemption Type Code Definition',\n",
       "       'Closed Roll Status Code', 'Closed Roll Misc Exemption Value',\n",
       "       'Closed Roll Homeowner Exemption Value', 'Current Sales Date',\n",
       "       'Closed Roll Assessed Fixtures Value',\n",
       "       'Closed Roll Assessed Improvement Value',\n",
       "       'Closed Roll Assessed Land Value',\n",
       "       'Closed Roll Assessed Personal Prop Value', 'Zipcode of Parcel',\n",
       "       'Supervisor District', 'Neighborhoods - Analysis Boundaries',\n",
       "       'Location'], dtype=object)"
      ]
     },
     "execution_count": 285,
     "metadata": {},
     "output_type": "execute_result"
    }
   ],
   "source": [
    "pr.columns.values"
   ]
  },
  {
   "cell_type": "code",
   "execution_count": 284,
   "metadata": {
    "collapsed": false,
    "scrolled": true
   },
   "outputs": [
    {
     "data": {
      "text/plain": [
       "0         94109.0\n",
       "1         94109.0\n",
       "2         94111.0\n",
       "3         94108.0\n",
       "4         94103.0\n",
       "5         94123.0\n",
       "6             NaN\n",
       "7         94123.0\n",
       "8         94123.0\n",
       "9         94111.0\n",
       "10        94107.0\n",
       "11        94109.0\n",
       "12        94108.0\n",
       "13        94107.0\n",
       "14        94121.0\n",
       "15        94108.0\n",
       "16        94103.0\n",
       "17        94127.0\n",
       "18        94103.0\n",
       "19        94103.0\n",
       "20        94115.0\n",
       "21        94123.0\n",
       "22        94103.0\n",
       "23        94102.0\n",
       "24        94105.0\n",
       "25        94103.0\n",
       "26        94158.0\n",
       "27        94158.0\n",
       "28        94158.0\n",
       "29        94158.0\n",
       "           ...   \n",
       "133132    94102.0\n",
       "133133    94102.0\n",
       "133134    94102.0\n",
       "133135    94102.0\n",
       "133136    94109.0\n",
       "133137    94102.0\n",
       "133138    94111.0\n",
       "133139    94102.0\n",
       "133140    94103.0\n",
       "133141    94103.0\n",
       "133142    94111.0\n",
       "133143    94103.0\n",
       "133144    94109.0\n",
       "133145    94109.0\n",
       "133146    94108.0\n",
       "133147    94108.0\n",
       "133148    94115.0\n",
       "133149    94109.0\n",
       "133150    94115.0\n",
       "133151    94123.0\n",
       "133152    94115.0\n",
       "133153    94103.0\n",
       "133154    94108.0\n",
       "133155    94115.0\n",
       "133156    94158.0\n",
       "133157    94132.0\n",
       "133158    94103.0\n",
       "133159    94105.0\n",
       "133160    94105.0\n",
       "133161    94105.0\n",
       "Name: Inspection Address Zipcode, dtype: float64"
      ]
     },
     "execution_count": 284,
     "metadata": {},
     "output_type": "execute_result"
    }
   ],
   "source": [
    "f2['Inspection Address Zipcode']"
   ]
  },
  {
   "cell_type": "code",
   "execution_count": 261,
   "metadata": {
    "collapsed": false
   },
   "outputs": [
    {
     "data": {
      "text/plain": [
       "1          1114 1108 CHURCH              ST0000\n",
       "6          0000 1453 07TH                AV0000\n",
       "9          0000 1725 ANZA                ST0000\n",
       "11         0000 0625 05TH                AV0000\n",
       "27         3155 3153 GOUGH               ST0000\n",
       "31         0000 2341 JACKSON             ST0000\n",
       "35         0195 0191 GRAYSTONE           TE0000\n",
       "36         0000 0343 FREDERICK           ST0000\n",
       "39         1289 1287 03RD                AV0000\n",
       "41         0000 0765 SOUTH VAN NESS      AV0000\n",
       "81         0130 0126 CLINTON             PK0000\n",
       "99         0537 0533 STEINER             ST0000\n",
       "102        0000 1247 CHESTNUT            ST0000\n",
       "104        0000 1630 JONES               ST0000\n",
       "123        0442 0440 VALLEJO             ST0000\n",
       "140        0000 1830 JACKSON             ST0000\n",
       "153        0000 0570 CORBETT             AV0000\n",
       "155        0479 0475 MISSISSIPPI         ST0000\n",
       "161        0179 0125 BEMIS               ST0000\n",
       "173        0000 1114 SUTTER              ST0000\n",
       "174        0478 0476 CHENERY             ST0000\n",
       "193        0000 1429 HYDE                ST0000\n",
       "214        1160 1100 FREDERICK           ST0000\n",
       "221        0000 1130 CLEMENT             ST0000\n",
       "223        4648 4644 18TH                ST0000\n",
       "237        0296 0290 26TH                AV0000\n",
       "253        0019 0015 VICKSBURG           ST0000\n",
       "316        0000 0871 PAGE                ST0000\n",
       "331        0000 0683 BRANNAN             ST0000\n",
       "341        0851 0847 LOMBARD             ST0000\n",
       "                           ...                 \n",
       "1611633    1355 1351 KEARNY              ST0000\n",
       "1611640    0000 0514 HILL                ST0000\n",
       "1611642    2333 2331 BRYANT              ST0000\n",
       "1611643    0000 1471 CALIFORNIA          ST0000\n",
       "1611660    1560 1556 STOCKTON            ST0000\n",
       "1611669    1135 1131 COLE                ST0000\n",
       "1611707    0061 0053 LEESE               ST0000\n",
       "1611739    2635 2633 LOMBARD             ST0000\n",
       "1611777    0519 0517 CASTRO              ST0000\n",
       "1611787    0000 0750 ANZA                ST0000\n",
       "1611794    2562 2558 SUTTER              ST0000\n",
       "1611797    0000 3484 18TH                ST0000\n",
       "1611801    0617 0615 KEARNY              ST0000\n",
       "1611805    3817 3813 ANZA                ST0000\n",
       "1611839    1336 1332 PACIFIC             AV0000\n",
       "1611876    0000 3632 26TH                ST0000\n",
       "1611879    0966 0960 BROADWAY              0000\n",
       "1611896    0254 0248 LEXINGTON           ST0000\n",
       "1611912    3035 3031 TARAVAL             ST0000\n",
       "1611916    0000 1090 HAMPSHIRE           ST0000\n",
       "1611952    0264 0260 OCEAN               AV0000\n",
       "1611959    0000 2925 PIERCE              ST0000\n",
       "1611974    0000 1520 GOUGH               ST0000\n",
       "1611975    0000 1614 VALLEJO             ST0000\n",
       "1612003    0610 0606 LAKE                ST0000\n",
       "1612013    2888 2886 FOLSOM              ST0000\n",
       "1612024    2500 2460 ALMA                ST0000\n",
       "1612081    0000 1355 19TH                AV0000\n",
       "1612093    0022 0016 DEARBORN            ST0000\n",
       "1612108    0000 0651 MORSE               ST0000\n",
       "Name: Property Location, dtype: object"
      ]
     },
     "execution_count": 261,
     "metadata": {},
     "output_type": "execute_result"
    }
   ],
   "source": [
    "test[['Address', 'Address_old']]"
   ]
  },
  {
   "cell_type": "code",
   "execution_count": 119,
   "metadata": {
    "collapsed": false
   },
   "outputs": [
    {
     "data": {
      "text/html": [
       "<div>\n",
       "<table border=\"1\" class=\"dataframe\">\n",
       "  <thead>\n",
       "    <tr style=\"text-align: right;\">\n",
       "      <th></th>\n",
       "      <th>Location</th>\n",
       "      <th>Neighborhood  District</th>\n",
       "      <th>Address</th>\n",
       "    </tr>\n",
       "  </thead>\n",
       "  <tbody>\n",
       "    <tr>\n",
       "      <th>0</th>\n",
       "      <td>(37.7872968100297, -122.41808285)</td>\n",
       "      <td>Nob Hill</td>\n",
       "      <td>1000  - 1014 Larkin St</td>\n",
       "    </tr>\n",
       "    <tr>\n",
       "      <th>1</th>\n",
       "      <td>(37.7904790600297, -122.42306437)</td>\n",
       "      <td>Pacific Heights</td>\n",
       "      <td>1700  California St</td>\n",
       "    </tr>\n",
       "    <tr>\n",
       "      <th>2</th>\n",
       "      <td>(37.7947200000297, -122.395452)</td>\n",
       "      <td>Financial District/South Beach</td>\n",
       "      <td>5  Embarcadero Ctr</td>\n",
       "    </tr>\n",
       "    <tr>\n",
       "      <th>3</th>\n",
       "      <td>(37.7939533600297, -122.40720213)</td>\n",
       "      <td>Chinatown</td>\n",
       "      <td>843  - 855 Clay St</td>\n",
       "    </tr>\n",
       "    <tr>\n",
       "      <th>4</th>\n",
       "      <td>(37.7654716000296, -122.42595627)</td>\n",
       "      <td>Mission</td>\n",
       "      <td>255  Dolores St</td>\n",
       "    </tr>\n",
       "    <tr>\n",
       "      <th>5</th>\n",
       "      <td>(37.8034729200297, -122.42540776)</td>\n",
       "      <td>Marina</td>\n",
       "      <td>3015  Van Ness Ave</td>\n",
       "    </tr>\n",
       "    <tr>\n",
       "      <th>6</th>\n",
       "      <td>(37.6159963000296, -122.3946264)</td>\n",
       "      <td>NaN</td>\n",
       "      <td>575  North Mcdonnell Rd</td>\n",
       "    </tr>\n",
       "    <tr>\n",
       "      <th>7</th>\n",
       "      <td>(37.7990950200297, -122.42536252)</td>\n",
       "      <td>Marina</td>\n",
       "      <td>1575  Filbert St</td>\n",
       "    </tr>\n",
       "    <tr>\n",
       "      <th>8</th>\n",
       "      <td>(37.7990950200297, -122.42536252)</td>\n",
       "      <td>Marina</td>\n",
       "      <td>1575  Filbert St</td>\n",
       "    </tr>\n",
       "    <tr>\n",
       "      <th>9</th>\n",
       "      <td>(37.7930401100297, -122.39803156)</td>\n",
       "      <td>Financial District/South Beach</td>\n",
       "      <td>101  California St</td>\n",
       "    </tr>\n",
       "    <tr>\n",
       "      <th>10</th>\n",
       "      <td>(37.7793021200297, -122.39568879)</td>\n",
       "      <td>South of Market</td>\n",
       "      <td>444  - 448 Brannan St</td>\n",
       "    </tr>\n",
       "    <tr>\n",
       "      <th>11</th>\n",
       "      <td>(37.7867552300296, -122.42249079)</td>\n",
       "      <td>Western Addition</td>\n",
       "      <td>1  Daniel Burnham Ct</td>\n",
       "    </tr>\n",
       "    <tr>\n",
       "      <th>12</th>\n",
       "      <td>(37.7896567400297, -122.40783434)</td>\n",
       "      <td>Financial District/South Beach</td>\n",
       "      <td>450  - 464 Sutter St</td>\n",
       "    </tr>\n",
       "    <tr>\n",
       "      <th>13</th>\n",
       "      <td>(37.7849799000297, -122.39653631)</td>\n",
       "      <td>Financial District/South Beach</td>\n",
       "      <td>601  - 611 Folsom St</td>\n",
       "    </tr>\n",
       "    <tr>\n",
       "      <th>14</th>\n",
       "      <td>(37.7795261900297, -122.4866206)</td>\n",
       "      <td>Outer Richmond</td>\n",
       "      <td>514  - 516 27th Ave</td>\n",
       "    </tr>\n",
       "    <tr>\n",
       "      <th>15</th>\n",
       "      <td>(37.7937652800297, -122.41227254)</td>\n",
       "      <td>Nob Hill</td>\n",
       "      <td>1160  Clay St</td>\n",
       "    </tr>\n",
       "    <tr>\n",
       "      <th>16</th>\n",
       "      <td>(37.7720149900297, -122.40519321)</td>\n",
       "      <td>South of Market</td>\n",
       "      <td>866  - 888 Brannan St</td>\n",
       "    </tr>\n",
       "    <tr>\n",
       "      <th>17</th>\n",
       "      <td>(37.7378028300296, -122.46971364)</td>\n",
       "      <td>West of Twin Peaks</td>\n",
       "      <td>320  - 328 West Portal Ave</td>\n",
       "    </tr>\n",
       "    <tr>\n",
       "      <th>18</th>\n",
       "      <td>(37.7853956500297, -122.40439104)</td>\n",
       "      <td>Financial District/South Beach</td>\n",
       "      <td>55  04th St</td>\n",
       "    </tr>\n",
       "    <tr>\n",
       "      <th>19</th>\n",
       "      <td>(37.7700960200297, -122.40627946)</td>\n",
       "      <td>South of Market</td>\n",
       "      <td>999  Brannan St</td>\n",
       "    </tr>\n",
       "    <tr>\n",
       "      <th>20</th>\n",
       "      <td>(37.7816509000297, -122.43667301)</td>\n",
       "      <td>Western Addition</td>\n",
       "      <td>1835  Ellis St</td>\n",
       "    </tr>\n",
       "    <tr>\n",
       "      <th>21</th>\n",
       "      <td>(37.7947983700296, -122.43249249)</td>\n",
       "      <td>Pacific Heights</td>\n",
       "      <td>2120  Broadway</td>\n",
       "    </tr>\n",
       "    <tr>\n",
       "      <th>22</th>\n",
       "      <td>(37.7732815300297, -122.40408606)</td>\n",
       "      <td>South of Market</td>\n",
       "      <td>560  - 568 07th St</td>\n",
       "    </tr>\n",
       "    <tr>\n",
       "      <th>23</th>\n",
       "      <td>(37.7835049400297, -122.41220253)</td>\n",
       "      <td>Tenderloin</td>\n",
       "      <td>226  - 230 Jones St</td>\n",
       "    </tr>\n",
       "    <tr>\n",
       "      <th>24</th>\n",
       "      <td>(37.7900716500297, -122.39120008)</td>\n",
       "      <td>Financial District/South Beach</td>\n",
       "      <td>100  Folsom St</td>\n",
       "    </tr>\n",
       "    <tr>\n",
       "      <th>25</th>\n",
       "      <td>(37.7689790300296, -122.42290824)</td>\n",
       "      <td>Mission</td>\n",
       "      <td>250  Valencia St</td>\n",
       "    </tr>\n",
       "    <tr>\n",
       "      <th>26</th>\n",
       "      <td>(37.7683804300296, -122.39506231)</td>\n",
       "      <td>Mission Bay</td>\n",
       "      <td>1600  Owens St</td>\n",
       "    </tr>\n",
       "    <tr>\n",
       "      <th>27</th>\n",
       "      <td>(37.7683804300296, -122.39506231)</td>\n",
       "      <td>Mission Bay</td>\n",
       "      <td>1600  Owens St</td>\n",
       "    </tr>\n",
       "    <tr>\n",
       "      <th>28</th>\n",
       "      <td>(37.7683804300296, -122.39506231)</td>\n",
       "      <td>Mission Bay</td>\n",
       "      <td>1600  Owens St</td>\n",
       "    </tr>\n",
       "    <tr>\n",
       "      <th>29</th>\n",
       "      <td>(37.7683804300296, -122.39506231)</td>\n",
       "      <td>Mission Bay</td>\n",
       "      <td>1600  Owens St</td>\n",
       "    </tr>\n",
       "    <tr>\n",
       "      <th>...</th>\n",
       "      <td>...</td>\n",
       "      <td>...</td>\n",
       "      <td>...</td>\n",
       "    </tr>\n",
       "    <tr>\n",
       "      <th>133132</th>\n",
       "      <td>(37.7856438700297, -122.41041235)</td>\n",
       "      <td>Tenderloin</td>\n",
       "      <td>333  Ofarrell St</td>\n",
       "    </tr>\n",
       "    <tr>\n",
       "      <th>133133</th>\n",
       "      <td>(37.7856438700297, -122.41041235)</td>\n",
       "      <td>Tenderloin</td>\n",
       "      <td>333  Ofarrell St</td>\n",
       "    </tr>\n",
       "    <tr>\n",
       "      <th>133134</th>\n",
       "      <td>(37.7856438700297, -122.41041235)</td>\n",
       "      <td>Tenderloin</td>\n",
       "      <td>333  Ofarrell St</td>\n",
       "    </tr>\n",
       "    <tr>\n",
       "      <th>133135</th>\n",
       "      <td>(37.7856438700297, -122.41041235)</td>\n",
       "      <td>Tenderloin</td>\n",
       "      <td>333  Ofarrell St</td>\n",
       "    </tr>\n",
       "    <tr>\n",
       "      <th>133136</th>\n",
       "      <td>(37.7879253200297, -122.42428199)</td>\n",
       "      <td>Western Addition</td>\n",
       "      <td>1635  Bush St</td>\n",
       "    </tr>\n",
       "    <tr>\n",
       "      <th>133137</th>\n",
       "      <td>(37.7856438700297, -122.41041235)</td>\n",
       "      <td>Tenderloin</td>\n",
       "      <td>333  Ofarrell St</td>\n",
       "    </tr>\n",
       "    <tr>\n",
       "      <th>133138</th>\n",
       "      <td>(37.7928795000297, -122.3970874)</td>\n",
       "      <td>Financial District/South Beach</td>\n",
       "      <td>298  Market St</td>\n",
       "    </tr>\n",
       "    <tr>\n",
       "      <th>133139</th>\n",
       "      <td>(37.7856438700297, -122.41041235)</td>\n",
       "      <td>Tenderloin</td>\n",
       "      <td>333  Ofarrell St</td>\n",
       "    </tr>\n",
       "    <tr>\n",
       "      <th>133140</th>\n",
       "      <td>(37.7652279700297, -122.41993665)</td>\n",
       "      <td>Mission</td>\n",
       "      <td>3000  - 3004 16th St</td>\n",
       "    </tr>\n",
       "    <tr>\n",
       "      <th>133141</th>\n",
       "      <td>(37.7652279700297, -122.41993665)</td>\n",
       "      <td>Mission</td>\n",
       "      <td>3000  - 3004 16th St</td>\n",
       "    </tr>\n",
       "    <tr>\n",
       "      <th>133142</th>\n",
       "      <td>(37.7978818100297, -122.40128463)</td>\n",
       "      <td>Financial District/South Beach</td>\n",
       "      <td>717  Battery St</td>\n",
       "    </tr>\n",
       "    <tr>\n",
       "      <th>133143</th>\n",
       "      <td>(37.7752312100297, -122.40315223)</td>\n",
       "      <td>South of Market</td>\n",
       "      <td>833  - 835 Bryant St</td>\n",
       "    </tr>\n",
       "    <tr>\n",
       "      <th>133144</th>\n",
       "      <td>(37.7879104000297, -122.4190031)</td>\n",
       "      <td>Nob Hill</td>\n",
       "      <td>1131  Sutter St</td>\n",
       "    </tr>\n",
       "    <tr>\n",
       "      <th>133145</th>\n",
       "      <td>(37.7876725800297, -122.41865814)</td>\n",
       "      <td>Nob Hill</td>\n",
       "      <td>1101  Sutter St</td>\n",
       "    </tr>\n",
       "    <tr>\n",
       "      <th>133146</th>\n",
       "      <td>(37.7954730000297, -122.40898232)</td>\n",
       "      <td>Chinatown</td>\n",
       "      <td>831  - 845 Jackson St</td>\n",
       "    </tr>\n",
       "    <tr>\n",
       "      <th>133147</th>\n",
       "      <td>(37.7954730000297, -122.40898232)</td>\n",
       "      <td>Chinatown</td>\n",
       "      <td>831  - 845 Jackson St</td>\n",
       "    </tr>\n",
       "    <tr>\n",
       "      <th>133148</th>\n",
       "      <td>(37.7823079900297, -122.44322624)</td>\n",
       "      <td>Lone Mountain/USF</td>\n",
       "      <td>2421  - 2425 Geary Blvd</td>\n",
       "    </tr>\n",
       "    <tr>\n",
       "      <th>133149</th>\n",
       "      <td>(37.7872968100297, -122.41808285)</td>\n",
       "      <td>Nob Hill</td>\n",
       "      <td>1000  - 1014 Larkin St</td>\n",
       "    </tr>\n",
       "    <tr>\n",
       "      <th>133150</th>\n",
       "      <td>(37.7823079900297, -122.44322624)</td>\n",
       "      <td>Lone Mountain/USF</td>\n",
       "      <td>2421  - 2425 Geary Blvd</td>\n",
       "    </tr>\n",
       "    <tr>\n",
       "      <th>133151</th>\n",
       "      <td>(37.7951913000297, -122.43041077)</td>\n",
       "      <td>Pacific Heights</td>\n",
       "      <td>2000  Broadway</td>\n",
       "    </tr>\n",
       "    <tr>\n",
       "      <th>133152</th>\n",
       "      <td>(37.7823079900297, -122.44322624)</td>\n",
       "      <td>Lone Mountain/USF</td>\n",
       "      <td>2421  - 2425 Geary Blvd</td>\n",
       "    </tr>\n",
       "    <tr>\n",
       "      <th>133153</th>\n",
       "      <td>(37.7738296400297, -122.40378252)</td>\n",
       "      <td>South of Market</td>\n",
       "      <td>555  07th St</td>\n",
       "    </tr>\n",
       "    <tr>\n",
       "      <th>133154</th>\n",
       "      <td>(37.7949028000297, -122.41444937)</td>\n",
       "      <td>Nob Hill</td>\n",
       "      <td>1456  Jones St</td>\n",
       "    </tr>\n",
       "    <tr>\n",
       "      <th>133155</th>\n",
       "      <td>(37.7906147800297, -122.43143399)</td>\n",
       "      <td>Pacific Heights</td>\n",
       "      <td>2333  Buchanan St</td>\n",
       "    </tr>\n",
       "    <tr>\n",
       "      <th>133156</th>\n",
       "      <td>(37.7735408100297, -122.3920279)</td>\n",
       "      <td>Mission Bay</td>\n",
       "      <td>1110  - 1190 04th St</td>\n",
       "    </tr>\n",
       "    <tr>\n",
       "      <th>133157</th>\n",
       "      <td>(37.7162307600296, -122.49736495)</td>\n",
       "      <td>Lakeshore</td>\n",
       "      <td>515  John Muir Dr</td>\n",
       "    </tr>\n",
       "    <tr>\n",
       "      <th>133158</th>\n",
       "      <td>(37.7805502500296, -122.40886658)</td>\n",
       "      <td>South of Market</td>\n",
       "      <td>1009  Mission St</td>\n",
       "    </tr>\n",
       "    <tr>\n",
       "      <th>133159</th>\n",
       "      <td>(37.7896949800297, -122.40051253)</td>\n",
       "      <td>Financial District/South Beach</td>\n",
       "      <td>575  Market St</td>\n",
       "    </tr>\n",
       "    <tr>\n",
       "      <th>133160</th>\n",
       "      <td>(37.7896949800297, -122.40051253)</td>\n",
       "      <td>Financial District/South Beach</td>\n",
       "      <td>575  Market St</td>\n",
       "    </tr>\n",
       "    <tr>\n",
       "      <th>133161</th>\n",
       "      <td>(37.7896949800297, -122.40051253)</td>\n",
       "      <td>Financial District/South Beach</td>\n",
       "      <td>575  Market St</td>\n",
       "    </tr>\n",
       "  </tbody>\n",
       "</table>\n",
       "<p>133162 rows × 3 columns</p>\n",
       "</div>"
      ],
      "text/plain": [
       "                                 Location          Neighborhood  District  \\\n",
       "0       (37.7872968100297, -122.41808285)                        Nob Hill   \n",
       "1       (37.7904790600297, -122.42306437)                 Pacific Heights   \n",
       "2         (37.7947200000297, -122.395452)  Financial District/South Beach   \n",
       "3       (37.7939533600297, -122.40720213)                       Chinatown   \n",
       "4       (37.7654716000296, -122.42595627)                         Mission   \n",
       "5       (37.8034729200297, -122.42540776)                          Marina   \n",
       "6        (37.6159963000296, -122.3946264)                             NaN   \n",
       "7       (37.7990950200297, -122.42536252)                          Marina   \n",
       "8       (37.7990950200297, -122.42536252)                          Marina   \n",
       "9       (37.7930401100297, -122.39803156)  Financial District/South Beach   \n",
       "10      (37.7793021200297, -122.39568879)                 South of Market   \n",
       "11      (37.7867552300296, -122.42249079)                Western Addition   \n",
       "12      (37.7896567400297, -122.40783434)  Financial District/South Beach   \n",
       "13      (37.7849799000297, -122.39653631)  Financial District/South Beach   \n",
       "14       (37.7795261900297, -122.4866206)                  Outer Richmond   \n",
       "15      (37.7937652800297, -122.41227254)                        Nob Hill   \n",
       "16      (37.7720149900297, -122.40519321)                 South of Market   \n",
       "17      (37.7378028300296, -122.46971364)              West of Twin Peaks   \n",
       "18      (37.7853956500297, -122.40439104)  Financial District/South Beach   \n",
       "19      (37.7700960200297, -122.40627946)                 South of Market   \n",
       "20      (37.7816509000297, -122.43667301)                Western Addition   \n",
       "21      (37.7947983700296, -122.43249249)                 Pacific Heights   \n",
       "22      (37.7732815300297, -122.40408606)                 South of Market   \n",
       "23      (37.7835049400297, -122.41220253)                      Tenderloin   \n",
       "24      (37.7900716500297, -122.39120008)  Financial District/South Beach   \n",
       "25      (37.7689790300296, -122.42290824)                         Mission   \n",
       "26      (37.7683804300296, -122.39506231)                     Mission Bay   \n",
       "27      (37.7683804300296, -122.39506231)                     Mission Bay   \n",
       "28      (37.7683804300296, -122.39506231)                     Mission Bay   \n",
       "29      (37.7683804300296, -122.39506231)                     Mission Bay   \n",
       "...                                   ...                             ...   \n",
       "133132  (37.7856438700297, -122.41041235)                      Tenderloin   \n",
       "133133  (37.7856438700297, -122.41041235)                      Tenderloin   \n",
       "133134  (37.7856438700297, -122.41041235)                      Tenderloin   \n",
       "133135  (37.7856438700297, -122.41041235)                      Tenderloin   \n",
       "133136  (37.7879253200297, -122.42428199)                Western Addition   \n",
       "133137  (37.7856438700297, -122.41041235)                      Tenderloin   \n",
       "133138   (37.7928795000297, -122.3970874)  Financial District/South Beach   \n",
       "133139  (37.7856438700297, -122.41041235)                      Tenderloin   \n",
       "133140  (37.7652279700297, -122.41993665)                         Mission   \n",
       "133141  (37.7652279700297, -122.41993665)                         Mission   \n",
       "133142  (37.7978818100297, -122.40128463)  Financial District/South Beach   \n",
       "133143  (37.7752312100297, -122.40315223)                 South of Market   \n",
       "133144   (37.7879104000297, -122.4190031)                        Nob Hill   \n",
       "133145  (37.7876725800297, -122.41865814)                        Nob Hill   \n",
       "133146  (37.7954730000297, -122.40898232)                       Chinatown   \n",
       "133147  (37.7954730000297, -122.40898232)                       Chinatown   \n",
       "133148  (37.7823079900297, -122.44322624)               Lone Mountain/USF   \n",
       "133149  (37.7872968100297, -122.41808285)                        Nob Hill   \n",
       "133150  (37.7823079900297, -122.44322624)               Lone Mountain/USF   \n",
       "133151  (37.7951913000297, -122.43041077)                 Pacific Heights   \n",
       "133152  (37.7823079900297, -122.44322624)               Lone Mountain/USF   \n",
       "133153  (37.7738296400297, -122.40378252)                 South of Market   \n",
       "133154  (37.7949028000297, -122.41444937)                        Nob Hill   \n",
       "133155  (37.7906147800297, -122.43143399)                 Pacific Heights   \n",
       "133156   (37.7735408100297, -122.3920279)                     Mission Bay   \n",
       "133157  (37.7162307600296, -122.49736495)                       Lakeshore   \n",
       "133158  (37.7805502500296, -122.40886658)                 South of Market   \n",
       "133159  (37.7896949800297, -122.40051253)  Financial District/South Beach   \n",
       "133160  (37.7896949800297, -122.40051253)  Financial District/South Beach   \n",
       "133161  (37.7896949800297, -122.40051253)  Financial District/South Beach   \n",
       "\n",
       "                           Address  \n",
       "0           1000  - 1014 Larkin St  \n",
       "1              1700  California St  \n",
       "2               5  Embarcadero Ctr  \n",
       "3               843  - 855 Clay St  \n",
       "4                  255  Dolores St  \n",
       "5               3015  Van Ness Ave  \n",
       "6          575  North Mcdonnell Rd  \n",
       "7                 1575  Filbert St  \n",
       "8                 1575  Filbert St  \n",
       "9               101  California St  \n",
       "10           444  - 448 Brannan St  \n",
       "11            1  Daniel Burnham Ct  \n",
       "12            450  - 464 Sutter St  \n",
       "13            601  - 611 Folsom St  \n",
       "14             514  - 516 27th Ave  \n",
       "15                   1160  Clay St  \n",
       "16           866  - 888 Brannan St  \n",
       "17      320  - 328 West Portal Ave  \n",
       "18                     55  04th St  \n",
       "19                 999  Brannan St  \n",
       "20                  1835  Ellis St  \n",
       "21                  2120  Broadway  \n",
       "22              560  - 568 07th St  \n",
       "23             226  - 230 Jones St  \n",
       "24                  100  Folsom St  \n",
       "25                250  Valencia St  \n",
       "26                  1600  Owens St  \n",
       "27                  1600  Owens St  \n",
       "28                  1600  Owens St  \n",
       "29                  1600  Owens St  \n",
       "...                            ...  \n",
       "133132            333  Ofarrell St  \n",
       "133133            333  Ofarrell St  \n",
       "133134            333  Ofarrell St  \n",
       "133135            333  Ofarrell St  \n",
       "133136               1635  Bush St  \n",
       "133137            333  Ofarrell St  \n",
       "133138              298  Market St  \n",
       "133139            333  Ofarrell St  \n",
       "133140        3000  - 3004 16th St  \n",
       "133141        3000  - 3004 16th St  \n",
       "133142             717  Battery St  \n",
       "133143        833  - 835 Bryant St  \n",
       "133144             1131  Sutter St  \n",
       "133145             1101  Sutter St  \n",
       "133146       831  - 845 Jackson St  \n",
       "133147       831  - 845 Jackson St  \n",
       "133148     2421  - 2425 Geary Blvd  \n",
       "133149      1000  - 1014 Larkin St  \n",
       "133150     2421  - 2425 Geary Blvd  \n",
       "133151              2000  Broadway  \n",
       "133152     2421  - 2425 Geary Blvd  \n",
       "133153                555  07th St  \n",
       "133154              1456  Jones St  \n",
       "133155           2333  Buchanan St  \n",
       "133156        1110  - 1190 04th St  \n",
       "133157           515  John Muir Dr  \n",
       "133158            1009  Mission St  \n",
       "133159              575  Market St  \n",
       "133160              575  Market St  \n",
       "133161              575  Market St  \n",
       "\n",
       "[133162 rows x 3 columns]"
      ]
     },
     "execution_count": 119,
     "metadata": {},
     "output_type": "execute_result"
    }
   ],
   "source": [
    "f2[['Location', 'Neighborhood  District', 'Address']]"
   ]
  },
  {
   "cell_type": "code",
   "execution_count": null,
   "metadata": {
    "collapsed": true
   },
   "outputs": [],
   "source": []
  },
  {
   "cell_type": "code",
   "execution_count": null,
   "metadata": {
    "collapsed": true
   },
   "outputs": [],
   "source": []
  },
  {
   "cell_type": "code",
   "execution_count": 35,
   "metadata": {
    "collapsed": true
   },
   "outputs": [],
   "source": [
    "pr['year'] = pr['Closed Roll Fiscal Year']"
   ]
  },
  {
   "cell_type": "code",
   "execution_count": 36,
   "metadata": {
    "collapsed": false
   },
   "outputs": [],
   "source": [
    "test = pd.merge(pr, finspect, how='left', on=['Location', 'year'])"
   ]
  },
  {
   "cell_type": "code",
   "execution_count": null,
   "metadata": {
    "collapsed": true
   },
   "outputs": [],
   "source": []
  },
  {
   "cell_type": "code",
   "execution_count": null,
   "metadata": {
    "collapsed": true
   },
   "outputs": [],
   "source": []
  },
  {
   "cell_type": "code",
   "execution_count": null,
   "metadata": {
    "collapsed": true
   },
   "outputs": [],
   "source": []
  },
  {
   "cell_type": "markdown",
   "metadata": {},
   "source": [
    "Now I have a list of ~all of the R-2 buildings in a given year. I want to match this up with complaint and violation data to get a better picture of the problems around SF"
   ]
  },
  {
   "cell_type": "markdown",
   "metadata": {},
   "source": [
    "First I'll read in the reported violations from HIS: "
   ]
  },
  {
   "cell_type": "code",
   "execution_count": 263,
   "metadata": {
    "collapsed": false,
    "scrolled": true
   },
   "outputs": [],
   "source": [
    "his_violations = pd.read_csv('challenge_datasets/Notices_of_Violation_issued_by_the_Department_of_Building_Inspection.csv')"
   ]
  },
  {
   "cell_type": "markdown",
   "metadata": {},
   "source": [
    "The website tells me the following about this data set: \n",
    "\n",
    "The data should be sorted on the Complaint Number field and the Item Sequence Number field. The user should be able to link this file with the Building Complaints dataset (https://data.sfgov.org/d/gm2e-bten) to get a more accurate picture of the violations."
   ]
  },
  {
   "cell_type": "markdown",
   "metadata": {},
   "source": [
    "Let's read in the list of HIS complaints: "
   ]
  },
  {
   "cell_type": "code",
   "execution_count": 264,
   "metadata": {
    "collapsed": true
   },
   "outputs": [],
   "source": [
    "his_complaints = pd.read_csv('challenge_datasets/Building_Complaints.csv')"
   ]
  },
  {
   "cell_type": "markdown",
   "metadata": {},
   "source": [
    "The documentation on the data set states that: \n",
    "\n",
    "Routine and non-routine inspections from the housing division are tracked using complaints only if violations are found during the inspections. The NOVTYPE field can be used to determine the source of the complaint."
   ]
  },
  {
   "cell_type": "code",
   "execution_count": null,
   "metadata": {
    "collapsed": true
   },
   "outputs": [],
   "source": []
  },
  {
   "cell_type": "code",
   "execution_count": null,
   "metadata": {
    "collapsed": true
   },
   "outputs": [],
   "source": []
  },
  {
   "cell_type": "markdown",
   "metadata": {},
   "source": [
    "Currently having difficulty figuring out exactly which requests are/are not routine inspection based. \n",
    "\n",
    "- NOT GOING TO WORRY ABOUT THE ABOVE BECAUSE I JUST CARE ABOUT VIOLATIONS, NOT WHETHER OR NOT IT'S A ROUTINE INSPECTION. "
   ]
  },
  {
   "cell_type": "code",
   "execution_count": 240,
   "metadata": {
    "collapsed": false
   },
   "outputs": [],
   "source": [
    "#his_violations[['NOV Category Description', 'NOV Item Description']]"
   ]
  },
  {
   "cell_type": "code",
   "execution_count": 239,
   "metadata": {
    "collapsed": false
   },
   "outputs": [],
   "source": [
    "#his_complaints[['Complaint Description', 'NOV Type', 'Last Inspection Date']]"
   ]
  },
  {
   "cell_type": "code",
   "execution_count": 111,
   "metadata": {
    "collapsed": false
   },
   "outputs": [],
   "source": [
    "#his_complaints.loc[np.where(his_complaints['NOV Type']=='routine')[0][0:50], ['Complaint Description', 'NOV Type', 'Date 1st NOV Issued']]"
   ]
  },
  {
   "cell_type": "code",
   "execution_count": 112,
   "metadata": {
    "collapsed": false
   },
   "outputs": [],
   "source": [
    "#his_complaints['NOV Type'].value_counts()"
   ]
  },
  {
   "cell_type": "markdown",
   "metadata": {},
   "source": [
    "I'm going to try merging the his_complaints and his_violations files together to see if that clarifies things. Just as with the property rolls, I'll start by playing with 2007"
   ]
  },
  {
   "cell_type": "code",
   "execution_count": 171,
   "metadata": {
    "collapsed": false,
    "scrolled": true
   },
   "outputs": [
    {
     "data": {
      "text/plain": [
       "('01/01/1994', '12/31/2015')"
      ]
     },
     "execution_count": 171,
     "metadata": {},
     "output_type": "execute_result"
    }
   ],
   "source": [
    "his_complaints['Date Filed'].min(), his_complaints['Date Filed'].max()"
   ]
  },
  {
   "cell_type": "code",
   "execution_count": 172,
   "metadata": {
    "collapsed": false,
    "scrolled": true
   },
   "outputs": [
    {
     "data": {
      "text/plain": [
       "('01/02/1997', '12/31/2015')"
      ]
     },
     "execution_count": 172,
     "metadata": {},
     "output_type": "execute_result"
    }
   ],
   "source": [
    "his_violations['Date Filed'].min(), his_violations['Date Filed'].max()"
   ]
  },
  {
   "cell_type": "markdown",
   "metadata": {},
   "source": [
    "There are fewer complaints than violations. This makes sense, as there can by multiple violations associated with a specific complaint. "
   ]
  },
  {
   "cell_type": "code",
   "execution_count": 193,
   "metadata": {
    "collapsed": false
   },
   "outputs": [
    {
     "name": "stdout",
     "output_type": "stream",
     "text": [
      "210468 343904\n",
      "10271 19074\n"
     ]
    }
   ],
   "source": [
    "print len(his_complaints), len(his_violations)\n",
    "print len(np.where(his_complaints['year']==2007)[0]), len(np.where(his_violations['year']==2007)[0])"
   ]
  },
  {
   "cell_type": "code",
   "execution_count": 269,
   "metadata": {
    "collapsed": false
   },
   "outputs": [],
   "source": [
    "#len(his_complaints['Complaint Number'].unique())"
   ]
  },
  {
   "cell_type": "markdown",
   "metadata": {},
   "source": [
    "Combine the complaints and violations for all of the years together"
   ]
  },
  {
   "cell_type": "code",
   "execution_count": 270,
   "metadata": {
    "collapsed": true
   },
   "outputs": [],
   "source": [
    "comp_viol = pd.merge(his_complaints, his_violations, how='left', on='Complaint Number')"
   ]
  },
  {
   "cell_type": "code",
   "execution_count": 271,
   "metadata": {
    "collapsed": false
   },
   "outputs": [
    {
     "data": {
      "text/plain": [
       "330982"
      ]
     },
     "execution_count": 271,
     "metadata": {},
     "output_type": "execute_result"
    }
   ],
   "source": [
    "len(comp_viol)"
   ]
  },
  {
   "cell_type": "code",
   "execution_count": 273,
   "metadata": {
    "collapsed": false
   },
   "outputs": [],
   "source": [
    "comp_viol['year'] = pd.to_datetime(comp_viol['Date Filed_x'], format=\"%m/%d/%Y\", utc=False).dt.year"
   ]
  },
  {
   "cell_type": "code",
   "execution_count": 175,
   "metadata": {
    "collapsed": true
   },
   "outputs": [],
   "source": [
    "#comp_2007 = his_complaints.loc[np.where(his_complaints['year']==2007)[0]]\n",
    "#viol_2007 = his_violations.loc[np.where(his_violations['year']==2007)[0]]"
   ]
  },
  {
   "cell_type": "code",
   "execution_count": 186,
   "metadata": {
    "collapsed": true
   },
   "outputs": [],
   "source": [
    "#temp = pd.merge(viol_2007, comp_2007, how='left', on='Complaint Number')"
   ]
  },
  {
   "cell_type": "code",
   "execution_count": 304,
   "metadata": {
    "collapsed": false
   },
   "outputs": [
    {
     "data": {
      "text/plain": [
       "<matplotlib.text.Text at 0x1230dc690>"
      ]
     },
     "execution_count": 304,
     "metadata": {},
     "output_type": "execute_result"
    },
    {
     "data": {
      "image/png": "[encoded data removed]",
      "text/plain": [
       "<matplotlib.figure.Figure at 0x166a99110>"
      ]
     },
     "metadata": {},
     "output_type": "display_data"
    }
   ],
   "source": [
    "comp_viol['NOV Category Description'].value_counts().plot(kind='bar',ls='-', fc='None', lw=2, \n",
    "                                                               zorder=1, position=0.5, width=0.7)\n",
    "plt.ylabel('Total Number of Reported Violations')"
   ]
  },
  {
   "cell_type": "code",
   "execution_count": 327,
   "metadata": {
    "collapsed": false
   },
   "outputs": [
    {
     "data": {
      "text/plain": [
       "<matplotlib.text.Text at 0x1669f0dd0>"
      ]
     },
     "execution_count": 327,
     "metadata": {},
     "output_type": "execute_result"
    },
    {
     "data": {
      "image/png": "[encoded data removed]",
      "text/plain": [
       "<matplotlib.figure.Figure at 0x12a9bd410>"
      ]
     },
     "metadata": {},
     "output_type": "display_data"
    }
   ],
   "source": [
    "comp_viol['year'].value_counts().sort_index().plot(kind='bar',ls='-', fc='None', lw=2, \n",
    "                                                               zorder=1, position=0.5, width=0.7)\n",
    "plt.ylabel('Total Number of Reported Violations')"
   ]
  },
  {
   "cell_type": "code",
   "execution_count": 325,
   "metadata": {
    "collapsed": false
   },
   "outputs": [
    {
     "data": {
      "text/plain": [
       "<matplotlib.legend.Legend at 0x13c60c210>"
      ]
     },
     "execution_count": 325,
     "metadata": {},
     "output_type": "execute_result"
    },
    {
     "data": {
      "image/png": "[encoded data removed]",
      "text/plain": [
       "<matplotlib.figure.Figure at 0x13c60c310>"
      ]
     },
     "metadata": {},
     "output_type": "display_data"
    }
   ],
   "source": [
    "for i in range(2009,2016): \n",
    "    comp_viol.loc[np.where(comp_viol['year'] == i)[0], \n",
    "                  'NOV Category Description'].value_counts().sort_index().plot(kind='line',ls='-', lw=2, \n",
    "                                                                               label=i, rot = 90)\n",
    "\n",
    "plt.ylabel('Number of Reported Violations')\n",
    "plt.legend()"
   ]
  },
  {
   "cell_type": "code",
   "execution_count": 309,
   "metadata": {
    "collapsed": false
   },
   "outputs": [],
   "source": [
    "comp_viol['Block and Lot Number'] = comp_viol['Block_x'].str.cat(comp_viol['Lot_x'])"
   ]
  },
  {
   "cell_type": "markdown",
   "metadata": {},
   "source": [
    "Let's try figuring out how to merge the property data with the complaints data. Need to merge information in terms of Block/Lot and year. "
   ]
  },
  {
   "cell_type": "code",
   "execution_count": 275,
   "metadata": {
    "collapsed": false
   },
   "outputs": [],
   "source": [
    "pr['year'] = pr['Closed Roll Fiscal Year'].astype(object)"
   ]
  },
  {
   "cell_type": "code",
   "execution_count": 276,
   "metadata": {
    "collapsed": false
   },
   "outputs": [],
   "source": [
    "temp2 = pd.merge(pr, comp_viol, how = 'left', on=['Block and Lot Number', 'year'])"
   ]
  },
  {
   "cell_type": "code",
   "execution_count": 279,
   "metadata": {
    "collapsed": false
   },
   "outputs": [
    {
     "data": {
      "text/plain": [
       "(167276, 142462)"
      ]
     },
     "execution_count": 279,
     "metadata": {},
     "output_type": "execute_result"
    }
   ],
   "source": [
    "len(temp2), len(pr)"
   ]
  },
  {
   "cell_type": "code",
   "execution_count": 290,
   "metadata": {
    "collapsed": false
   },
   "outputs": [
    {
     "data": {
      "text/plain": [
       "building section                   5187\n",
       "other section                      5092\n",
       "fire section                       2780\n",
       "interior surfaces section          1849\n",
       "plumbing and electrical section     999\n",
       "security requirements section       767\n",
       "smoke detection section             415\n",
       "sanitation section                  304\n",
       "lead section                         44\n",
       "hco                                   4\n",
       "Name: NOV Category Description, dtype: int64"
      ]
     },
     "execution_count": 290,
     "metadata": {},
     "output_type": "execute_result"
    }
   ],
   "source": [
    "temp2['NOV Category Description'].value_counts()"
   ]
  },
  {
   "cell_type": "code",
   "execution_count": 361,
   "metadata": {
    "collapsed": false
   },
   "outputs": [
    {
     "data": {
      "text/plain": [
       "array(['Closed Roll Fiscal Year', 'Property Location', 'Neighborhood Code',\n",
       "       'Neighborhood Code Definition', 'Block and Lot Number',\n",
       "       'Volume Number', 'Property Class Code',\n",
       "       'Property Class Code Definition', 'Year Property Built',\n",
       "       'Number of Bathrooms', 'Number of Bedrooms', 'Number of Rooms',\n",
       "       'Number of Stories', 'Number of Units',\n",
       "       'Characteristics Change Date', 'Zoning Code', 'Construction Type',\n",
       "       'Lot Depth', 'Lot Frontage', 'Property Area in Square Feet',\n",
       "       'Basement Area', 'Lot Area', 'Lot Code', 'Prior Sales Date',\n",
       "       'Recordation Date', 'Document Number', 'Document Number 2',\n",
       "       'Tax Rate Area Code', 'Percent of Ownership',\n",
       "       'Closed Roll Exemption Type Code',\n",
       "       'Closed Roll Exemption Type Code Definition',\n",
       "       'Closed Roll Status Code', 'Closed Roll Misc Exemption Value',\n",
       "       'Closed Roll Homeowner Exemption Value', 'Current Sales Date',\n",
       "       'Closed Roll Assessed Fixtures Value',\n",
       "       'Closed Roll Assessed Improvement Value',\n",
       "       'Closed Roll Assessed Land Value',\n",
       "       'Closed Roll Assessed Personal Prop Value', 'Zipcode of Parcel',\n",
       "       'Supervisor District', 'Neighborhoods - Analysis Boundaries',\n",
       "       'Location', 'year', 'Complaint Number', 'Date Filed_x', 'Block_x',\n",
       "       'Lot_x', 'Street Number_x', 'Street Name_x', 'Street Suffix_x',\n",
       "       'Unit_x', 'Complaint Description', 'Status_x', 'NOV Type',\n",
       "       'Receiving Division_x', 'Assigned Division_x',\n",
       "       'Date 1st NOV Issued', 'Date 2nd NOV Issued',\n",
       "       'Date Referred to City Attorney', 'Director Hearing Date',\n",
       "       'Last Inspection Date', 'Date Abated', 'Closed Date',\n",
       "       'Neighborhoods - Analysis Boundaries_x', 'Supervisor District_x',\n",
       "       'Zipcode_x', 'Location_x', 'Item Sequence Number', 'Date Filed_y',\n",
       "       'Block_y', 'Lot_y', 'Street Number_y', 'Street Name_y',\n",
       "       'Street Suffix_y', 'Unit_y', 'Status_y', 'Item',\n",
       "       'Assigned Division_y', 'Receiving Division_y',\n",
       "       'NOV Category Description', 'NOV Item Description',\n",
       "       'Neighborhoods - Analysis Boundaries_y', 'Supervisor District_y',\n",
       "       'Zipcode_y', 'Location_y'], dtype=object)"
      ]
     },
     "execution_count": 361,
     "metadata": {},
     "output_type": "execute_result"
    }
   ],
   "source": [
    "temp2.columns.values"
   ]
  },
  {
   "cell_type": "markdown",
   "metadata": {},
   "source": [
    "Features that are likely important for my model: \n",
    "- Neighborhood Code / Neighborhood Code Definition \n",
    "- Property Class Code \n",
    "- Year Property Built \n",
    "- Number of Units \n",
    "- Construction Type\n",
    "- Closed Roll Assessed Personal Prop Value\n",
    "- Number of violations per property \n",
    "- Last Inspection Date (but only available when there are violations) \n",
    "\n"
   ]
  },
  {
   "cell_type": "code",
   "execution_count": 505,
   "metadata": {
    "collapsed": false
   },
   "outputs": [
    {
     "data": {
      "text/html": [
       "<div>\n",
       "<table border=\"1\" class=\"dataframe\">\n",
       "  <thead>\n",
       "    <tr style=\"text-align: right;\">\n",
       "      <th></th>\n",
       "      <th>Date Filed</th>\n",
       "      <th>Last Inspection Date</th>\n",
       "    </tr>\n",
       "  </thead>\n",
       "  <tbody>\n",
       "    <tr>\n",
       "      <th>210463</th>\n",
       "      <td>10/31/2016</td>\n",
       "      <td>12/27/2016</td>\n",
       "    </tr>\n",
       "    <tr>\n",
       "      <th>210464</th>\n",
       "      <td>12/27/2016</td>\n",
       "      <td>NaN</td>\n",
       "    </tr>\n",
       "    <tr>\n",
       "      <th>210465</th>\n",
       "      <td>02/17/2016</td>\n",
       "      <td>NaN</td>\n",
       "    </tr>\n",
       "    <tr>\n",
       "      <th>210466</th>\n",
       "      <td>07/31/2012</td>\n",
       "      <td>10/17/2012</td>\n",
       "    </tr>\n",
       "    <tr>\n",
       "      <th>210467</th>\n",
       "      <td>10/26/2015</td>\n",
       "      <td>NaN</td>\n",
       "    </tr>\n",
       "  </tbody>\n",
       "</table>\n",
       "</div>"
      ],
      "text/plain": [
       "        Date Filed Last Inspection Date\n",
       "210463  10/31/2016           12/27/2016\n",
       "210464  12/27/2016                  NaN\n",
       "210465  02/17/2016                  NaN\n",
       "210466  07/31/2012           10/17/2012\n",
       "210467  10/26/2015                  NaN"
      ]
     },
     "execution_count": 505,
     "metadata": {},
     "output_type": "execute_result"
    }
   ],
   "source": [
    "his_complaints[['Date Filed', 'Last Inspection Date']].tail()\n",
    "# last inspection date not so helpful!"
   ]
  },
  {
   "cell_type": "code",
   "execution_count": 547,
   "metadata": {
    "collapsed": false
   },
   "outputs": [
    {
     "data": {
      "text/plain": [
       "array(['Closed Roll Fiscal Year', 'Property Location', 'Neighborhood Code',\n",
       "       'Neighborhood Code Definition', 'Block and Lot Number',\n",
       "       'Volume Number', 'Property Class Code',\n",
       "       'Property Class Code Definition', 'Year Property Built',\n",
       "       'Number of Bathrooms', 'Number of Bedrooms', 'Number of Rooms',\n",
       "       'Number of Stories', 'Number of Units',\n",
       "       'Characteristics Change Date', 'Zoning Code', 'Construction Type',\n",
       "       'Lot Depth', 'Lot Frontage', 'Property Area in Square Feet',\n",
       "       'Basement Area', 'Lot Area', 'Lot Code', 'Prior Sales Date',\n",
       "       'Recordation Date', 'Document Number', 'Document Number 2',\n",
       "       'Tax Rate Area Code', 'Percent of Ownership',\n",
       "       'Closed Roll Exemption Type Code',\n",
       "       'Closed Roll Exemption Type Code Definition',\n",
       "       'Closed Roll Status Code', 'Closed Roll Misc Exemption Value',\n",
       "       'Closed Roll Homeowner Exemption Value', 'Current Sales Date',\n",
       "       'Closed Roll Assessed Fixtures Value',\n",
       "       'Closed Roll Assessed Improvement Value',\n",
       "       'Closed Roll Assessed Land Value',\n",
       "       'Closed Roll Assessed Personal Prop Value', 'Zipcode of Parcel',\n",
       "       'Supervisor District', 'Neighborhoods - Analysis Boundaries',\n",
       "       'Location', 'year', 'Complaint Number', 'Date Filed_x', 'Block_x',\n",
       "       'Lot_x', 'Street Number_x', 'Street Name_x', 'Street Suffix_x',\n",
       "       'Unit_x', 'Complaint Description', 'Status_x', 'NOV Type',\n",
       "       'Receiving Division_x', 'Assigned Division_x',\n",
       "       'Date 1st NOV Issued', 'Date 2nd NOV Issued',\n",
       "       'Date Referred to City Attorney', 'Director Hearing Date',\n",
       "       'Last Inspection Date', 'Date Abated', 'Closed Date',\n",
       "       'Neighborhoods - Analysis Boundaries_x', 'Supervisor District_x',\n",
       "       'Zipcode_x', 'Location_x', 'Item Sequence Number', 'Date Filed_y',\n",
       "       'Block_y', 'Lot_y', 'Street Number_y', 'Street Name_y',\n",
       "       'Street Suffix_y', 'Unit_y', 'Status_y', 'Item',\n",
       "       'Assigned Division_y', 'Receiving Division_y',\n",
       "       'NOV Category Description', 'NOV Item Description',\n",
       "       'Neighborhoods - Analysis Boundaries_y', 'Supervisor District_y',\n",
       "       'Zipcode_y', 'Location_y'], dtype=object)"
      ]
     },
     "execution_count": 547,
     "metadata": {},
     "output_type": "execute_result"
    }
   ],
   "source": [
    "temp2.columns.values"
   ]
  },
  {
   "cell_type": "code",
   "execution_count": 549,
   "metadata": {
    "collapsed": false
   },
   "outputs": [
    {
     "data": {
      "text/html": [
       "<div>\n",
       "<table border=\"1\" class=\"dataframe\">\n",
       "  <thead>\n",
       "    <tr style=\"text-align: right;\">\n",
       "      <th></th>\n",
       "      <th>Neighborhood Code</th>\n",
       "      <th>Block and Lot Number</th>\n",
       "      <th>Closed Roll Assessed Land Value</th>\n",
       "      <th>Current Sales Date</th>\n",
       "    </tr>\n",
       "  </thead>\n",
       "  <tbody>\n",
       "    <tr>\n",
       "      <th>0</th>\n",
       "      <td>05C</td>\n",
       "      <td>3651002</td>\n",
       "      <td>45891.0</td>\n",
       "      <td>NaN</td>\n",
       "    </tr>\n",
       "    <tr>\n",
       "      <th>1</th>\n",
       "      <td>02F</td>\n",
       "      <td>1846013</td>\n",
       "      <td>590915.0</td>\n",
       "      <td>02/15/1991</td>\n",
       "    </tr>\n",
       "    <tr>\n",
       "      <th>2</th>\n",
       "      <td>01B</td>\n",
       "      <td>1551051</td>\n",
       "      <td>134160.0</td>\n",
       "      <td>NaN</td>\n",
       "    </tr>\n",
       "    <tr>\n",
       "      <th>3</th>\n",
       "      <td>01B</td>\n",
       "      <td>1639005</td>\n",
       "      <td>439405.0</td>\n",
       "      <td>01/18/1989</td>\n",
       "    </tr>\n",
       "    <tr>\n",
       "      <th>4</th>\n",
       "      <td>07A</td>\n",
       "      <td>0481002</td>\n",
       "      <td>61367.0</td>\n",
       "      <td>NaN</td>\n",
       "    </tr>\n",
       "    <tr>\n",
       "      <th>5</th>\n",
       "      <td>07B</td>\n",
       "      <td>0605025A</td>\n",
       "      <td>730595.0</td>\n",
       "      <td>04/26/1920</td>\n",
       "    </tr>\n",
       "    <tr>\n",
       "      <th>6</th>\n",
       "      <td>05H</td>\n",
       "      <td>2719019A</td>\n",
       "      <td>780579.0</td>\n",
       "      <td>12/02/1930</td>\n",
       "    </tr>\n",
       "    <tr>\n",
       "      <th>7</th>\n",
       "      <td>05B</td>\n",
       "      <td>1268045</td>\n",
       "      <td>802249.0</td>\n",
       "      <td>07/14/1960</td>\n",
       "    </tr>\n",
       "    <tr>\n",
       "      <th>8</th>\n",
       "      <td>02F</td>\n",
       "      <td>1752009</td>\n",
       "      <td>32164.0</td>\n",
       "      <td>NaN</td>\n",
       "    </tr>\n",
       "    <tr>\n",
       "      <th>9</th>\n",
       "      <td>09C</td>\n",
       "      <td>3591008A</td>\n",
       "      <td>303627.0</td>\n",
       "      <td>12/23/1998</td>\n",
       "    </tr>\n",
       "    <tr>\n",
       "      <th>10</th>\n",
       "      <td>05M</td>\n",
       "      <td>3533040</td>\n",
       "      <td>23916.0</td>\n",
       "      <td>NaN</td>\n",
       "    </tr>\n",
       "    <tr>\n",
       "      <th>11</th>\n",
       "      <td>06B</td>\n",
       "      <td>0826002</td>\n",
       "      <td>243117.0</td>\n",
       "      <td>04/17/1997</td>\n",
       "    </tr>\n",
       "    <tr>\n",
       "      <th>12</th>\n",
       "      <td>08E</td>\n",
       "      <td>0499001F</td>\n",
       "      <td>64140.0</td>\n",
       "      <td>NaN</td>\n",
       "    </tr>\n",
       "    <tr>\n",
       "      <th>13</th>\n",
       "      <td>08E</td>\n",
       "      <td>0499001F</td>\n",
       "      <td>64140.0</td>\n",
       "      <td>NaN</td>\n",
       "    </tr>\n",
       "    <tr>\n",
       "      <th>14</th>\n",
       "      <td>08E</td>\n",
       "      <td>0499001F</td>\n",
       "      <td>64140.0</td>\n",
       "      <td>NaN</td>\n",
       "    </tr>\n",
       "    <tr>\n",
       "      <th>15</th>\n",
       "      <td>08E</td>\n",
       "      <td>0499001F</td>\n",
       "      <td>64140.0</td>\n",
       "      <td>NaN</td>\n",
       "    </tr>\n",
       "    <tr>\n",
       "      <th>16</th>\n",
       "      <td>08E</td>\n",
       "      <td>0499001F</td>\n",
       "      <td>64140.0</td>\n",
       "      <td>NaN</td>\n",
       "    </tr>\n",
       "    <tr>\n",
       "      <th>17</th>\n",
       "      <td>08E</td>\n",
       "      <td>0499001F</td>\n",
       "      <td>64140.0</td>\n",
       "      <td>NaN</td>\n",
       "    </tr>\n",
       "    <tr>\n",
       "      <th>18</th>\n",
       "      <td>08C</td>\n",
       "      <td>0157048</td>\n",
       "      <td>414280.0</td>\n",
       "      <td>NaN</td>\n",
       "    </tr>\n",
       "    <tr>\n",
       "      <th>19</th>\n",
       "      <td>08G</td>\n",
       "      <td>0133016</td>\n",
       "      <td>1020000.0</td>\n",
       "      <td>09/13/2013</td>\n",
       "    </tr>\n",
       "    <tr>\n",
       "      <th>20</th>\n",
       "      <td>07B</td>\n",
       "      <td>0593001A</td>\n",
       "      <td>845821.0</td>\n",
       "      <td>12/23/1994</td>\n",
       "    </tr>\n",
       "    <tr>\n",
       "      <th>21</th>\n",
       "      <td>05D</td>\n",
       "      <td>2718010</td>\n",
       "      <td>53611.0</td>\n",
       "      <td>NaN</td>\n",
       "    </tr>\n",
       "    <tr>\n",
       "      <th>22</th>\n",
       "      <td>09E</td>\n",
       "      <td>4064018</td>\n",
       "      <td>34476.0</td>\n",
       "      <td>NaN</td>\n",
       "    </tr>\n",
       "    <tr>\n",
       "      <th>23</th>\n",
       "      <td>05A</td>\n",
       "      <td>7547032</td>\n",
       "      <td>494766.0</td>\n",
       "      <td>NaN</td>\n",
       "    </tr>\n",
       "    <tr>\n",
       "      <th>24</th>\n",
       "      <td>08A</td>\n",
       "      <td>0669006</td>\n",
       "      <td>147667.0</td>\n",
       "      <td>NaN</td>\n",
       "    </tr>\n",
       "    <tr>\n",
       "      <th>25</th>\n",
       "      <td>05A</td>\n",
       "      <td>6717015</td>\n",
       "      <td>58104.0</td>\n",
       "      <td>NaN</td>\n",
       "    </tr>\n",
       "    <tr>\n",
       "      <th>26</th>\n",
       "      <td>08C</td>\n",
       "      <td>0186005</td>\n",
       "      <td>611828.0</td>\n",
       "      <td>09/04/1998</td>\n",
       "    </tr>\n",
       "    <tr>\n",
       "      <th>27</th>\n",
       "      <td>05B</td>\n",
       "      <td>1255019</td>\n",
       "      <td>1757715.0</td>\n",
       "      <td>05/02/1991</td>\n",
       "    </tr>\n",
       "    <tr>\n",
       "      <th>28</th>\n",
       "      <td>05B</td>\n",
       "      <td>1255019</td>\n",
       "      <td>1757715.0</td>\n",
       "      <td>05/02/1991</td>\n",
       "    </tr>\n",
       "    <tr>\n",
       "      <th>29</th>\n",
       "      <td>05B</td>\n",
       "      <td>1255019</td>\n",
       "      <td>1757715.0</td>\n",
       "      <td>05/02/1991</td>\n",
       "    </tr>\n",
       "    <tr>\n",
       "      <th>...</th>\n",
       "      <td>...</td>\n",
       "      <td>...</td>\n",
       "      <td>...</td>\n",
       "      <td>...</td>\n",
       "    </tr>\n",
       "    <tr>\n",
       "      <th>167246</th>\n",
       "      <td>05K</td>\n",
       "      <td>3622058</td>\n",
       "      <td>971879.0</td>\n",
       "      <td>11/09/1950</td>\n",
       "    </tr>\n",
       "    <tr>\n",
       "      <th>167247</th>\n",
       "      <td>09C</td>\n",
       "      <td>4144031</td>\n",
       "      <td>848637.0</td>\n",
       "      <td>11/08/1941</td>\n",
       "    </tr>\n",
       "    <tr>\n",
       "      <th>167248</th>\n",
       "      <td>08A</td>\n",
       "      <td>0250018</td>\n",
       "      <td>934141.0</td>\n",
       "      <td>01/08/1961</td>\n",
       "    </tr>\n",
       "    <tr>\n",
       "      <th>167249</th>\n",
       "      <td>08G</td>\n",
       "      <td>0116054</td>\n",
       "      <td>56154.0</td>\n",
       "      <td>NaN</td>\n",
       "    </tr>\n",
       "    <tr>\n",
       "      <th>167250</th>\n",
       "      <td>05E</td>\n",
       "      <td>1281006</td>\n",
       "      <td>43959.0</td>\n",
       "      <td>NaN</td>\n",
       "    </tr>\n",
       "    <tr>\n",
       "      <th>167251</th>\n",
       "      <td>09G</td>\n",
       "      <td>5720036</td>\n",
       "      <td>136121.0</td>\n",
       "      <td>NaN</td>\n",
       "    </tr>\n",
       "    <tr>\n",
       "      <th>167252</th>\n",
       "      <td>07D</td>\n",
       "      <td>0939035</td>\n",
       "      <td>399913.0</td>\n",
       "      <td>09/29/1995</td>\n",
       "    </tr>\n",
       "    <tr>\n",
       "      <th>167253</th>\n",
       "      <td>05K</td>\n",
       "      <td>3583070</td>\n",
       "      <td>278350.0</td>\n",
       "      <td>NaN</td>\n",
       "    </tr>\n",
       "    <tr>\n",
       "      <th>167254</th>\n",
       "      <td>01G</td>\n",
       "      <td>1086032</td>\n",
       "      <td>86549.0</td>\n",
       "      <td>NaN</td>\n",
       "    </tr>\n",
       "    <tr>\n",
       "      <th>167255</th>\n",
       "      <td>06C</td>\n",
       "      <td>1053011</td>\n",
       "      <td>179020.0</td>\n",
       "      <td>07/31/1998</td>\n",
       "    </tr>\n",
       "    <tr>\n",
       "      <th>167256</th>\n",
       "      <td>09C</td>\n",
       "      <td>3576054</td>\n",
       "      <td>182150.0</td>\n",
       "      <td>12/11/1987</td>\n",
       "    </tr>\n",
       "    <tr>\n",
       "      <th>167257</th>\n",
       "      <td>08B</td>\n",
       "      <td>0226006</td>\n",
       "      <td>77051.0</td>\n",
       "      <td>NaN</td>\n",
       "    </tr>\n",
       "    <tr>\n",
       "      <th>167258</th>\n",
       "      <td>01A</td>\n",
       "      <td>1572020</td>\n",
       "      <td>210226.0</td>\n",
       "      <td>NaN</td>\n",
       "    </tr>\n",
       "    <tr>\n",
       "      <th>167259</th>\n",
       "      <td>08C</td>\n",
       "      <td>0155015</td>\n",
       "      <td>289155.0</td>\n",
       "      <td>04/23/1997</td>\n",
       "    </tr>\n",
       "    <tr>\n",
       "      <th>167260</th>\n",
       "      <td>09C</td>\n",
       "      <td>6532016</td>\n",
       "      <td>42535.0</td>\n",
       "      <td>NaN</td>\n",
       "    </tr>\n",
       "    <tr>\n",
       "      <th>167261</th>\n",
       "      <td>08E</td>\n",
       "      <td>0149015</td>\n",
       "      <td>77584.0</td>\n",
       "      <td>NaN</td>\n",
       "    </tr>\n",
       "    <tr>\n",
       "      <th>167262</th>\n",
       "      <td>09C</td>\n",
       "      <td>3596075</td>\n",
       "      <td>2117386.0</td>\n",
       "      <td>04/21/1960</td>\n",
       "    </tr>\n",
       "    <tr>\n",
       "      <th>167263</th>\n",
       "      <td>02B</td>\n",
       "      <td>2385043</td>\n",
       "      <td>164897.0</td>\n",
       "      <td>NaN</td>\n",
       "    </tr>\n",
       "    <tr>\n",
       "      <th>167264</th>\n",
       "      <td>09C</td>\n",
       "      <td>4152018</td>\n",
       "      <td>298801.0</td>\n",
       "      <td>11/04/1988</td>\n",
       "    </tr>\n",
       "    <tr>\n",
       "      <th>167265</th>\n",
       "      <td>10H</td>\n",
       "      <td>3211010</td>\n",
       "      <td>671058.0</td>\n",
       "      <td>07/17/1960</td>\n",
       "    </tr>\n",
       "    <tr>\n",
       "      <th>167266</th>\n",
       "      <td>07D</td>\n",
       "      <td>0536005</td>\n",
       "      <td>972512.0</td>\n",
       "      <td>04/09/1998</td>\n",
       "    </tr>\n",
       "    <tr>\n",
       "      <th>167267</th>\n",
       "      <td>08F</td>\n",
       "      <td>0672010</td>\n",
       "      <td>3509051.0</td>\n",
       "      <td>02/18/1931</td>\n",
       "    </tr>\n",
       "    <tr>\n",
       "      <th>167268</th>\n",
       "      <td>07B</td>\n",
       "      <td>0551009</td>\n",
       "      <td>278269.0</td>\n",
       "      <td>NaN</td>\n",
       "    </tr>\n",
       "    <tr>\n",
       "      <th>167269</th>\n",
       "      <td>07B</td>\n",
       "      <td>0551009</td>\n",
       "      <td>278269.0</td>\n",
       "      <td>NaN</td>\n",
       "    </tr>\n",
       "    <tr>\n",
       "      <th>167270</th>\n",
       "      <td>01D</td>\n",
       "      <td>1351017</td>\n",
       "      <td>1439996.0</td>\n",
       "      <td>NaN</td>\n",
       "    </tr>\n",
       "    <tr>\n",
       "      <th>167271</th>\n",
       "      <td>09C</td>\n",
       "      <td>6520014</td>\n",
       "      <td>765000.0</td>\n",
       "      <td>03/08/2012</td>\n",
       "    </tr>\n",
       "    <tr>\n",
       "      <th>167272</th>\n",
       "      <td>05E</td>\n",
       "      <td>1282013</td>\n",
       "      <td>63268.0</td>\n",
       "      <td>NaN</td>\n",
       "    </tr>\n",
       "    <tr>\n",
       "      <th>167273</th>\n",
       "      <td>02E</td>\n",
       "      <td>1774014</td>\n",
       "      <td>237818.0</td>\n",
       "      <td>02/25/1987</td>\n",
       "    </tr>\n",
       "    <tr>\n",
       "      <th>167274</th>\n",
       "      <td>05M</td>\n",
       "      <td>3577042</td>\n",
       "      <td>993671.0</td>\n",
       "      <td>05/07/1940</td>\n",
       "    </tr>\n",
       "    <tr>\n",
       "      <th>167275</th>\n",
       "      <td>10B</td>\n",
       "      <td>6475027</td>\n",
       "      <td>255246.0</td>\n",
       "      <td>NaN</td>\n",
       "    </tr>\n",
       "  </tbody>\n",
       "</table>\n",
       "<p>167276 rows × 4 columns</p>\n",
       "</div>"
      ],
      "text/plain": [
       "       Neighborhood Code Block and Lot Number  \\\n",
       "0                    05C              3651002   \n",
       "1                    02F              1846013   \n",
       "2                    01B              1551051   \n",
       "3                    01B              1639005   \n",
       "4                    07A              0481002   \n",
       "5                    07B             0605025A   \n",
       "6                    05H             2719019A   \n",
       "7                    05B              1268045   \n",
       "8                    02F              1752009   \n",
       "9                    09C             3591008A   \n",
       "10                   05M              3533040   \n",
       "11                   06B              0826002   \n",
       "12                   08E             0499001F   \n",
       "13                   08E             0499001F   \n",
       "14                   08E             0499001F   \n",
       "15                   08E             0499001F   \n",
       "16                   08E             0499001F   \n",
       "17                   08E             0499001F   \n",
       "18                   08C              0157048   \n",
       "19                   08G              0133016   \n",
       "20                   07B             0593001A   \n",
       "21                   05D              2718010   \n",
       "22                   09E              4064018   \n",
       "23                   05A              7547032   \n",
       "24                   08A              0669006   \n",
       "25                   05A              6717015   \n",
       "26                   08C              0186005   \n",
       "27                   05B              1255019   \n",
       "28                   05B              1255019   \n",
       "29                   05B              1255019   \n",
       "...                  ...                  ...   \n",
       "167246               05K              3622058   \n",
       "167247               09C              4144031   \n",
       "167248               08A              0250018   \n",
       "167249               08G              0116054   \n",
       "167250               05E              1281006   \n",
       "167251               09G              5720036   \n",
       "167252               07D              0939035   \n",
       "167253               05K              3583070   \n",
       "167254               01G              1086032   \n",
       "167255               06C              1053011   \n",
       "167256               09C              3576054   \n",
       "167257               08B              0226006   \n",
       "167258               01A              1572020   \n",
       "167259               08C              0155015   \n",
       "167260               09C              6532016   \n",
       "167261               08E              0149015   \n",
       "167262               09C              3596075   \n",
       "167263               02B              2385043   \n",
       "167264               09C              4152018   \n",
       "167265               10H              3211010   \n",
       "167266               07D              0536005   \n",
       "167267               08F              0672010   \n",
       "167268               07B              0551009   \n",
       "167269               07B              0551009   \n",
       "167270               01D              1351017   \n",
       "167271               09C              6520014   \n",
       "167272               05E              1282013   \n",
       "167273               02E              1774014   \n",
       "167274               05M              3577042   \n",
       "167275               10B              6475027   \n",
       "\n",
       "        Closed Roll Assessed Land Value Current Sales Date  \n",
       "0                               45891.0                NaN  \n",
       "1                              590915.0         02/15/1991  \n",
       "2                              134160.0                NaN  \n",
       "3                              439405.0         01/18/1989  \n",
       "4                               61367.0                NaN  \n",
       "5                              730595.0         04/26/1920  \n",
       "6                              780579.0         12/02/1930  \n",
       "7                              802249.0         07/14/1960  \n",
       "8                               32164.0                NaN  \n",
       "9                              303627.0         12/23/1998  \n",
       "10                              23916.0                NaN  \n",
       "11                             243117.0         04/17/1997  \n",
       "12                              64140.0                NaN  \n",
       "13                              64140.0                NaN  \n",
       "14                              64140.0                NaN  \n",
       "15                              64140.0                NaN  \n",
       "16                              64140.0                NaN  \n",
       "17                              64140.0                NaN  \n",
       "18                             414280.0                NaN  \n",
       "19                            1020000.0         09/13/2013  \n",
       "20                             845821.0         12/23/1994  \n",
       "21                              53611.0                NaN  \n",
       "22                              34476.0                NaN  \n",
       "23                             494766.0                NaN  \n",
       "24                             147667.0                NaN  \n",
       "25                              58104.0                NaN  \n",
       "26                             611828.0         09/04/1998  \n",
       "27                            1757715.0         05/02/1991  \n",
       "28                            1757715.0         05/02/1991  \n",
       "29                            1757715.0         05/02/1991  \n",
       "...                                 ...                ...  \n",
       "167246                         971879.0         11/09/1950  \n",
       "167247                         848637.0         11/08/1941  \n",
       "167248                         934141.0         01/08/1961  \n",
       "167249                          56154.0                NaN  \n",
       "167250                          43959.0                NaN  \n",
       "167251                         136121.0                NaN  \n",
       "167252                         399913.0         09/29/1995  \n",
       "167253                         278350.0                NaN  \n",
       "167254                          86549.0                NaN  \n",
       "167255                         179020.0         07/31/1998  \n",
       "167256                         182150.0         12/11/1987  \n",
       "167257                          77051.0                NaN  \n",
       "167258                         210226.0                NaN  \n",
       "167259                         289155.0         04/23/1997  \n",
       "167260                          42535.0                NaN  \n",
       "167261                          77584.0                NaN  \n",
       "167262                        2117386.0         04/21/1960  \n",
       "167263                         164897.0                NaN  \n",
       "167264                         298801.0         11/04/1988  \n",
       "167265                         671058.0         07/17/1960  \n",
       "167266                         972512.0         04/09/1998  \n",
       "167267                        3509051.0         02/18/1931  \n",
       "167268                         278269.0                NaN  \n",
       "167269                         278269.0                NaN  \n",
       "167270                        1439996.0                NaN  \n",
       "167271                         765000.0         03/08/2012  \n",
       "167272                          63268.0                NaN  \n",
       "167273                         237818.0         02/25/1987  \n",
       "167274                         993671.0         05/07/1940  \n",
       "167275                         255246.0                NaN  \n",
       "\n",
       "[167276 rows x 4 columns]"
      ]
     },
     "execution_count": 549,
     "metadata": {},
     "output_type": "execute_result"
    }
   ],
   "source": [
    "temp2[['Neighborhood Code', 'Block and Lot Number', 'Closed Roll Assessed Land Value', 'Current Sales Date']]"
   ]
  },
  {
   "cell_type": "code",
   "execution_count": 542,
   "metadata": {
    "collapsed": false
   },
   "outputs": [
    {
     "data": {
      "text/plain": [
       "array(['Closed Roll Fiscal Year', 'Property Location', 'Neighborhood Code',\n",
       "       'Neighborhood Code Definition', 'Block and Lot Number',\n",
       "       'Volume Number', 'Property Class Code',\n",
       "       'Property Class Code Definition', 'Year Property Built',\n",
       "       'Number of Bathrooms', 'Number of Bedrooms', 'Number of Rooms',\n",
       "       'Number of Stories', 'Number of Units',\n",
       "       'Characteristics Change Date', 'Zoning Code', 'Construction Type',\n",
       "       'Lot Depth', 'Lot Frontage', 'Property Area in Square Feet',\n",
       "       'Basement Area', 'Lot Area', 'Lot Code', 'Prior Sales Date',\n",
       "       'Recordation Date', 'Document Number', 'Document Number 2',\n",
       "       'Tax Rate Area Code', 'Percent of Ownership',\n",
       "       'Closed Roll Exemption Type Code',\n",
       "       'Closed Roll Exemption Type Code Definition',\n",
       "       'Closed Roll Status Code', 'Closed Roll Misc Exemption Value',\n",
       "       'Closed Roll Homeowner Exemption Value', 'Current Sales Date',\n",
       "       'Closed Roll Assessed Fixtures Value',\n",
       "       'Closed Roll Assessed Improvement Value',\n",
       "       'Closed Roll Assessed Land Value',\n",
       "       'Closed Roll Assessed Personal Prop Value', 'Zipcode of Parcel',\n",
       "       'Supervisor District', 'Neighborhoods - Analysis Boundaries',\n",
       "       'Location', 'year', 'Complaint Number', 'Date Filed_x', 'Block_x',\n",
       "       'Lot_x', 'Street Number_x', 'Street Name_x', 'Street Suffix_x',\n",
       "       'Unit_x', 'Complaint Description', 'Status_x', 'NOV Type',\n",
       "       'Receiving Division_x', 'Assigned Division_x',\n",
       "       'Date 1st NOV Issued', 'Date 2nd NOV Issued',\n",
       "       'Date Referred to City Attorney', 'Director Hearing Date',\n",
       "       'Last Inspection Date', 'Date Abated', 'Closed Date',\n",
       "       'Neighborhoods - Analysis Boundaries_x', 'Supervisor District_x',\n",
       "       'Zipcode_x', 'Location_x', 'Item Sequence Number', 'Date Filed_y',\n",
       "       'Block_y', 'Lot_y', 'Street Number_y', 'Street Name_y',\n",
       "       'Street Suffix_y', 'Unit_y', 'Status_y', 'Item',\n",
       "       'Assigned Division_y', 'Receiving Division_y',\n",
       "       'NOV Category Description', 'NOV Item Description',\n",
       "       'Neighborhoods - Analysis Boundaries_y', 'Supervisor District_y',\n",
       "       'Zipcode_y', 'Location_y'], dtype=object)"
      ]
     },
     "execution_count": 542,
     "metadata": {},
     "output_type": "execute_result"
    }
   ],
   "source": [
    "temp2.columns.values"
   ]
  },
  {
   "cell_type": "code",
   "execution_count": 550,
   "metadata": {
    "collapsed": false
   },
   "outputs": [],
   "source": [
    "vio_counts = temp2.groupby(['Block and Lot Number', \n",
    "                                    'year'], as_index=False).agg({'Complaint Number':['count'], \n",
    "                                                                  'Number of Units':['mean'], \n",
    "                                                                  'NOV Type': 'first', 'Location': 'first', \n",
    "                                                                  'Date Filed_x': 'first', \n",
    "                                                                  'Neighborhood Code': 'first',\n",
    "                                                                  'Closed Roll Assessed Land Value': 'first',\n",
    "                                                                  'Current Sales Date': 'first'})"
   ]
  },
  {
   "cell_type": "code",
   "execution_count": 551,
   "metadata": {
    "collapsed": false
   },
   "outputs": [],
   "source": [
    "vio_counts['lat'] = vio_counts['Location']['first'].str.split(',').str[0].str.replace('(', '').astype(float)\n",
    "vio_counts['lon'] = vio_counts['Location']['first'].str.split(',').str[1].str.replace(')', '').astype(float)"
   ]
  },
  {
   "cell_type": "markdown",
   "metadata": {},
   "source": [
    "Read in Shapefiles"
   ]
  },
  {
   "cell_type": "code",
   "execution_count": 456,
   "metadata": {
    "collapsed": true
   },
   "outputs": [],
   "source": [
    "n_reader = sf.Reader('datasets/neighborhoods/geo_export_565bd83a-4c34-4e72-87e1-899e28098e15.shp')\n",
    "n_records = pd.DataFrame(n_reader.records())\n",
    "n_shapes = n_reader.shapes()"
   ]
  },
  {
   "cell_type": "code",
   "execution_count": 480,
   "metadata": {
    "collapsed": false,
    "scrolled": true
   },
   "outputs": [
    {
     "data": {
      "text/plain": [
       "<matplotlib.colorbar.Colorbar at 0x1a18ee3d0>"
      ]
     },
     "execution_count": 480,
     "metadata": {},
     "output_type": "execute_result"
    },
    {
     "data": {
      "image/png": "[encoded data removed]",
      "text/plain": [
       "<matplotlib.figure.Figure at 0x1991f9410>"
      ]
     },
     "metadata": {},
     "output_type": "display_data"
    }
   ],
   "source": [
    "fig,ax = plt.subplots(1,1, figsize=(15,15))\n",
    "\n",
    "patches1 = []\n",
    "for i in range(0,len(n_shapes)): \n",
    "    if len(n_shapes[i].parts)>1: \n",
    "        temp = n_shapes[i].parts\n",
    "        for j in range(1, len(temp)): \n",
    "            barf = pd.DataFrame(n_shapes[i].points[temp[j-1]:temp[j]])\n",
    "            poly = plt.Polygon(barf[[0,1]], fc='k', ec='k', alpha=1.0, lw=0.9, zorder=2)\n",
    "            patches1.append(poly)\n",
    "            plt.gca().add_patch(poly)    \n",
    "            if (j == len(temp)-1): \n",
    "                barf = pd.DataFrame(n_shapes[i].points[temp[j]:])\n",
    "                poly = plt.Polygon(barf[[0,1]], fc='k', ec='k', alpha=1.0, lw=0.9, zorder=2)\n",
    "                patches1.append(poly)\n",
    "                plt.gca().add_patch(poly)                    \n",
    "    else: \n",
    "        barf = pd.DataFrame(n_shapes[i].points)\n",
    "        poly = plt.Polygon(barf[[0,1]], fc='k', ec='k', alpha=1.0, lw=0.9, zorder=2)\n",
    "        patches1.append(poly)\n",
    "        plt.gca().add_patch(poly)\n",
    "    \n",
    "    #cenx = np.average([n_shapes[i].bbox[0], n_shapes[i].bbox[2]]) \n",
    "    #ceny = np.average([n_shapes[i].bbox[1], n_shapes[i].bbox[3]])\n",
    "    #ax.annotate(n_reader.records()[i][0], xy=(cenx, ceny), xytext=(cenx-0.005, ceny))\n",
    "\n",
    "    \n",
    "plt.axis('scaled')\n",
    "plt.xlim(-122.52, -122.34)\n",
    "#plt.ylim(37.8, 37.82)\n",
    "#plt.xlim(-122.45, -122.4)\n",
    "plt.xlabel('Longitude', fontsize=16)\n",
    "plt.ylabel('Latitude', fontsize=16)\n",
    "\n",
    "# Set the X tick labels so they're useful! \n",
    "x_vals = [-122.5, -122.45, -122.4, -122.35, -122.3]\n",
    "labels = ['-122.5', '-122.45', '-122.4','-122.35', '-122.3']\n",
    "ax.set_xticks(x_vals)\n",
    "ax.set_xticklabels(labels)\n",
    "\n",
    "\n",
    "plt.hexbin(vio_counts['lon'], vio_counts['lat'], gridsize=75, cmap='inferno', \n",
    "           C=vio_counts['Complaint Number']['count'], \n",
    "           reduce_C_function = np.sum,zorder=3)\n",
    "plt.colorbar(shrink=0.5, label='Number of Violations')\n"
   ]
  },
  {
   "cell_type": "code",
   "execution_count": 515,
   "metadata": {
    "collapsed": false
   },
   "outputs": [
    {
     "data": {
      "text/plain": [
       "<matplotlib.colorbar.Colorbar at 0x1a4fb5650>"
      ]
     },
     "execution_count": 515,
     "metadata": {},
     "output_type": "execute_result"
    },
    {
     "data": {
      "image/png": "[encoded data removed]",
      "text/plain": [
       "<matplotlib.figure.Figure at 0x1a494fc90>"
      ]
     },
     "metadata": {},
     "output_type": "display_data"
    }
   ],
   "source": [
    "cyear = 2013\n",
    "indexer = np.where(vio_counts['year']==cyear)[0]\n",
    "plt.hexbin(vio_counts.loc[indexer, 'lon'], vio_counts.loc[indexer, 'lat'], gridsize=75, cmap='inferno', \n",
    "           C=vio_counts.loc[indexer, 'Complaint Number']['count'], \n",
    "           reduce_C_function = np.sum, vmax=50)\n",
    "plt.colorbar()"
   ]
  },
  {
   "cell_type": "markdown",
   "metadata": {},
   "source": [
    "Now I'll start playing around with the modeling a bit. "
   ]
  },
  {
   "cell_type": "code",
   "execution_count": 585,
   "metadata": {
    "collapsed": true
   },
   "outputs": [],
   "source": [
    "from sklearn.ensemble import RandomForestRegressor"
   ]
  },
  {
   "cell_type": "code",
   "execution_count": 553,
   "metadata": {
    "collapsed": false
   },
   "outputs": [
    {
     "data": {
      "text/plain": [
       "array([('Block and Lot Number', ''), ('year', ''),\n",
       "       ('Date Filed_x', 'first'), ('Location', 'first'),\n",
       "       ('Complaint Number', 'count'), ('Number of Units', 'mean'),\n",
       "       ('Current Sales Date', 'first'), ('NOV Type', 'first'),\n",
       "       ('Closed Roll Assessed Land Value', 'first'),\n",
       "       ('Neighborhood Code', 'first'), ('lat', ''), ('lon', '')], dtype=object)"
      ]
     },
     "execution_count": 553,
     "metadata": {},
     "output_type": "execute_result"
    }
   ],
   "source": [
    "vio_counts.columns.values"
   ]
  },
  {
   "cell_type": "code",
   "execution_count": 554,
   "metadata": {
    "collapsed": false
   },
   "outputs": [
    {
     "data": {
      "text/plain": [
       "2007.0    19258\n",
       "2008.0    19185\n",
       "2009.0    19140\n",
       "2010.0    19071\n",
       "2011.0    18902\n",
       "2012.0    18965\n",
       "2013.0    18934\n",
       "2014.0     9007\n",
       "Name: year, dtype: int64"
      ]
     },
     "execution_count": 554,
     "metadata": {},
     "output_type": "execute_result"
    }
   ],
   "source": [
    "vio_counts['year'].value_counts().sort_index()"
   ]
  },
  {
   "cell_type": "code",
   "execution_count": 575,
   "metadata": {
    "collapsed": false
   },
   "outputs": [],
   "source": [
    "# Train/Test Split \n",
    "# Because time is a factor, I will select everything up until 2013 as my training. \n",
    "Xtrain_temp = vio_counts.loc[np.where(vio_counts['year']<2013)[0], [('Neighborhood Code', 'first'), \n",
    "                                                               ('Number of Units', 'mean'), \n",
    "                                                               ('Closed Roll Assessed Land Value', 'first')]]\n",
    "ytrain = vio_counts.loc[np.where(vio_counts['year']<2013)[0], [('Complaint Number', 'count')]]\n",
    "\n",
    "Xtest_temp = vio_counts.loc[np.where(vio_counts['year']>=2013)[0], [('Neighborhood Code', 'first'), \n",
    "                                                               ('Number of Units', 'mean'), \n",
    "                                                               ('Closed Roll Assessed Land Value', 'first')]]\n",
    "ytest = vio_counts.loc[np.where(vio_counts['year']>=2013)[0], [('Complaint Number', 'count')]]"
   ]
  },
  {
   "cell_type": "code",
   "execution_count": 578,
   "metadata": {
    "collapsed": false
   },
   "outputs": [],
   "source": [
    "Xtrain = pd.get_dummies(Xtrain_temp, columns = [('Neighborhood Code', 'first')] )\n",
    "Xtest = pd.get_dummies(Xtest_temp, columns = [('Neighborhood Code', 'first')] )"
   ]
  },
  {
   "cell_type": "code",
   "execution_count": 579,
   "metadata": {
    "collapsed": true
   },
   "outputs": [],
   "source": [
    "from sklearn.cross_validation import KFold, StratifiedKFold\n",
    "\n",
    "kf = KFold(len(Xtrain), n_folds=5, shuffle=True, random_state=42)\n"
   ]
  },
  {
   "cell_type": "code",
   "execution_count": 587,
   "metadata": {
    "collapsed": false,
    "scrolled": true
   },
   "outputs": [
    {
     "name": "stderr",
     "output_type": "stream",
     "text": [
      "/Users/kschles/anaconda/lib/python2.7/site-packages/ipykernel/__main__.py:3: DataConversionWarning: A column-vector y was passed when a 1d array was expected. Please change the shape of y to (n_samples,), for example using ravel().\n",
      "  app.launch_new_instance()\n"
     ]
    }
   ],
   "source": [
    "rfr = RandomForestRegressor(n_estimators=10)\n",
    "\n",
    "model = rfr.fit(Xtrain, ytrain)"
   ]
  },
  {
   "cell_type": "code",
   "execution_count": 592,
   "metadata": {
    "collapsed": false
   },
   "outputs": [
    {
     "data": {
      "text/plain": [
       "<matplotlib.text.Text at 0x1a4eb7ed0>"
      ]
     },
     "execution_count": 592,
     "metadata": {},
     "output_type": "execute_result"
    },
    {
     "data": {
      "image/png": "[encoded data removed]",
      "text/plain": [
       "<matplotlib.figure.Figure at 0x1b1b44f10>"
      ]
     },
     "metadata": {},
     "output_type": "display_data"
    }
   ],
   "source": [
    "plt.plot(ytest, model.predict(Xtest), 'k.')\n",
    "plt.xlabel('Number of Violations')\n",
    "plt.ylabel('Predicted Number of Violations')"
   ]
  },
  {
   "cell_type": "code",
   "execution_count": 594,
   "metadata": {
    "collapsed": false
   },
   "outputs": [
    {
     "ename": "ValueError",
     "evalue": "Wrong number of items passed 27941, placement implies 1",
     "output_type": "error",
     "traceback": [
      "\u001b[0;31m---------------------------------------------------------------------------\u001b[0m",
      "\u001b[0;31mValueError\u001b[0m                                Traceback (most recent call last)",
      "\u001b[0;32m<ipython-input-594-b921a9430a99>\u001b[0m in \u001b[0;36m<module>\u001b[0;34m()\u001b[0m\n\u001b[0;32m----> 1\u001b[0;31m \u001b[0mplt\u001b[0m\u001b[0;34m.\u001b[0m\u001b[0mhist\u001b[0m\u001b[0;34m(\u001b[0m\u001b[0;34m(\u001b[0m\u001b[0mytest\u001b[0m \u001b[0;34m-\u001b[0m \u001b[0mmodel\u001b[0m\u001b[0;34m.\u001b[0m\u001b[0mpredict\u001b[0m\u001b[0;34m(\u001b[0m\u001b[0mXtest\u001b[0m\u001b[0;34m)\u001b[0m\u001b[0;34m)\u001b[0m\u001b[0;34m,\u001b[0m \u001b[0mbins\u001b[0m\u001b[0;34m=\u001b[0m\u001b[0;36m20\u001b[0m\u001b[0;34m)\u001b[0m\u001b[0;34m\u001b[0m\u001b[0m\n\u001b[0m",
      "\u001b[0;32m/Users/kschles/anaconda/lib/python2.7/site-packages/pandas/core/ops.pyc\u001b[0m in \u001b[0;36mf\u001b[0;34m(self, other, axis, level, fill_value)\u001b[0m\n\u001b[1;32m   1079\u001b[0m                     \u001b[0;31m# casted = self._constructor_sliced(other,\u001b[0m\u001b[0;34m\u001b[0m\u001b[0;34m\u001b[0m\u001b[0m\n\u001b[1;32m   1080\u001b[0m                     \u001b[0;31m#                                   index=self.columns)\u001b[0m\u001b[0;34m\u001b[0m\u001b[0;34m\u001b[0m\u001b[0m\n\u001b[0;32m-> 1081\u001b[0;31m                     \u001b[0mcasted\u001b[0m \u001b[0;34m=\u001b[0m \u001b[0mpd\u001b[0m\u001b[0;34m.\u001b[0m\u001b[0mSeries\u001b[0m\u001b[0;34m(\u001b[0m\u001b[0mother\u001b[0m\u001b[0;34m,\u001b[0m \u001b[0mindex\u001b[0m\u001b[0;34m=\u001b[0m\u001b[0mself\u001b[0m\u001b[0;34m.\u001b[0m\u001b[0mcolumns\u001b[0m\u001b[0;34m)\u001b[0m\u001b[0;34m\u001b[0m\u001b[0m\n\u001b[0m\u001b[1;32m   1082\u001b[0m                 return self._combine_series(casted, na_op, fill_value, axis,\n\u001b[1;32m   1083\u001b[0m                                             level)\n",
      "\u001b[0;32m/Users/kschles/anaconda/lib/python2.7/site-packages/pandas/core/series.pyc\u001b[0m in \u001b[0;36m__init__\u001b[0;34m(self, data, index, dtype, name, copy, fastpath)\u001b[0m\n\u001b[1;32m    227\u001b[0m                                        raise_cast_failure=True)\n\u001b[1;32m    228\u001b[0m \u001b[0;34m\u001b[0m\u001b[0m\n\u001b[0;32m--> 229\u001b[0;31m                 \u001b[0mdata\u001b[0m \u001b[0;34m=\u001b[0m \u001b[0mSingleBlockManager\u001b[0m\u001b[0;34m(\u001b[0m\u001b[0mdata\u001b[0m\u001b[0;34m,\u001b[0m \u001b[0mindex\u001b[0m\u001b[0;34m,\u001b[0m \u001b[0mfastpath\u001b[0m\u001b[0;34m=\u001b[0m\u001b[0mTrue\u001b[0m\u001b[0;34m)\u001b[0m\u001b[0;34m\u001b[0m\u001b[0m\n\u001b[0m\u001b[1;32m    230\u001b[0m \u001b[0;34m\u001b[0m\u001b[0m\n\u001b[1;32m    231\u001b[0m         \u001b[0mgeneric\u001b[0m\u001b[0;34m.\u001b[0m\u001b[0mNDFrame\u001b[0m\u001b[0;34m.\u001b[0m\u001b[0m__init__\u001b[0m\u001b[0;34m(\u001b[0m\u001b[0mself\u001b[0m\u001b[0;34m,\u001b[0m \u001b[0mdata\u001b[0m\u001b[0;34m,\u001b[0m \u001b[0mfastpath\u001b[0m\u001b[0;34m=\u001b[0m\u001b[0mTrue\u001b[0m\u001b[0;34m)\u001b[0m\u001b[0;34m\u001b[0m\u001b[0m\n",
      "\u001b[0;32m/Users/kschles/anaconda/lib/python2.7/site-packages/pandas/core/internals.pyc\u001b[0m in \u001b[0;36m__init__\u001b[0;34m(self, block, axis, do_integrity_check, fastpath)\u001b[0m\n\u001b[1;32m   3815\u001b[0m         \u001b[0;32mif\u001b[0m \u001b[0;32mnot\u001b[0m \u001b[0misinstance\u001b[0m\u001b[0;34m(\u001b[0m\u001b[0mblock\u001b[0m\u001b[0;34m,\u001b[0m \u001b[0mBlock\u001b[0m\u001b[0;34m)\u001b[0m\u001b[0;34m:\u001b[0m\u001b[0;34m\u001b[0m\u001b[0m\n\u001b[1;32m   3816\u001b[0m             block = make_block(block, placement=slice(0, len(axis)), ndim=1,\n\u001b[0;32m-> 3817\u001b[0;31m                                fastpath=True)\n\u001b[0m\u001b[1;32m   3818\u001b[0m \u001b[0;34m\u001b[0m\u001b[0m\n\u001b[1;32m   3819\u001b[0m         \u001b[0mself\u001b[0m\u001b[0;34m.\u001b[0m\u001b[0mblocks\u001b[0m \u001b[0;34m=\u001b[0m \u001b[0;34m[\u001b[0m\u001b[0mblock\u001b[0m\u001b[0;34m]\u001b[0m\u001b[0;34m\u001b[0m\u001b[0m\n",
      "\u001b[0;32m/Users/kschles/anaconda/lib/python2.7/site-packages/pandas/core/internals.pyc\u001b[0m in \u001b[0;36mmake_block\u001b[0;34m(values, placement, klass, ndim, dtype, fastpath)\u001b[0m\n\u001b[1;32m   2516\u001b[0m                      placement=placement, dtype=dtype)\n\u001b[1;32m   2517\u001b[0m \u001b[0;34m\u001b[0m\u001b[0m\n\u001b[0;32m-> 2518\u001b[0;31m     \u001b[0;32mreturn\u001b[0m \u001b[0mklass\u001b[0m\u001b[0;34m(\u001b[0m\u001b[0mvalues\u001b[0m\u001b[0;34m,\u001b[0m \u001b[0mndim\u001b[0m\u001b[0;34m=\u001b[0m\u001b[0mndim\u001b[0m\u001b[0;34m,\u001b[0m \u001b[0mfastpath\u001b[0m\u001b[0;34m=\u001b[0m\u001b[0mfastpath\u001b[0m\u001b[0;34m,\u001b[0m \u001b[0mplacement\u001b[0m\u001b[0;34m=\u001b[0m\u001b[0mplacement\u001b[0m\u001b[0;34m)\u001b[0m\u001b[0;34m\u001b[0m\u001b[0m\n\u001b[0m\u001b[1;32m   2519\u001b[0m \u001b[0;34m\u001b[0m\u001b[0m\n\u001b[1;32m   2520\u001b[0m \u001b[0;31m# TODO: flexible with index=None and/or items=None\u001b[0m\u001b[0;34m\u001b[0m\u001b[0;34m\u001b[0m\u001b[0m\n",
      "\u001b[0;32m/Users/kschles/anaconda/lib/python2.7/site-packages/pandas/core/internals.pyc\u001b[0m in \u001b[0;36m__init__\u001b[0;34m(self, values, placement, ndim, fastpath)\u001b[0m\n\u001b[1;32m     88\u001b[0m             raise ValueError('Wrong number of items passed %d, placement '\n\u001b[1;32m     89\u001b[0m                              'implies %d' % (len(self.values),\n\u001b[0;32m---> 90\u001b[0;31m                                              len(self.mgr_locs)))\n\u001b[0m\u001b[1;32m     91\u001b[0m \u001b[0;34m\u001b[0m\u001b[0m\n\u001b[1;32m     92\u001b[0m     \u001b[0;34m@\u001b[0m\u001b[0mproperty\u001b[0m\u001b[0;34m\u001b[0m\u001b[0m\n",
      "\u001b[0;31mValueError\u001b[0m: Wrong number of items passed 27941, placement implies 1"
     ]
    }
   ],
   "source": [
    "plt.hist((ytest - model.predict(Xtest)), bins=20)"
   ]
  },
  {
   "cell_type": "code",
   "execution_count": null,
   "metadata": {
    "collapsed": true
   },
   "outputs": [],
   "source": []
  },
  {
   "cell_type": "code",
   "execution_count": 181,
   "metadata": {
    "collapsed": false
   },
   "outputs": [],
   "source": [
    "#his_violations[['Complaint Number', 'Block', 'Lot', 'Street Number', 'Street Name', 'Street Suffix', 'Unit']].sort_values(by=['Block', 'Lot'])"
   ]
  },
  {
   "cell_type": "code",
   "execution_count": 136,
   "metadata": {
    "collapsed": false
   },
   "outputs": [
    {
     "data": {
      "text/plain": [
       "array(['Complaint Number', 'Item Sequence Number', 'Date Filed', 'Block',\n",
       "       'Lot', 'Street Number', 'Street Name', 'Street Suffix', 'Unit',\n",
       "       'Status', 'Item', 'Assigned Division', 'Receiving Division',\n",
       "       'NOV Category Description', 'NOV Item Description',\n",
       "       'Neighborhoods - Analysis Boundaries', 'Supervisor District',\n",
       "       'Zipcode', 'Location', 'year'], dtype=object)"
      ]
     },
     "execution_count": 136,
     "metadata": {},
     "output_type": "execute_result"
    }
   ],
   "source": [
    "his_violations.columns.values"
   ]
  },
  {
   "cell_type": "code",
   "execution_count": 131,
   "metadata": {
    "collapsed": false
   },
   "outputs": [],
   "source": [
    "#his_complaints.loc[np.where(his_complaints['year']==2007)[0], '']"
   ]
  },
  {
   "cell_type": "code",
   "execution_count": null,
   "metadata": {
    "collapsed": true
   },
   "outputs": [],
   "source": []
  },
  {
   "cell_type": "code",
   "execution_count": 141,
   "metadata": {
    "collapsed": false
   },
   "outputs": [
    {
     "data": {
      "text/html": [
       "<div>\n",
       "<table border=\"1\" class=\"dataframe\">\n",
       "  <thead>\n",
       "    <tr style=\"text-align: right;\">\n",
       "      <th></th>\n",
       "      <th>Property Location</th>\n",
       "      <th>Block and Lot Number</th>\n",
       "    </tr>\n",
       "  </thead>\n",
       "  <tbody>\n",
       "    <tr>\n",
       "      <th>1410133</th>\n",
       "      <td>0000 3800 BEACH               ST0000</td>\n",
       "      <td>0013005</td>\n",
       "    </tr>\n",
       "    <tr>\n",
       "      <th>102510</th>\n",
       "      <td>0000 0710 NORTH POINT         ST0000</td>\n",
       "      <td>0024005</td>\n",
       "    </tr>\n",
       "    <tr>\n",
       "      <th>138042</th>\n",
       "      <td>0000 0764 NORTH POINT         ST0000</td>\n",
       "      <td>0024010</td>\n",
       "    </tr>\n",
       "    <tr>\n",
       "      <th>517659</th>\n",
       "      <td>2704 2700 HYDE                ST0000</td>\n",
       "      <td>0024011A</td>\n",
       "    </tr>\n",
       "    <tr>\n",
       "      <th>356995</th>\n",
       "      <td>2710 2706 HYDE                ST0000</td>\n",
       "      <td>0024011B</td>\n",
       "    </tr>\n",
       "    <tr>\n",
       "      <th>146262</th>\n",
       "      <td>2716 2714 HYDE                ST0000</td>\n",
       "      <td>0024011C</td>\n",
       "    </tr>\n",
       "    <tr>\n",
       "      <th>205446</th>\n",
       "      <td>2722A2720 HYDE                ST0000</td>\n",
       "      <td>0024011D</td>\n",
       "    </tr>\n",
       "    <tr>\n",
       "      <th>414333</th>\n",
       "      <td>1365 1363 COLUMBUS            AV0000</td>\n",
       "      <td>0024015</td>\n",
       "    </tr>\n",
       "    <tr>\n",
       "      <th>517066</th>\n",
       "      <td>0000 1331 COLUMBUS            AV0000</td>\n",
       "      <td>0024018</td>\n",
       "    </tr>\n",
       "    <tr>\n",
       "      <th>499829</th>\n",
       "      <td>0000 1325 COLUMBUS            AV0000</td>\n",
       "      <td>0024021</td>\n",
       "    </tr>\n",
       "    <tr>\n",
       "      <th>257393</th>\n",
       "      <td>0000 1321 COLUMBUS            AV0000</td>\n",
       "      <td>0024024</td>\n",
       "    </tr>\n",
       "    <tr>\n",
       "      <th>239952</th>\n",
       "      <td>2743 2741 HYDE                ST0000</td>\n",
       "      <td>0025003A</td>\n",
       "    </tr>\n",
       "    <tr>\n",
       "      <th>113404</th>\n",
       "      <td>2721 2719 HYDE                ST0000</td>\n",
       "      <td>0025004</td>\n",
       "    </tr>\n",
       "    <tr>\n",
       "      <th>257727</th>\n",
       "      <td>0000 2711 HYDE                ST0000</td>\n",
       "      <td>0025004A</td>\n",
       "    </tr>\n",
       "    <tr>\n",
       "      <th>160459</th>\n",
       "      <td>0818 0816 NORTH POINT         ST0000</td>\n",
       "      <td>0025004C</td>\n",
       "    </tr>\n",
       "    <tr>\n",
       "      <th>500194</th>\n",
       "      <td>0880 0872 NORTH POINT         ST0000</td>\n",
       "      <td>0025008</td>\n",
       "    </tr>\n",
       "    <tr>\n",
       "      <th>556831</th>\n",
       "      <td>0719 0717 BEACH               ST0000</td>\n",
       "      <td>0025019</td>\n",
       "    </tr>\n",
       "    <tr>\n",
       "      <th>218445</th>\n",
       "      <td>0000 3030 LARKIN              ST0000</td>\n",
       "      <td>0025023</td>\n",
       "    </tr>\n",
       "    <tr>\n",
       "      <th>22369</th>\n",
       "      <td>2643 2639 HYDE                ST0000</td>\n",
       "      <td>0026001A</td>\n",
       "    </tr>\n",
       "    <tr>\n",
       "      <th>439868</th>\n",
       "      <td>2637 2633 HYDE                ST0000</td>\n",
       "      <td>0026002</td>\n",
       "    </tr>\n",
       "    <tr>\n",
       "      <th>70503</th>\n",
       "      <td>2631 2627 HYDE                ST0000</td>\n",
       "      <td>0026003</td>\n",
       "    </tr>\n",
       "    <tr>\n",
       "      <th>100934</th>\n",
       "      <td>2623 2621 HYDE                ST0000</td>\n",
       "      <td>0026004</td>\n",
       "    </tr>\n",
       "    <tr>\n",
       "      <th>59960</th>\n",
       "      <td>2619 2615 HYDE                ST0000</td>\n",
       "      <td>0026005</td>\n",
       "    </tr>\n",
       "    <tr>\n",
       "      <th>535262</th>\n",
       "      <td>0000 0812 BAY                 ST0000</td>\n",
       "      <td>0026007</td>\n",
       "    </tr>\n",
       "    <tr>\n",
       "      <th>319179</th>\n",
       "      <td>0000 0828 BAY                 ST0000</td>\n",
       "      <td>0026010</td>\n",
       "    </tr>\n",
       "    <tr>\n",
       "      <th>206754</th>\n",
       "      <td>0842 0838 BAY                 ST0000</td>\n",
       "      <td>0026013</td>\n",
       "    </tr>\n",
       "    <tr>\n",
       "      <th>20348</th>\n",
       "      <td>2926 2914 LARKIN              ST0000</td>\n",
       "      <td>0026018</td>\n",
       "    </tr>\n",
       "    <tr>\n",
       "      <th>198157</th>\n",
       "      <td>0000 0865 NORTH POINT         ST0000</td>\n",
       "      <td>0026019C</td>\n",
       "    </tr>\n",
       "    <tr>\n",
       "      <th>159786</th>\n",
       "      <td>0859 0853 NORTH POINT         ST0000</td>\n",
       "      <td>0026021</td>\n",
       "    </tr>\n",
       "    <tr>\n",
       "      <th>200513</th>\n",
       "      <td>0851 0847 NORTH POINT         ST0000</td>\n",
       "      <td>0026022</td>\n",
       "    </tr>\n",
       "    <tr>\n",
       "      <th>...</th>\n",
       "      <td>...</td>\n",
       "      <td>...</td>\n",
       "    </tr>\n",
       "    <tr>\n",
       "      <th>837491</th>\n",
       "      <td>0000 3711 19TH                AV0000</td>\n",
       "      <td>7342001</td>\n",
       "    </tr>\n",
       "    <tr>\n",
       "      <th>1138954</th>\n",
       "      <td>0000 3711 19TH                AV0000</td>\n",
       "      <td>7343001</td>\n",
       "    </tr>\n",
       "    <tr>\n",
       "      <th>1237792</th>\n",
       "      <td>0000 3711 19TH                AV0000</td>\n",
       "      <td>7344001</td>\n",
       "    </tr>\n",
       "    <tr>\n",
       "      <th>1060007</th>\n",
       "      <td>0000 5157 DIAMOND HEIGHTS     BL0000</td>\n",
       "      <td>7501010</td>\n",
       "    </tr>\n",
       "    <tr>\n",
       "      <th>1008328</th>\n",
       "      <td>0000 5235 DIAMOND HEIGHTS     BL0000</td>\n",
       "      <td>7519018</td>\n",
       "    </tr>\n",
       "    <tr>\n",
       "      <th>885925</th>\n",
       "      <td>0000 5285 DIAMOND HEIGHTS     BL0000</td>\n",
       "      <td>7520015</td>\n",
       "    </tr>\n",
       "    <tr>\n",
       "      <th>1576009</th>\n",
       "      <td>0097 0005 BERKELEY            WY0000</td>\n",
       "      <td>7526102</td>\n",
       "    </tr>\n",
       "    <tr>\n",
       "      <th>1282829</th>\n",
       "      <td>0000 0049 GOLD MINE           DR0000</td>\n",
       "      <td>7535100</td>\n",
       "    </tr>\n",
       "    <tr>\n",
       "      <th>228461</th>\n",
       "      <td>0000 5411 DIAMOND HEIGHTS     BL0000</td>\n",
       "      <td>7539011</td>\n",
       "    </tr>\n",
       "    <tr>\n",
       "      <th>469632</th>\n",
       "      <td>0000 5401 DIAMOND HEIGHTS     BL0000</td>\n",
       "      <td>7539013</td>\n",
       "    </tr>\n",
       "    <tr>\n",
       "      <th>192490</th>\n",
       "      <td>0000 0165 BEACON              ST0000</td>\n",
       "      <td>7541007</td>\n",
       "    </tr>\n",
       "    <tr>\n",
       "      <th>56563</th>\n",
       "      <td>0078 0036 ADDISON             ST0000</td>\n",
       "      <td>7543031</td>\n",
       "    </tr>\n",
       "    <tr>\n",
       "      <th>487622</th>\n",
       "      <td>0188 0082 ADDISON             ST0000</td>\n",
       "      <td>7543100</td>\n",
       "    </tr>\n",
       "    <tr>\n",
       "      <th>168945</th>\n",
       "      <td>0000 0204 ADDISON             ST0000</td>\n",
       "      <td>7544045</td>\n",
       "    </tr>\n",
       "    <tr>\n",
       "      <th>450879</th>\n",
       "      <td>0000 0173 ADDISON             ST0000</td>\n",
       "      <td>7545040</td>\n",
       "    </tr>\n",
       "    <tr>\n",
       "      <th>238435</th>\n",
       "      <td>0126 0122 BEMIS               ST0000</td>\n",
       "      <td>7546003</td>\n",
       "    </tr>\n",
       "    <tr>\n",
       "      <th>193118</th>\n",
       "      <td>0157 0025 ADDISON             ST0000</td>\n",
       "      <td>7546102</td>\n",
       "    </tr>\n",
       "    <tr>\n",
       "      <th>161</th>\n",
       "      <td>0179 0125 BEMIS               ST0000</td>\n",
       "      <td>7547032</td>\n",
       "    </tr>\n",
       "    <tr>\n",
       "      <th>71400</th>\n",
       "      <td>0000 0246 BEMIS               ST0000</td>\n",
       "      <td>7548007</td>\n",
       "    </tr>\n",
       "    <tr>\n",
       "      <th>165739</th>\n",
       "      <td>0045 0009 MOFFITT             ST0000</td>\n",
       "      <td>7548033</td>\n",
       "    </tr>\n",
       "    <tr>\n",
       "      <th>368504</th>\n",
       "      <td>0000 0211 MORELAND            ST0000</td>\n",
       "      <td>7549021</td>\n",
       "    </tr>\n",
       "    <tr>\n",
       "      <th>560714</th>\n",
       "      <td>0248 0116 MORELAND            ST0000</td>\n",
       "      <td>7550102</td>\n",
       "    </tr>\n",
       "    <tr>\n",
       "      <th>291407</th>\n",
       "      <td>0290 0254 MORELAND            ST0000</td>\n",
       "      <td>7551102</td>\n",
       "    </tr>\n",
       "    <tr>\n",
       "      <th>296226</th>\n",
       "      <td>0215 0185 ARBOR               ST0000</td>\n",
       "      <td>7553043</td>\n",
       "    </tr>\n",
       "    <tr>\n",
       "      <th>322438</th>\n",
       "      <td>5697 5613 DIAMOND HEIGHTS     BL0000</td>\n",
       "      <td>7554103</td>\n",
       "    </tr>\n",
       "    <tr>\n",
       "      <th>560795</th>\n",
       "      <td>0393 0305 ARBOR               ST0000</td>\n",
       "      <td>7555101</td>\n",
       "    </tr>\n",
       "    <tr>\n",
       "      <th>344431</th>\n",
       "      <td>0000 0420 BERRY               ST0000</td>\n",
       "      <td>8703006</td>\n",
       "    </tr>\n",
       "    <tr>\n",
       "      <th>2314</th>\n",
       "      <td>0000 0301 KING                ST0000</td>\n",
       "      <td>8705007</td>\n",
       "    </tr>\n",
       "    <tr>\n",
       "      <th>352465</th>\n",
       "      <td>0000 0150 BERRY               ST0000</td>\n",
       "      <td>8706003</td>\n",
       "    </tr>\n",
       "    <tr>\n",
       "      <th>139229</th>\n",
       "      <td>0000 0355 BERRY               ST0000</td>\n",
       "      <td>8707003</td>\n",
       "    </tr>\n",
       "  </tbody>\n",
       "</table>\n",
       "<p>19258 rows × 2 columns</p>\n",
       "</div>"
      ],
      "text/plain": [
       "                            Property Location Block and Lot Number\n",
       "1410133  0000 3800 BEACH               ST0000              0013005\n",
       "102510   0000 0710 NORTH POINT         ST0000              0024005\n",
       "138042   0000 0764 NORTH POINT         ST0000              0024010\n",
       "517659   2704 2700 HYDE                ST0000             0024011A\n",
       "356995   2710 2706 HYDE                ST0000             0024011B\n",
       "146262   2716 2714 HYDE                ST0000             0024011C\n",
       "205446   2722A2720 HYDE                ST0000             0024011D\n",
       "414333   1365 1363 COLUMBUS            AV0000              0024015\n",
       "517066   0000 1331 COLUMBUS            AV0000              0024018\n",
       "499829   0000 1325 COLUMBUS            AV0000              0024021\n",
       "257393   0000 1321 COLUMBUS            AV0000              0024024\n",
       "239952   2743 2741 HYDE                ST0000             0025003A\n",
       "113404   2721 2719 HYDE                ST0000              0025004\n",
       "257727   0000 2711 HYDE                ST0000             0025004A\n",
       "160459   0818 0816 NORTH POINT         ST0000             0025004C\n",
       "500194   0880 0872 NORTH POINT         ST0000              0025008\n",
       "556831   0719 0717 BEACH               ST0000              0025019\n",
       "218445   0000 3030 LARKIN              ST0000              0025023\n",
       "22369    2643 2639 HYDE                ST0000             0026001A\n",
       "439868   2637 2633 HYDE                ST0000              0026002\n",
       "70503    2631 2627 HYDE                ST0000              0026003\n",
       "100934   2623 2621 HYDE                ST0000              0026004\n",
       "59960    2619 2615 HYDE                ST0000              0026005\n",
       "535262   0000 0812 BAY                 ST0000              0026007\n",
       "319179   0000 0828 BAY                 ST0000              0026010\n",
       "206754   0842 0838 BAY                 ST0000              0026013\n",
       "20348    2926 2914 LARKIN              ST0000              0026018\n",
       "198157   0000 0865 NORTH POINT         ST0000             0026019C\n",
       "159786   0859 0853 NORTH POINT         ST0000              0026021\n",
       "200513   0851 0847 NORTH POINT         ST0000              0026022\n",
       "...                                       ...                  ...\n",
       "837491   0000 3711 19TH                AV0000              7342001\n",
       "1138954  0000 3711 19TH                AV0000              7343001\n",
       "1237792  0000 3711 19TH                AV0000              7344001\n",
       "1060007  0000 5157 DIAMOND HEIGHTS     BL0000              7501010\n",
       "1008328  0000 5235 DIAMOND HEIGHTS     BL0000              7519018\n",
       "885925   0000 5285 DIAMOND HEIGHTS     BL0000              7520015\n",
       "1576009  0097 0005 BERKELEY            WY0000              7526102\n",
       "1282829  0000 0049 GOLD MINE           DR0000              7535100\n",
       "228461   0000 5411 DIAMOND HEIGHTS     BL0000              7539011\n",
       "469632   0000 5401 DIAMOND HEIGHTS     BL0000              7539013\n",
       "192490   0000 0165 BEACON              ST0000              7541007\n",
       "56563    0078 0036 ADDISON             ST0000              7543031\n",
       "487622   0188 0082 ADDISON             ST0000              7543100\n",
       "168945   0000 0204 ADDISON             ST0000              7544045\n",
       "450879   0000 0173 ADDISON             ST0000              7545040\n",
       "238435   0126 0122 BEMIS               ST0000              7546003\n",
       "193118   0157 0025 ADDISON             ST0000              7546102\n",
       "161      0179 0125 BEMIS               ST0000              7547032\n",
       "71400    0000 0246 BEMIS               ST0000              7548007\n",
       "165739   0045 0009 MOFFITT             ST0000              7548033\n",
       "368504   0000 0211 MORELAND            ST0000              7549021\n",
       "560714   0248 0116 MORELAND            ST0000              7550102\n",
       "291407   0290 0254 MORELAND            ST0000              7551102\n",
       "296226   0215 0185 ARBOR               ST0000              7553043\n",
       "322438   5697 5613 DIAMOND HEIGHTS     BL0000              7554103\n",
       "560795   0393 0305 ARBOR               ST0000              7555101\n",
       "344431   0000 0420 BERRY               ST0000              8703006\n",
       "2314     0000 0301 KING                ST0000              8705007\n",
       "352465   0000 0150 BERRY               ST0000              8706003\n",
       "139229   0000 0355 BERRY               ST0000              8707003\n",
       "\n",
       "[19258 rows x 2 columns]"
      ]
     },
     "execution_count": 141,
     "metadata": {},
     "output_type": "execute_result"
    }
   ],
   "source": [
    "pr_2007[['Property Location', 'Block and Lot Number']].sort_values(by='Block and Lot Number')"
   ]
  },
  {
   "cell_type": "code",
   "execution_count": 99,
   "metadata": {
    "collapsed": false
   },
   "outputs": [
    {
     "data": {
      "text/plain": [
       "array(['Closed Roll Fiscal Year', 'Property Location', 'Neighborhood Code',\n",
       "       'Neighborhood Code Definition', 'Block and Lot Number',\n",
       "       'Volume Number', 'Property Class Code',\n",
       "       'Property Class Code Definition', 'Year Property Built',\n",
       "       'Number of Bathrooms', 'Number of Bedrooms', 'Number of Rooms',\n",
       "       'Number of Stories', 'Number of Units',\n",
       "       'Characteristics Change Date', 'Zoning Code', 'Construction Type',\n",
       "       'Lot Depth', 'Lot Frontage', 'Property Area in Square Feet',\n",
       "       'Basement Area', 'Lot Area', 'Lot Code', 'Prior Sales Date',\n",
       "       'Recordation Date', 'Document Number', 'Document Number 2',\n",
       "       'Tax Rate Area Code', 'Percent of Ownership',\n",
       "       'Closed Roll Exemption Type Code',\n",
       "       'Closed Roll Exemption Type Code Definition',\n",
       "       'Closed Roll Status Code', 'Closed Roll Misc Exemption Value',\n",
       "       'Closed Roll Homeowner Exemption Value', 'Current Sales Date',\n",
       "       'Closed Roll Assessed Fixtures Value',\n",
       "       'Closed Roll Assessed Improvement Value',\n",
       "       'Closed Roll Assessed Land Value',\n",
       "       'Closed Roll Assessed Personal Prop Value', 'Zipcode of Parcel',\n",
       "       'Supervisor District', 'Neighborhoods - Analysis Boundaries',\n",
       "       'Location'], dtype=object)"
      ]
     },
     "execution_count": 99,
     "metadata": {},
     "output_type": "execute_result"
    }
   ],
   "source": [
    "pr_2007.columns.values"
   ]
  },
  {
   "cell_type": "code",
   "execution_count": null,
   "metadata": {
    "collapsed": true
   },
   "outputs": [],
   "source": []
  },
  {
   "cell_type": "markdown",
   "metadata": {},
   "source": []
  },
  {
   "cell_type": "code",
   "execution_count": 13,
   "metadata": {
    "collapsed": false
   },
   "outputs": [
    {
     "data": {
      "text/plain": [
       "array(['Complaint Number', 'Date Filed', 'Block', 'Lot', 'Street Number',\n",
       "       'Street Name', 'Street Suffix', 'Unit', 'Complaint Description',\n",
       "       'Status', 'NOV Type', 'Receiving Division', 'Assigned Division',\n",
       "       'Date 1st NOV Issued', 'Date 2nd NOV Issued',\n",
       "       'Date Referred to City Attorney', 'Director Hearing Date',\n",
       "       'Last Inspection Date', 'Date Abated', 'Closed Date',\n",
       "       'Neighborhoods - Analysis Boundaries', 'Supervisor District',\n",
       "       'Zipcode', 'Location'], dtype=object)"
      ]
     },
     "execution_count": 13,
     "metadata": {},
     "output_type": "execute_result"
    }
   ],
   "source": [
    "his_complaints.columns.values"
   ]
  },
  {
   "cell_type": "code",
   "execution_count": 25,
   "metadata": {
    "collapsed": true
   },
   "outputs": [],
   "source": [
    "temp = pd.merge(his_complaints, his_violations, on='Complaint Number')"
   ]
  },
  {
   "cell_type": "markdown",
   "metadata": {},
   "source": [
    "1 complaint can link with multiple violations. "
   ]
  },
  {
   "cell_type": "code",
   "execution_count": 37,
   "metadata": {
    "collapsed": false
   },
   "outputs": [
    {
     "data": {
      "text/html": [
       "<div>\n",
       "<table border=\"1\" class=\"dataframe\">\n",
       "  <thead>\n",
       "    <tr style=\"text-align: right;\">\n",
       "      <th></th>\n",
       "      <th>Complaint Number</th>\n",
       "      <th>Date Filed_x</th>\n",
       "      <th>Block_x</th>\n",
       "      <th>Lot_x</th>\n",
       "      <th>Street Number_x</th>\n",
       "      <th>Street Name_x</th>\n",
       "      <th>Street Suffix_x</th>\n",
       "      <th>Unit_x</th>\n",
       "      <th>Complaint Description</th>\n",
       "      <th>Status_x</th>\n",
       "      <th>...</th>\n",
       "      <th>Status_y</th>\n",
       "      <th>Item</th>\n",
       "      <th>Assigned Division_y</th>\n",
       "      <th>Receiving Division_y</th>\n",
       "      <th>NOV Category Description</th>\n",
       "      <th>NOV Item Description</th>\n",
       "      <th>Neighborhoods - Analysis Boundaries_y</th>\n",
       "      <th>Supervisor District_y</th>\n",
       "      <th>Zipcode_y</th>\n",
       "      <th>Location_y</th>\n",
       "    </tr>\n",
       "  </thead>\n",
       "  <tbody>\n",
       "    <tr>\n",
       "      <th>149884</th>\n",
       "      <td>201644341</td>\n",
       "      <td>10/31/2016</td>\n",
       "      <td>5342</td>\n",
       "      <td>002</td>\n",
       "      <td>1750</td>\n",
       "      <td>Lane</td>\n",
       "      <td>St</td>\n",
       "      <td>NaN</td>\n",
       "      <td>there is a leaking coming from upstairs to dow...</td>\n",
       "      <td>active</td>\n",
       "      <td>...</td>\n",
       "      <td>active</td>\n",
       "      <td>inspector comments</td>\n",
       "      <td>Housing Inspection Services</td>\n",
       "      <td>Housing Inspection Services</td>\n",
       "      <td>other section</td>\n",
       "      <td>it is the property owner's responsibility to b...</td>\n",
       "      <td>Bayview Hunters Point</td>\n",
       "      <td>10.0</td>\n",
       "      <td>94124.0</td>\n",
       "      <td>(37.7314270675413, -122.390670962039)</td>\n",
       "    </tr>\n",
       "    <tr>\n",
       "      <th>149885</th>\n",
       "      <td>201644341</td>\n",
       "      <td>10/31/2016</td>\n",
       "      <td>5342</td>\n",
       "      <td>002</td>\n",
       "      <td>1750</td>\n",
       "      <td>Lane</td>\n",
       "      <td>St</td>\n",
       "      <td>NaN</td>\n",
       "      <td>there is a leaking coming from upstairs to dow...</td>\n",
       "      <td>active</td>\n",
       "      <td>...</td>\n",
       "      <td>active</td>\n",
       "      <td>repair damaged door jamb (1001-b hc)</td>\n",
       "      <td>Housing Inspection Services</td>\n",
       "      <td>Housing Inspection Services</td>\n",
       "      <td>building section</td>\n",
       "      <td>replace damaged door jamb at front entry door.</td>\n",
       "      <td>Bayview Hunters Point</td>\n",
       "      <td>10.0</td>\n",
       "      <td>94124.0</td>\n",
       "      <td>(37.7314270675413, -122.390670962039)</td>\n",
       "    </tr>\n",
       "    <tr>\n",
       "      <th>149886</th>\n",
       "      <td>201644341</td>\n",
       "      <td>10/31/2016</td>\n",
       "      <td>5342</td>\n",
       "      <td>002</td>\n",
       "      <td>1750</td>\n",
       "      <td>Lane</td>\n",
       "      <td>St</td>\n",
       "      <td>NaN</td>\n",
       "      <td>there is a leaking coming from upstairs to dow...</td>\n",
       "      <td>active</td>\n",
       "      <td>...</td>\n",
       "      <td>active</td>\n",
       "      <td>repair toilet (1001f hc)</td>\n",
       "      <td>Housing Inspection Services</td>\n",
       "      <td>Housing Inspection Services</td>\n",
       "      <td>plumbing and electrical section</td>\n",
       "      <td>moisture is noted around closet bend  and wate...</td>\n",
       "      <td>Bayview Hunters Point</td>\n",
       "      <td>10.0</td>\n",
       "      <td>94124.0</td>\n",
       "      <td>(37.7314270675413, -122.390670962039)</td>\n",
       "    </tr>\n",
       "    <tr>\n",
       "      <th>149887</th>\n",
       "      <td>201644341</td>\n",
       "      <td>10/31/2016</td>\n",
       "      <td>5342</td>\n",
       "      <td>002</td>\n",
       "      <td>1750</td>\n",
       "      <td>Lane</td>\n",
       "      <td>St</td>\n",
       "      <td>NaN</td>\n",
       "      <td>there is a leaking coming from upstairs to dow...</td>\n",
       "      <td>active</td>\n",
       "      <td>...</td>\n",
       "      <td>active</td>\n",
       "      <td>this notice includes violations for the areas ...</td>\n",
       "      <td>Housing Inspection Services</td>\n",
       "      <td>Housing Inspection Services</td>\n",
       "      <td>building section</td>\n",
       "      <td>1750 lane st.</td>\n",
       "      <td>Bayview Hunters Point</td>\n",
       "      <td>10.0</td>\n",
       "      <td>94124.0</td>\n",
       "      <td>(37.7314270675413, -122.390670962039)</td>\n",
       "    </tr>\n",
       "    <tr>\n",
       "      <th>149888</th>\n",
       "      <td>201644341</td>\n",
       "      <td>10/31/2016</td>\n",
       "      <td>5342</td>\n",
       "      <td>002</td>\n",
       "      <td>1750</td>\n",
       "      <td>Lane</td>\n",
       "      <td>St</td>\n",
       "      <td>NaN</td>\n",
       "      <td>there is a leaking coming from upstairs to dow...</td>\n",
       "      <td>active</td>\n",
       "      <td>...</td>\n",
       "      <td>active</td>\n",
       "      <td>repair hot water heater (1001f hc)</td>\n",
       "      <td>Housing Inspection Services</td>\n",
       "      <td>Housing Inspection Services</td>\n",
       "      <td>plumbing and electrical section</td>\n",
       "      <td>replace or repair leaking hot water heater.  i...</td>\n",
       "      <td>Bayview Hunters Point</td>\n",
       "      <td>10.0</td>\n",
       "      <td>94124.0</td>\n",
       "      <td>(37.7314270675413, -122.390670962039)</td>\n",
       "    </tr>\n",
       "  </tbody>\n",
       "</table>\n",
       "<p>5 rows × 42 columns</p>\n",
       "</div>"
      ],
      "text/plain": [
       "       Complaint Number Date Filed_x Block_x Lot_x  Street Number_x  \\\n",
       "149884        201644341   10/31/2016    5342   002             1750   \n",
       "149885        201644341   10/31/2016    5342   002             1750   \n",
       "149886        201644341   10/31/2016    5342   002             1750   \n",
       "149887        201644341   10/31/2016    5342   002             1750   \n",
       "149888        201644341   10/31/2016    5342   002             1750   \n",
       "\n",
       "       Street Name_x Street Suffix_x  Unit_x  \\\n",
       "149884          Lane              St     NaN   \n",
       "149885          Lane              St     NaN   \n",
       "149886          Lane              St     NaN   \n",
       "149887          Lane              St     NaN   \n",
       "149888          Lane              St     NaN   \n",
       "\n",
       "                                    Complaint Description Status_x  \\\n",
       "149884  there is a leaking coming from upstairs to dow...   active   \n",
       "149885  there is a leaking coming from upstairs to dow...   active   \n",
       "149886  there is a leaking coming from upstairs to dow...   active   \n",
       "149887  there is a leaking coming from upstairs to dow...   active   \n",
       "149888  there is a leaking coming from upstairs to dow...   active   \n",
       "\n",
       "                        ...                   Status_y  \\\n",
       "149884                  ...                     active   \n",
       "149885                  ...                     active   \n",
       "149886                  ...                     active   \n",
       "149887                  ...                     active   \n",
       "149888                  ...                     active   \n",
       "\n",
       "                                                     Item  \\\n",
       "149884                                 inspector comments   \n",
       "149885               repair damaged door jamb (1001-b hc)   \n",
       "149886                           repair toilet (1001f hc)   \n",
       "149887  this notice includes violations for the areas ...   \n",
       "149888                 repair hot water heater (1001f hc)   \n",
       "\n",
       "                Assigned Division_y         Receiving Division_y  \\\n",
       "149884  Housing Inspection Services  Housing Inspection Services   \n",
       "149885  Housing Inspection Services  Housing Inspection Services   \n",
       "149886  Housing Inspection Services  Housing Inspection Services   \n",
       "149887  Housing Inspection Services  Housing Inspection Services   \n",
       "149888  Housing Inspection Services  Housing Inspection Services   \n",
       "\n",
       "               NOV Category Description  \\\n",
       "149884                    other section   \n",
       "149885                 building section   \n",
       "149886  plumbing and electrical section   \n",
       "149887                 building section   \n",
       "149888  plumbing and electrical section   \n",
       "\n",
       "                                     NOV Item Description  \\\n",
       "149884  it is the property owner's responsibility to b...   \n",
       "149885     replace damaged door jamb at front entry door.   \n",
       "149886  moisture is noted around closet bend  and wate...   \n",
       "149887                                      1750 lane st.   \n",
       "149888  replace or repair leaking hot water heater.  i...   \n",
       "\n",
       "       Neighborhoods - Analysis Boundaries_y Supervisor District_y Zipcode_y  \\\n",
       "149884                 Bayview Hunters Point                  10.0   94124.0   \n",
       "149885                 Bayview Hunters Point                  10.0   94124.0   \n",
       "149886                 Bayview Hunters Point                  10.0   94124.0   \n",
       "149887                 Bayview Hunters Point                  10.0   94124.0   \n",
       "149888                 Bayview Hunters Point                  10.0   94124.0   \n",
       "\n",
       "                                   Location_y  \n",
       "149884  (37.7314270675413, -122.390670962039)  \n",
       "149885  (37.7314270675413, -122.390670962039)  \n",
       "149886  (37.7314270675413, -122.390670962039)  \n",
       "149887  (37.7314270675413, -122.390670962039)  \n",
       "149888  (37.7314270675413, -122.390670962039)  \n",
       "\n",
       "[5 rows x 42 columns]"
      ]
     },
     "execution_count": 37,
     "metadata": {},
     "output_type": "execute_result"
    }
   ],
   "source": [
    "temp.tail()"
   ]
  },
  {
   "cell_type": "code",
   "execution_count": null,
   "metadata": {
    "collapsed": true
   },
   "outputs": [],
   "source": []
  }
 ],
 "metadata": {
  "anaconda-cloud": {},
  "kernelspec": {
   "display_name": "Python [default]",
   "language": "python",
   "name": "python2"
  },
  "language_info": {
   "codemirror_mode": {
    "name": "ipython",
    "version": 2
   },
   "file_extension": ".py",
   "mimetype": "text/x-python",
   "name": "python",
   "nbconvert_exporter": "python",
   "pygments_lexer": "ipython2",
   "version": "2.7.12"
  }
 },
 "nbformat": 4,
 "nbformat_minor": 1
}
